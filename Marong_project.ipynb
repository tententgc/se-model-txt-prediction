{
  "nbformat": 4,
  "nbformat_minor": 0,
  "metadata": {
    "colab": {
      "provenance": [],
      "gpuType": "T4",
      "include_colab_link": true
    },
    "kernelspec": {
      "name": "python3",
      "display_name": "Python 3"
    },
    "language_info": {
      "name": "python"
    },
    "accelerator": "GPU",
    "widgets": {
      "application/vnd.jupyter.widget-state+json": {
        "a6724587279843b3a16536c69fc85618": {
          "model_module": "@jupyter-widgets/controls",
          "model_name": "HBoxModel",
          "model_module_version": "1.5.0",
          "state": {
            "_dom_classes": [],
            "_model_module": "@jupyter-widgets/controls",
            "_model_module_version": "1.5.0",
            "_model_name": "HBoxModel",
            "_view_count": null,
            "_view_module": "@jupyter-widgets/controls",
            "_view_module_version": "1.5.0",
            "_view_name": "HBoxView",
            "box_style": "",
            "children": [
              "IPY_MODEL_01f36f9b598a4f80a69731bd0cf3ed9b",
              "IPY_MODEL_aed1f8c2577f4973b116b5112e728c05",
              "IPY_MODEL_1238a1bfe2204e55848ea49dbaf06250"
            ],
            "layout": "IPY_MODEL_fd19244ea6db45b19134c087604cfbdd"
          }
        },
        "01f36f9b598a4f80a69731bd0cf3ed9b": {
          "model_module": "@jupyter-widgets/controls",
          "model_name": "HTMLModel",
          "model_module_version": "1.5.0",
          "state": {
            "_dom_classes": [],
            "_model_module": "@jupyter-widgets/controls",
            "_model_module_version": "1.5.0",
            "_model_name": "HTMLModel",
            "_view_count": null,
            "_view_module": "@jupyter-widgets/controls",
            "_view_module_version": "1.5.0",
            "_view_name": "HTMLView",
            "description": "",
            "description_tooltip": null,
            "layout": "IPY_MODEL_46e646be91504e6486b7c8636ffc6920",
            "placeholder": "​",
            "style": "IPY_MODEL_4ca9728104d942dc9f36ba2ec02bcce4",
            "value": "config.json: 100%"
          }
        },
        "aed1f8c2577f4973b116b5112e728c05": {
          "model_module": "@jupyter-widgets/controls",
          "model_name": "FloatProgressModel",
          "model_module_version": "1.5.0",
          "state": {
            "_dom_classes": [],
            "_model_module": "@jupyter-widgets/controls",
            "_model_module_version": "1.5.0",
            "_model_name": "FloatProgressModel",
            "_view_count": null,
            "_view_module": "@jupyter-widgets/controls",
            "_view_module_version": "1.5.0",
            "_view_name": "ProgressView",
            "bar_style": "success",
            "description": "",
            "description_tooltip": null,
            "layout": "IPY_MODEL_542c8c5c63b64334aa4390ec9bdc14d3",
            "max": 642,
            "min": 0,
            "orientation": "horizontal",
            "style": "IPY_MODEL_33a426c3964d4d9e9052cbddb37f5d75",
            "value": 642
          }
        },
        "1238a1bfe2204e55848ea49dbaf06250": {
          "model_module": "@jupyter-widgets/controls",
          "model_name": "HTMLModel",
          "model_module_version": "1.5.0",
          "state": {
            "_dom_classes": [],
            "_model_module": "@jupyter-widgets/controls",
            "_model_module_version": "1.5.0",
            "_model_name": "HTMLModel",
            "_view_count": null,
            "_view_module": "@jupyter-widgets/controls",
            "_view_module_version": "1.5.0",
            "_view_name": "HTMLView",
            "description": "",
            "description_tooltip": null,
            "layout": "IPY_MODEL_f6bfa3b7b4b14891828da49a140bd802",
            "placeholder": "​",
            "style": "IPY_MODEL_0de3e42c22c04adaa13bc1f866e1f625",
            "value": " 642/642 [00:00&lt;00:00, 14.9kB/s]"
          }
        },
        "fd19244ea6db45b19134c087604cfbdd": {
          "model_module": "@jupyter-widgets/base",
          "model_name": "LayoutModel",
          "model_module_version": "1.2.0",
          "state": {
            "_model_module": "@jupyter-widgets/base",
            "_model_module_version": "1.2.0",
            "_model_name": "LayoutModel",
            "_view_count": null,
            "_view_module": "@jupyter-widgets/base",
            "_view_module_version": "1.2.0",
            "_view_name": "LayoutView",
            "align_content": null,
            "align_items": null,
            "align_self": null,
            "border": null,
            "bottom": null,
            "display": null,
            "flex": null,
            "flex_flow": null,
            "grid_area": null,
            "grid_auto_columns": null,
            "grid_auto_flow": null,
            "grid_auto_rows": null,
            "grid_column": null,
            "grid_gap": null,
            "grid_row": null,
            "grid_template_areas": null,
            "grid_template_columns": null,
            "grid_template_rows": null,
            "height": null,
            "justify_content": null,
            "justify_items": null,
            "left": null,
            "margin": null,
            "max_height": null,
            "max_width": null,
            "min_height": null,
            "min_width": null,
            "object_fit": null,
            "object_position": null,
            "order": null,
            "overflow": null,
            "overflow_x": null,
            "overflow_y": null,
            "padding": null,
            "right": null,
            "top": null,
            "visibility": null,
            "width": null
          }
        },
        "46e646be91504e6486b7c8636ffc6920": {
          "model_module": "@jupyter-widgets/base",
          "model_name": "LayoutModel",
          "model_module_version": "1.2.0",
          "state": {
            "_model_module": "@jupyter-widgets/base",
            "_model_module_version": "1.2.0",
            "_model_name": "LayoutModel",
            "_view_count": null,
            "_view_module": "@jupyter-widgets/base",
            "_view_module_version": "1.2.0",
            "_view_name": "LayoutView",
            "align_content": null,
            "align_items": null,
            "align_self": null,
            "border": null,
            "bottom": null,
            "display": null,
            "flex": null,
            "flex_flow": null,
            "grid_area": null,
            "grid_auto_columns": null,
            "grid_auto_flow": null,
            "grid_auto_rows": null,
            "grid_column": null,
            "grid_gap": null,
            "grid_row": null,
            "grid_template_areas": null,
            "grid_template_columns": null,
            "grid_template_rows": null,
            "height": null,
            "justify_content": null,
            "justify_items": null,
            "left": null,
            "margin": null,
            "max_height": null,
            "max_width": null,
            "min_height": null,
            "min_width": null,
            "object_fit": null,
            "object_position": null,
            "order": null,
            "overflow": null,
            "overflow_x": null,
            "overflow_y": null,
            "padding": null,
            "right": null,
            "top": null,
            "visibility": null,
            "width": null
          }
        },
        "4ca9728104d942dc9f36ba2ec02bcce4": {
          "model_module": "@jupyter-widgets/controls",
          "model_name": "DescriptionStyleModel",
          "model_module_version": "1.5.0",
          "state": {
            "_model_module": "@jupyter-widgets/controls",
            "_model_module_version": "1.5.0",
            "_model_name": "DescriptionStyleModel",
            "_view_count": null,
            "_view_module": "@jupyter-widgets/base",
            "_view_module_version": "1.2.0",
            "_view_name": "StyleView",
            "description_width": ""
          }
        },
        "542c8c5c63b64334aa4390ec9bdc14d3": {
          "model_module": "@jupyter-widgets/base",
          "model_name": "LayoutModel",
          "model_module_version": "1.2.0",
          "state": {
            "_model_module": "@jupyter-widgets/base",
            "_model_module_version": "1.2.0",
            "_model_name": "LayoutModel",
            "_view_count": null,
            "_view_module": "@jupyter-widgets/base",
            "_view_module_version": "1.2.0",
            "_view_name": "LayoutView",
            "align_content": null,
            "align_items": null,
            "align_self": null,
            "border": null,
            "bottom": null,
            "display": null,
            "flex": null,
            "flex_flow": null,
            "grid_area": null,
            "grid_auto_columns": null,
            "grid_auto_flow": null,
            "grid_auto_rows": null,
            "grid_column": null,
            "grid_gap": null,
            "grid_row": null,
            "grid_template_areas": null,
            "grid_template_columns": null,
            "grid_template_rows": null,
            "height": null,
            "justify_content": null,
            "justify_items": null,
            "left": null,
            "margin": null,
            "max_height": null,
            "max_width": null,
            "min_height": null,
            "min_width": null,
            "object_fit": null,
            "object_position": null,
            "order": null,
            "overflow": null,
            "overflow_x": null,
            "overflow_y": null,
            "padding": null,
            "right": null,
            "top": null,
            "visibility": null,
            "width": null
          }
        },
        "33a426c3964d4d9e9052cbddb37f5d75": {
          "model_module": "@jupyter-widgets/controls",
          "model_name": "ProgressStyleModel",
          "model_module_version": "1.5.0",
          "state": {
            "_model_module": "@jupyter-widgets/controls",
            "_model_module_version": "1.5.0",
            "_model_name": "ProgressStyleModel",
            "_view_count": null,
            "_view_module": "@jupyter-widgets/base",
            "_view_module_version": "1.2.0",
            "_view_name": "StyleView",
            "bar_color": null,
            "description_width": ""
          }
        },
        "f6bfa3b7b4b14891828da49a140bd802": {
          "model_module": "@jupyter-widgets/base",
          "model_name": "LayoutModel",
          "model_module_version": "1.2.0",
          "state": {
            "_model_module": "@jupyter-widgets/base",
            "_model_module_version": "1.2.0",
            "_model_name": "LayoutModel",
            "_view_count": null,
            "_view_module": "@jupyter-widgets/base",
            "_view_module_version": "1.2.0",
            "_view_name": "LayoutView",
            "align_content": null,
            "align_items": null,
            "align_self": null,
            "border": null,
            "bottom": null,
            "display": null,
            "flex": null,
            "flex_flow": null,
            "grid_area": null,
            "grid_auto_columns": null,
            "grid_auto_flow": null,
            "grid_auto_rows": null,
            "grid_column": null,
            "grid_gap": null,
            "grid_row": null,
            "grid_template_areas": null,
            "grid_template_columns": null,
            "grid_template_rows": null,
            "height": null,
            "justify_content": null,
            "justify_items": null,
            "left": null,
            "margin": null,
            "max_height": null,
            "max_width": null,
            "min_height": null,
            "min_width": null,
            "object_fit": null,
            "object_position": null,
            "order": null,
            "overflow": null,
            "overflow_x": null,
            "overflow_y": null,
            "padding": null,
            "right": null,
            "top": null,
            "visibility": null,
            "width": null
          }
        },
        "0de3e42c22c04adaa13bc1f866e1f625": {
          "model_module": "@jupyter-widgets/controls",
          "model_name": "DescriptionStyleModel",
          "model_module_version": "1.5.0",
          "state": {
            "_model_module": "@jupyter-widgets/controls",
            "_model_module_version": "1.5.0",
            "_model_name": "DescriptionStyleModel",
            "_view_count": null,
            "_view_module": "@jupyter-widgets/base",
            "_view_module_version": "1.2.0",
            "_view_name": "StyleView",
            "description_width": ""
          }
        },
        "ac595fff966f40349e38c9dfb18fe932": {
          "model_module": "@jupyter-widgets/controls",
          "model_name": "HBoxModel",
          "model_module_version": "1.5.0",
          "state": {
            "_dom_classes": [],
            "_model_module": "@jupyter-widgets/controls",
            "_model_module_version": "1.5.0",
            "_model_name": "HBoxModel",
            "_view_count": null,
            "_view_module": "@jupyter-widgets/controls",
            "_view_module_version": "1.5.0",
            "_view_name": "HBoxView",
            "box_style": "",
            "children": [
              "IPY_MODEL_445d11d8ffe642a3944d954534b981d1",
              "IPY_MODEL_eec9d4ebd5a44616847a3ebe0ca6c26d",
              "IPY_MODEL_f36c255892844117a0373999fbc69d98"
            ],
            "layout": "IPY_MODEL_22fdbf857e3c4f6ab1ab081a76c435c1"
          }
        },
        "445d11d8ffe642a3944d954534b981d1": {
          "model_module": "@jupyter-widgets/controls",
          "model_name": "HTMLModel",
          "model_module_version": "1.5.0",
          "state": {
            "_dom_classes": [],
            "_model_module": "@jupyter-widgets/controls",
            "_model_module_version": "1.5.0",
            "_model_name": "HTMLModel",
            "_view_count": null,
            "_view_module": "@jupyter-widgets/controls",
            "_view_module_version": "1.5.0",
            "_view_name": "HTMLView",
            "description": "",
            "description_tooltip": null,
            "layout": "IPY_MODEL_61671c0597bb4ad9b5182fe48e13c81d",
            "placeholder": "​",
            "style": "IPY_MODEL_52b5fa2c7ebb45efb1bf7e31f504f2b2",
            "value": "tokenizer_config.json: 100%"
          }
        },
        "eec9d4ebd5a44616847a3ebe0ca6c26d": {
          "model_module": "@jupyter-widgets/controls",
          "model_name": "FloatProgressModel",
          "model_module_version": "1.5.0",
          "state": {
            "_dom_classes": [],
            "_model_module": "@jupyter-widgets/controls",
            "_model_module_version": "1.5.0",
            "_model_name": "FloatProgressModel",
            "_view_count": null,
            "_view_module": "@jupyter-widgets/controls",
            "_view_module_version": "1.5.0",
            "_view_name": "ProgressView",
            "bar_style": "success",
            "description": "",
            "description_tooltip": null,
            "layout": "IPY_MODEL_577d1adc76864e9fbd6da0907a6c77f2",
            "max": 527,
            "min": 0,
            "orientation": "horizontal",
            "style": "IPY_MODEL_41790272b2c4478cae4398c46af0bf5c",
            "value": 527
          }
        },
        "f36c255892844117a0373999fbc69d98": {
          "model_module": "@jupyter-widgets/controls",
          "model_name": "HTMLModel",
          "model_module_version": "1.5.0",
          "state": {
            "_dom_classes": [],
            "_model_module": "@jupyter-widgets/controls",
            "_model_module_version": "1.5.0",
            "_model_name": "HTMLModel",
            "_view_count": null,
            "_view_module": "@jupyter-widgets/controls",
            "_view_module_version": "1.5.0",
            "_view_name": "HTMLView",
            "description": "",
            "description_tooltip": null,
            "layout": "IPY_MODEL_df3ecc9e09354784ae2fe41eb6d0384f",
            "placeholder": "​",
            "style": "IPY_MODEL_c753ce752c5d48d3b1c35f0d3415e8ce",
            "value": " 527/527 [00:00&lt;00:00, 24.1kB/s]"
          }
        },
        "22fdbf857e3c4f6ab1ab081a76c435c1": {
          "model_module": "@jupyter-widgets/base",
          "model_name": "LayoutModel",
          "model_module_version": "1.2.0",
          "state": {
            "_model_module": "@jupyter-widgets/base",
            "_model_module_version": "1.2.0",
            "_model_name": "LayoutModel",
            "_view_count": null,
            "_view_module": "@jupyter-widgets/base",
            "_view_module_version": "1.2.0",
            "_view_name": "LayoutView",
            "align_content": null,
            "align_items": null,
            "align_self": null,
            "border": null,
            "bottom": null,
            "display": null,
            "flex": null,
            "flex_flow": null,
            "grid_area": null,
            "grid_auto_columns": null,
            "grid_auto_flow": null,
            "grid_auto_rows": null,
            "grid_column": null,
            "grid_gap": null,
            "grid_row": null,
            "grid_template_areas": null,
            "grid_template_columns": null,
            "grid_template_rows": null,
            "height": null,
            "justify_content": null,
            "justify_items": null,
            "left": null,
            "margin": null,
            "max_height": null,
            "max_width": null,
            "min_height": null,
            "min_width": null,
            "object_fit": null,
            "object_position": null,
            "order": null,
            "overflow": null,
            "overflow_x": null,
            "overflow_y": null,
            "padding": null,
            "right": null,
            "top": null,
            "visibility": null,
            "width": null
          }
        },
        "61671c0597bb4ad9b5182fe48e13c81d": {
          "model_module": "@jupyter-widgets/base",
          "model_name": "LayoutModel",
          "model_module_version": "1.2.0",
          "state": {
            "_model_module": "@jupyter-widgets/base",
            "_model_module_version": "1.2.0",
            "_model_name": "LayoutModel",
            "_view_count": null,
            "_view_module": "@jupyter-widgets/base",
            "_view_module_version": "1.2.0",
            "_view_name": "LayoutView",
            "align_content": null,
            "align_items": null,
            "align_self": null,
            "border": null,
            "bottom": null,
            "display": null,
            "flex": null,
            "flex_flow": null,
            "grid_area": null,
            "grid_auto_columns": null,
            "grid_auto_flow": null,
            "grid_auto_rows": null,
            "grid_column": null,
            "grid_gap": null,
            "grid_row": null,
            "grid_template_areas": null,
            "grid_template_columns": null,
            "grid_template_rows": null,
            "height": null,
            "justify_content": null,
            "justify_items": null,
            "left": null,
            "margin": null,
            "max_height": null,
            "max_width": null,
            "min_height": null,
            "min_width": null,
            "object_fit": null,
            "object_position": null,
            "order": null,
            "overflow": null,
            "overflow_x": null,
            "overflow_y": null,
            "padding": null,
            "right": null,
            "top": null,
            "visibility": null,
            "width": null
          }
        },
        "52b5fa2c7ebb45efb1bf7e31f504f2b2": {
          "model_module": "@jupyter-widgets/controls",
          "model_name": "DescriptionStyleModel",
          "model_module_version": "1.5.0",
          "state": {
            "_model_module": "@jupyter-widgets/controls",
            "_model_module_version": "1.5.0",
            "_model_name": "DescriptionStyleModel",
            "_view_count": null,
            "_view_module": "@jupyter-widgets/base",
            "_view_module_version": "1.2.0",
            "_view_name": "StyleView",
            "description_width": ""
          }
        },
        "577d1adc76864e9fbd6da0907a6c77f2": {
          "model_module": "@jupyter-widgets/base",
          "model_name": "LayoutModel",
          "model_module_version": "1.2.0",
          "state": {
            "_model_module": "@jupyter-widgets/base",
            "_model_module_version": "1.2.0",
            "_model_name": "LayoutModel",
            "_view_count": null,
            "_view_module": "@jupyter-widgets/base",
            "_view_module_version": "1.2.0",
            "_view_name": "LayoutView",
            "align_content": null,
            "align_items": null,
            "align_self": null,
            "border": null,
            "bottom": null,
            "display": null,
            "flex": null,
            "flex_flow": null,
            "grid_area": null,
            "grid_auto_columns": null,
            "grid_auto_flow": null,
            "grid_auto_rows": null,
            "grid_column": null,
            "grid_gap": null,
            "grid_row": null,
            "grid_template_areas": null,
            "grid_template_columns": null,
            "grid_template_rows": null,
            "height": null,
            "justify_content": null,
            "justify_items": null,
            "left": null,
            "margin": null,
            "max_height": null,
            "max_width": null,
            "min_height": null,
            "min_width": null,
            "object_fit": null,
            "object_position": null,
            "order": null,
            "overflow": null,
            "overflow_x": null,
            "overflow_y": null,
            "padding": null,
            "right": null,
            "top": null,
            "visibility": null,
            "width": null
          }
        },
        "41790272b2c4478cae4398c46af0bf5c": {
          "model_module": "@jupyter-widgets/controls",
          "model_name": "ProgressStyleModel",
          "model_module_version": "1.5.0",
          "state": {
            "_model_module": "@jupyter-widgets/controls",
            "_model_module_version": "1.5.0",
            "_model_name": "ProgressStyleModel",
            "_view_count": null,
            "_view_module": "@jupyter-widgets/base",
            "_view_module_version": "1.2.0",
            "_view_name": "StyleView",
            "bar_color": null,
            "description_width": ""
          }
        },
        "df3ecc9e09354784ae2fe41eb6d0384f": {
          "model_module": "@jupyter-widgets/base",
          "model_name": "LayoutModel",
          "model_module_version": "1.2.0",
          "state": {
            "_model_module": "@jupyter-widgets/base",
            "_model_module_version": "1.2.0",
            "_model_name": "LayoutModel",
            "_view_count": null,
            "_view_module": "@jupyter-widgets/base",
            "_view_module_version": "1.2.0",
            "_view_name": "LayoutView",
            "align_content": null,
            "align_items": null,
            "align_self": null,
            "border": null,
            "bottom": null,
            "display": null,
            "flex": null,
            "flex_flow": null,
            "grid_area": null,
            "grid_auto_columns": null,
            "grid_auto_flow": null,
            "grid_auto_rows": null,
            "grid_column": null,
            "grid_gap": null,
            "grid_row": null,
            "grid_template_areas": null,
            "grid_template_columns": null,
            "grid_template_rows": null,
            "height": null,
            "justify_content": null,
            "justify_items": null,
            "left": null,
            "margin": null,
            "max_height": null,
            "max_width": null,
            "min_height": null,
            "min_width": null,
            "object_fit": null,
            "object_position": null,
            "order": null,
            "overflow": null,
            "overflow_x": null,
            "overflow_y": null,
            "padding": null,
            "right": null,
            "top": null,
            "visibility": null,
            "width": null
          }
        },
        "c753ce752c5d48d3b1c35f0d3415e8ce": {
          "model_module": "@jupyter-widgets/controls",
          "model_name": "DescriptionStyleModel",
          "model_module_version": "1.5.0",
          "state": {
            "_model_module": "@jupyter-widgets/controls",
            "_model_module_version": "1.5.0",
            "_model_name": "DescriptionStyleModel",
            "_view_count": null,
            "_view_module": "@jupyter-widgets/base",
            "_view_module_version": "1.2.0",
            "_view_name": "StyleView",
            "description_width": ""
          }
        },
        "991872530b7a4733ac6907f37de83f0c": {
          "model_module": "@jupyter-widgets/controls",
          "model_name": "HBoxModel",
          "model_module_version": "1.5.0",
          "state": {
            "_dom_classes": [],
            "_model_module": "@jupyter-widgets/controls",
            "_model_module_version": "1.5.0",
            "_model_name": "HBoxModel",
            "_view_count": null,
            "_view_module": "@jupyter-widgets/controls",
            "_view_module_version": "1.5.0",
            "_view_name": "HBoxView",
            "box_style": "",
            "children": [
              "IPY_MODEL_849d41673dde4bdcba16406a679e3186",
              "IPY_MODEL_64e4770c6d5648d58a507dbdc782b98f",
              "IPY_MODEL_82a7b1b874c5490ca499a7e4750409f6"
            ],
            "layout": "IPY_MODEL_9685cc47f984462c90f9eae79fc2363f"
          }
        },
        "849d41673dde4bdcba16406a679e3186": {
          "model_module": "@jupyter-widgets/controls",
          "model_name": "HTMLModel",
          "model_module_version": "1.5.0",
          "state": {
            "_dom_classes": [],
            "_model_module": "@jupyter-widgets/controls",
            "_model_module_version": "1.5.0",
            "_model_name": "HTMLModel",
            "_view_count": null,
            "_view_module": "@jupyter-widgets/controls",
            "_view_module_version": "1.5.0",
            "_view_name": "HTMLView",
            "description": "",
            "description_tooltip": null,
            "layout": "IPY_MODEL_d19e32bbb11e4b2a87ba77a97edce7f1",
            "placeholder": "​",
            "style": "IPY_MODEL_2a9c5bd629ab4d54969778ab7e9b0c79",
            "value": "sentencepiece.bpe.model: 100%"
          }
        },
        "64e4770c6d5648d58a507dbdc782b98f": {
          "model_module": "@jupyter-widgets/controls",
          "model_name": "FloatProgressModel",
          "model_module_version": "1.5.0",
          "state": {
            "_dom_classes": [],
            "_model_module": "@jupyter-widgets/controls",
            "_model_module_version": "1.5.0",
            "_model_name": "FloatProgressModel",
            "_view_count": null,
            "_view_module": "@jupyter-widgets/controls",
            "_view_module_version": "1.5.0",
            "_view_name": "ProgressView",
            "bar_style": "success",
            "description": "",
            "description_tooltip": null,
            "layout": "IPY_MODEL_1a60af4be78d4b95a0e6b177a7b24796",
            "max": 5261686,
            "min": 0,
            "orientation": "horizontal",
            "style": "IPY_MODEL_18cb01294fa3430f90acd8dbf3deb7dc",
            "value": 5261686
          }
        },
        "82a7b1b874c5490ca499a7e4750409f6": {
          "model_module": "@jupyter-widgets/controls",
          "model_name": "HTMLModel",
          "model_module_version": "1.5.0",
          "state": {
            "_dom_classes": [],
            "_model_module": "@jupyter-widgets/controls",
            "_model_module_version": "1.5.0",
            "_model_name": "HTMLModel",
            "_view_count": null,
            "_view_module": "@jupyter-widgets/controls",
            "_view_module_version": "1.5.0",
            "_view_name": "HTMLView",
            "description": "",
            "description_tooltip": null,
            "layout": "IPY_MODEL_2daf2f7d615947f586ac808794bab1bf",
            "placeholder": "​",
            "style": "IPY_MODEL_154065bce3734245ae3ad1cf744e423f",
            "value": " 5.26M/5.26M [00:00&lt;00:00, 12.2MB/s]"
          }
        },
        "9685cc47f984462c90f9eae79fc2363f": {
          "model_module": "@jupyter-widgets/base",
          "model_name": "LayoutModel",
          "model_module_version": "1.2.0",
          "state": {
            "_model_module": "@jupyter-widgets/base",
            "_model_module_version": "1.2.0",
            "_model_name": "LayoutModel",
            "_view_count": null,
            "_view_module": "@jupyter-widgets/base",
            "_view_module_version": "1.2.0",
            "_view_name": "LayoutView",
            "align_content": null,
            "align_items": null,
            "align_self": null,
            "border": null,
            "bottom": null,
            "display": null,
            "flex": null,
            "flex_flow": null,
            "grid_area": null,
            "grid_auto_columns": null,
            "grid_auto_flow": null,
            "grid_auto_rows": null,
            "grid_column": null,
            "grid_gap": null,
            "grid_row": null,
            "grid_template_areas": null,
            "grid_template_columns": null,
            "grid_template_rows": null,
            "height": null,
            "justify_content": null,
            "justify_items": null,
            "left": null,
            "margin": null,
            "max_height": null,
            "max_width": null,
            "min_height": null,
            "min_width": null,
            "object_fit": null,
            "object_position": null,
            "order": null,
            "overflow": null,
            "overflow_x": null,
            "overflow_y": null,
            "padding": null,
            "right": null,
            "top": null,
            "visibility": null,
            "width": null
          }
        },
        "d19e32bbb11e4b2a87ba77a97edce7f1": {
          "model_module": "@jupyter-widgets/base",
          "model_name": "LayoutModel",
          "model_module_version": "1.2.0",
          "state": {
            "_model_module": "@jupyter-widgets/base",
            "_model_module_version": "1.2.0",
            "_model_name": "LayoutModel",
            "_view_count": null,
            "_view_module": "@jupyter-widgets/base",
            "_view_module_version": "1.2.0",
            "_view_name": "LayoutView",
            "align_content": null,
            "align_items": null,
            "align_self": null,
            "border": null,
            "bottom": null,
            "display": null,
            "flex": null,
            "flex_flow": null,
            "grid_area": null,
            "grid_auto_columns": null,
            "grid_auto_flow": null,
            "grid_auto_rows": null,
            "grid_column": null,
            "grid_gap": null,
            "grid_row": null,
            "grid_template_areas": null,
            "grid_template_columns": null,
            "grid_template_rows": null,
            "height": null,
            "justify_content": null,
            "justify_items": null,
            "left": null,
            "margin": null,
            "max_height": null,
            "max_width": null,
            "min_height": null,
            "min_width": null,
            "object_fit": null,
            "object_position": null,
            "order": null,
            "overflow": null,
            "overflow_x": null,
            "overflow_y": null,
            "padding": null,
            "right": null,
            "top": null,
            "visibility": null,
            "width": null
          }
        },
        "2a9c5bd629ab4d54969778ab7e9b0c79": {
          "model_module": "@jupyter-widgets/controls",
          "model_name": "DescriptionStyleModel",
          "model_module_version": "1.5.0",
          "state": {
            "_model_module": "@jupyter-widgets/controls",
            "_model_module_version": "1.5.0",
            "_model_name": "DescriptionStyleModel",
            "_view_count": null,
            "_view_module": "@jupyter-widgets/base",
            "_view_module_version": "1.2.0",
            "_view_name": "StyleView",
            "description_width": ""
          }
        },
        "1a60af4be78d4b95a0e6b177a7b24796": {
          "model_module": "@jupyter-widgets/base",
          "model_name": "LayoutModel",
          "model_module_version": "1.2.0",
          "state": {
            "_model_module": "@jupyter-widgets/base",
            "_model_module_version": "1.2.0",
            "_model_name": "LayoutModel",
            "_view_count": null,
            "_view_module": "@jupyter-widgets/base",
            "_view_module_version": "1.2.0",
            "_view_name": "LayoutView",
            "align_content": null,
            "align_items": null,
            "align_self": null,
            "border": null,
            "bottom": null,
            "display": null,
            "flex": null,
            "flex_flow": null,
            "grid_area": null,
            "grid_auto_columns": null,
            "grid_auto_flow": null,
            "grid_auto_rows": null,
            "grid_column": null,
            "grid_gap": null,
            "grid_row": null,
            "grid_template_areas": null,
            "grid_template_columns": null,
            "grid_template_rows": null,
            "height": null,
            "justify_content": null,
            "justify_items": null,
            "left": null,
            "margin": null,
            "max_height": null,
            "max_width": null,
            "min_height": null,
            "min_width": null,
            "object_fit": null,
            "object_position": null,
            "order": null,
            "overflow": null,
            "overflow_x": null,
            "overflow_y": null,
            "padding": null,
            "right": null,
            "top": null,
            "visibility": null,
            "width": null
          }
        },
        "18cb01294fa3430f90acd8dbf3deb7dc": {
          "model_module": "@jupyter-widgets/controls",
          "model_name": "ProgressStyleModel",
          "model_module_version": "1.5.0",
          "state": {
            "_model_module": "@jupyter-widgets/controls",
            "_model_module_version": "1.5.0",
            "_model_name": "ProgressStyleModel",
            "_view_count": null,
            "_view_module": "@jupyter-widgets/base",
            "_view_module_version": "1.2.0",
            "_view_name": "StyleView",
            "bar_color": null,
            "description_width": ""
          }
        },
        "2daf2f7d615947f586ac808794bab1bf": {
          "model_module": "@jupyter-widgets/base",
          "model_name": "LayoutModel",
          "model_module_version": "1.2.0",
          "state": {
            "_model_module": "@jupyter-widgets/base",
            "_model_module_version": "1.2.0",
            "_model_name": "LayoutModel",
            "_view_count": null,
            "_view_module": "@jupyter-widgets/base",
            "_view_module_version": "1.2.0",
            "_view_name": "LayoutView",
            "align_content": null,
            "align_items": null,
            "align_self": null,
            "border": null,
            "bottom": null,
            "display": null,
            "flex": null,
            "flex_flow": null,
            "grid_area": null,
            "grid_auto_columns": null,
            "grid_auto_flow": null,
            "grid_auto_rows": null,
            "grid_column": null,
            "grid_gap": null,
            "grid_row": null,
            "grid_template_areas": null,
            "grid_template_columns": null,
            "grid_template_rows": null,
            "height": null,
            "justify_content": null,
            "justify_items": null,
            "left": null,
            "margin": null,
            "max_height": null,
            "max_width": null,
            "min_height": null,
            "min_width": null,
            "object_fit": null,
            "object_position": null,
            "order": null,
            "overflow": null,
            "overflow_x": null,
            "overflow_y": null,
            "padding": null,
            "right": null,
            "top": null,
            "visibility": null,
            "width": null
          }
        },
        "154065bce3734245ae3ad1cf744e423f": {
          "model_module": "@jupyter-widgets/controls",
          "model_name": "DescriptionStyleModel",
          "model_module_version": "1.5.0",
          "state": {
            "_model_module": "@jupyter-widgets/controls",
            "_model_module_version": "1.5.0",
            "_model_name": "DescriptionStyleModel",
            "_view_count": null,
            "_view_module": "@jupyter-widgets/base",
            "_view_module_version": "1.2.0",
            "_view_name": "StyleView",
            "description_width": ""
          }
        },
        "51b3b9fc858f4c80af45af8a716761d4": {
          "model_module": "@jupyter-widgets/controls",
          "model_name": "HBoxModel",
          "model_module_version": "1.5.0",
          "state": {
            "_dom_classes": [],
            "_model_module": "@jupyter-widgets/controls",
            "_model_module_version": "1.5.0",
            "_model_name": "HBoxModel",
            "_view_count": null,
            "_view_module": "@jupyter-widgets/controls",
            "_view_module_version": "1.5.0",
            "_view_name": "HBoxView",
            "box_style": "",
            "children": [
              "IPY_MODEL_8a6ba957eb5d44949a2d898b25248615",
              "IPY_MODEL_227add70966647a4ba7cf7b2edc865df",
              "IPY_MODEL_d16e3f83226d4a879eeecf6c70de2c27"
            ],
            "layout": "IPY_MODEL_54bb825bdf9f454e9409fe619023a91d"
          }
        },
        "8a6ba957eb5d44949a2d898b25248615": {
          "model_module": "@jupyter-widgets/controls",
          "model_name": "HTMLModel",
          "model_module_version": "1.5.0",
          "state": {
            "_dom_classes": [],
            "_model_module": "@jupyter-widgets/controls",
            "_model_module_version": "1.5.0",
            "_model_name": "HTMLModel",
            "_view_count": null,
            "_view_module": "@jupyter-widgets/controls",
            "_view_module_version": "1.5.0",
            "_view_name": "HTMLView",
            "description": "",
            "description_tooltip": null,
            "layout": "IPY_MODEL_14ad40f3ec4f4ac58a3ae33a26e08826",
            "placeholder": "​",
            "style": "IPY_MODEL_05f16041d59c419cbeb61f2cc2c8cb0a",
            "value": "tokenizer.json: 100%"
          }
        },
        "227add70966647a4ba7cf7b2edc865df": {
          "model_module": "@jupyter-widgets/controls",
          "model_name": "FloatProgressModel",
          "model_module_version": "1.5.0",
          "state": {
            "_dom_classes": [],
            "_model_module": "@jupyter-widgets/controls",
            "_model_module_version": "1.5.0",
            "_model_name": "FloatProgressModel",
            "_view_count": null,
            "_view_module": "@jupyter-widgets/controls",
            "_view_module_version": "1.5.0",
            "_view_name": "ProgressView",
            "bar_style": "success",
            "description": "",
            "description_tooltip": null,
            "layout": "IPY_MODEL_77dd50619dcb40539acde22b26d515ca",
            "max": 17364638,
            "min": 0,
            "orientation": "horizontal",
            "style": "IPY_MODEL_af11b041a01f4c4781b01128302b57f8",
            "value": 17364638
          }
        },
        "d16e3f83226d4a879eeecf6c70de2c27": {
          "model_module": "@jupyter-widgets/controls",
          "model_name": "HTMLModel",
          "model_module_version": "1.5.0",
          "state": {
            "_dom_classes": [],
            "_model_module": "@jupyter-widgets/controls",
            "_model_module_version": "1.5.0",
            "_model_name": "HTMLModel",
            "_view_count": null,
            "_view_module": "@jupyter-widgets/controls",
            "_view_module_version": "1.5.0",
            "_view_name": "HTMLView",
            "description": "",
            "description_tooltip": null,
            "layout": "IPY_MODEL_455b2d3624454b7c9a520a18300d91bb",
            "placeholder": "​",
            "style": "IPY_MODEL_cb4d235b33fd49ee9af7468641b3c1fe",
            "value": " 17.4M/17.4M [00:00&lt;00:00, 144MB/s]"
          }
        },
        "54bb825bdf9f454e9409fe619023a91d": {
          "model_module": "@jupyter-widgets/base",
          "model_name": "LayoutModel",
          "model_module_version": "1.2.0",
          "state": {
            "_model_module": "@jupyter-widgets/base",
            "_model_module_version": "1.2.0",
            "_model_name": "LayoutModel",
            "_view_count": null,
            "_view_module": "@jupyter-widgets/base",
            "_view_module_version": "1.2.0",
            "_view_name": "LayoutView",
            "align_content": null,
            "align_items": null,
            "align_self": null,
            "border": null,
            "bottom": null,
            "display": null,
            "flex": null,
            "flex_flow": null,
            "grid_area": null,
            "grid_auto_columns": null,
            "grid_auto_flow": null,
            "grid_auto_rows": null,
            "grid_column": null,
            "grid_gap": null,
            "grid_row": null,
            "grid_template_areas": null,
            "grid_template_columns": null,
            "grid_template_rows": null,
            "height": null,
            "justify_content": null,
            "justify_items": null,
            "left": null,
            "margin": null,
            "max_height": null,
            "max_width": null,
            "min_height": null,
            "min_width": null,
            "object_fit": null,
            "object_position": null,
            "order": null,
            "overflow": null,
            "overflow_x": null,
            "overflow_y": null,
            "padding": null,
            "right": null,
            "top": null,
            "visibility": null,
            "width": null
          }
        },
        "14ad40f3ec4f4ac58a3ae33a26e08826": {
          "model_module": "@jupyter-widgets/base",
          "model_name": "LayoutModel",
          "model_module_version": "1.2.0",
          "state": {
            "_model_module": "@jupyter-widgets/base",
            "_model_module_version": "1.2.0",
            "_model_name": "LayoutModel",
            "_view_count": null,
            "_view_module": "@jupyter-widgets/base",
            "_view_module_version": "1.2.0",
            "_view_name": "LayoutView",
            "align_content": null,
            "align_items": null,
            "align_self": null,
            "border": null,
            "bottom": null,
            "display": null,
            "flex": null,
            "flex_flow": null,
            "grid_area": null,
            "grid_auto_columns": null,
            "grid_auto_flow": null,
            "grid_auto_rows": null,
            "grid_column": null,
            "grid_gap": null,
            "grid_row": null,
            "grid_template_areas": null,
            "grid_template_columns": null,
            "grid_template_rows": null,
            "height": null,
            "justify_content": null,
            "justify_items": null,
            "left": null,
            "margin": null,
            "max_height": null,
            "max_width": null,
            "min_height": null,
            "min_width": null,
            "object_fit": null,
            "object_position": null,
            "order": null,
            "overflow": null,
            "overflow_x": null,
            "overflow_y": null,
            "padding": null,
            "right": null,
            "top": null,
            "visibility": null,
            "width": null
          }
        },
        "05f16041d59c419cbeb61f2cc2c8cb0a": {
          "model_module": "@jupyter-widgets/controls",
          "model_name": "DescriptionStyleModel",
          "model_module_version": "1.5.0",
          "state": {
            "_model_module": "@jupyter-widgets/controls",
            "_model_module_version": "1.5.0",
            "_model_name": "DescriptionStyleModel",
            "_view_count": null,
            "_view_module": "@jupyter-widgets/base",
            "_view_module_version": "1.2.0",
            "_view_name": "StyleView",
            "description_width": ""
          }
        },
        "77dd50619dcb40539acde22b26d515ca": {
          "model_module": "@jupyter-widgets/base",
          "model_name": "LayoutModel",
          "model_module_version": "1.2.0",
          "state": {
            "_model_module": "@jupyter-widgets/base",
            "_model_module_version": "1.2.0",
            "_model_name": "LayoutModel",
            "_view_count": null,
            "_view_module": "@jupyter-widgets/base",
            "_view_module_version": "1.2.0",
            "_view_name": "LayoutView",
            "align_content": null,
            "align_items": null,
            "align_self": null,
            "border": null,
            "bottom": null,
            "display": null,
            "flex": null,
            "flex_flow": null,
            "grid_area": null,
            "grid_auto_columns": null,
            "grid_auto_flow": null,
            "grid_auto_rows": null,
            "grid_column": null,
            "grid_gap": null,
            "grid_row": null,
            "grid_template_areas": null,
            "grid_template_columns": null,
            "grid_template_rows": null,
            "height": null,
            "justify_content": null,
            "justify_items": null,
            "left": null,
            "margin": null,
            "max_height": null,
            "max_width": null,
            "min_height": null,
            "min_width": null,
            "object_fit": null,
            "object_position": null,
            "order": null,
            "overflow": null,
            "overflow_x": null,
            "overflow_y": null,
            "padding": null,
            "right": null,
            "top": null,
            "visibility": null,
            "width": null
          }
        },
        "af11b041a01f4c4781b01128302b57f8": {
          "model_module": "@jupyter-widgets/controls",
          "model_name": "ProgressStyleModel",
          "model_module_version": "1.5.0",
          "state": {
            "_model_module": "@jupyter-widgets/controls",
            "_model_module_version": "1.5.0",
            "_model_name": "ProgressStyleModel",
            "_view_count": null,
            "_view_module": "@jupyter-widgets/base",
            "_view_module_version": "1.2.0",
            "_view_name": "StyleView",
            "bar_color": null,
            "description_width": ""
          }
        },
        "455b2d3624454b7c9a520a18300d91bb": {
          "model_module": "@jupyter-widgets/base",
          "model_name": "LayoutModel",
          "model_module_version": "1.2.0",
          "state": {
            "_model_module": "@jupyter-widgets/base",
            "_model_module_version": "1.2.0",
            "_model_name": "LayoutModel",
            "_view_count": null,
            "_view_module": "@jupyter-widgets/base",
            "_view_module_version": "1.2.0",
            "_view_name": "LayoutView",
            "align_content": null,
            "align_items": null,
            "align_self": null,
            "border": null,
            "bottom": null,
            "display": null,
            "flex": null,
            "flex_flow": null,
            "grid_area": null,
            "grid_auto_columns": null,
            "grid_auto_flow": null,
            "grid_auto_rows": null,
            "grid_column": null,
            "grid_gap": null,
            "grid_row": null,
            "grid_template_areas": null,
            "grid_template_columns": null,
            "grid_template_rows": null,
            "height": null,
            "justify_content": null,
            "justify_items": null,
            "left": null,
            "margin": null,
            "max_height": null,
            "max_width": null,
            "min_height": null,
            "min_width": null,
            "object_fit": null,
            "object_position": null,
            "order": null,
            "overflow": null,
            "overflow_x": null,
            "overflow_y": null,
            "padding": null,
            "right": null,
            "top": null,
            "visibility": null,
            "width": null
          }
        },
        "cb4d235b33fd49ee9af7468641b3c1fe": {
          "model_module": "@jupyter-widgets/controls",
          "model_name": "DescriptionStyleModel",
          "model_module_version": "1.5.0",
          "state": {
            "_model_module": "@jupyter-widgets/controls",
            "_model_module_version": "1.5.0",
            "_model_name": "DescriptionStyleModel",
            "_view_count": null,
            "_view_module": "@jupyter-widgets/base",
            "_view_module_version": "1.2.0",
            "_view_name": "StyleView",
            "description_width": ""
          }
        },
        "c07f8b3b3d234bbe99aad801a14cc0bc": {
          "model_module": "@jupyter-widgets/controls",
          "model_name": "HBoxModel",
          "model_module_version": "1.5.0",
          "state": {
            "_dom_classes": [],
            "_model_module": "@jupyter-widgets/controls",
            "_model_module_version": "1.5.0",
            "_model_name": "HBoxModel",
            "_view_count": null,
            "_view_module": "@jupyter-widgets/controls",
            "_view_module_version": "1.5.0",
            "_view_name": "HBoxView",
            "box_style": "",
            "children": [
              "IPY_MODEL_63c9dd10bb0b42958c959591919d5ba0",
              "IPY_MODEL_86c15330229c4706a5a10c764c8ef6df",
              "IPY_MODEL_8d07b1a075a140249ab6691379071ed4"
            ],
            "layout": "IPY_MODEL_46b7814cbc744a21a07090d926b90b19"
          }
        },
        "63c9dd10bb0b42958c959591919d5ba0": {
          "model_module": "@jupyter-widgets/controls",
          "model_name": "HTMLModel",
          "model_module_version": "1.5.0",
          "state": {
            "_dom_classes": [],
            "_model_module": "@jupyter-widgets/controls",
            "_model_module_version": "1.5.0",
            "_model_name": "HTMLModel",
            "_view_count": null,
            "_view_module": "@jupyter-widgets/controls",
            "_view_module_version": "1.5.0",
            "_view_name": "HTMLView",
            "description": "",
            "description_tooltip": null,
            "layout": "IPY_MODEL_a29b6e1d661349d2955c8cfd7165da16",
            "placeholder": "​",
            "style": "IPY_MODEL_6bac0014fd72499dbb00840fb275c899",
            "value": "added_tokens.json: 100%"
          }
        },
        "86c15330229c4706a5a10c764c8ef6df": {
          "model_module": "@jupyter-widgets/controls",
          "model_name": "FloatProgressModel",
          "model_module_version": "1.5.0",
          "state": {
            "_dom_classes": [],
            "_model_module": "@jupyter-widgets/controls",
            "_model_module_version": "1.5.0",
            "_model_name": "FloatProgressModel",
            "_view_count": null,
            "_view_module": "@jupyter-widgets/controls",
            "_view_module_version": "1.5.0",
            "_view_name": "ProgressView",
            "bar_style": "success",
            "description": "",
            "description_tooltip": null,
            "layout": "IPY_MODEL_3e1f4b6fece740df8de5ff263a22950e",
            "max": 14981,
            "min": 0,
            "orientation": "horizontal",
            "style": "IPY_MODEL_40276c5f045d4315b5ae0bbf57cb1007",
            "value": 14981
          }
        },
        "8d07b1a075a140249ab6691379071ed4": {
          "model_module": "@jupyter-widgets/controls",
          "model_name": "HTMLModel",
          "model_module_version": "1.5.0",
          "state": {
            "_dom_classes": [],
            "_model_module": "@jupyter-widgets/controls",
            "_model_module_version": "1.5.0",
            "_model_name": "HTMLModel",
            "_view_count": null,
            "_view_module": "@jupyter-widgets/controls",
            "_view_module_version": "1.5.0",
            "_view_name": "HTMLView",
            "description": "",
            "description_tooltip": null,
            "layout": "IPY_MODEL_69a3dfee28fc4f9fb196aa61fba52664",
            "placeholder": "​",
            "style": "IPY_MODEL_b6e1c5ba39f640b5aca6a96f8cb2b31b",
            "value": " 15.0k/15.0k [00:00&lt;00:00, 1.04MB/s]"
          }
        },
        "46b7814cbc744a21a07090d926b90b19": {
          "model_module": "@jupyter-widgets/base",
          "model_name": "LayoutModel",
          "model_module_version": "1.2.0",
          "state": {
            "_model_module": "@jupyter-widgets/base",
            "_model_module_version": "1.2.0",
            "_model_name": "LayoutModel",
            "_view_count": null,
            "_view_module": "@jupyter-widgets/base",
            "_view_module_version": "1.2.0",
            "_view_name": "LayoutView",
            "align_content": null,
            "align_items": null,
            "align_self": null,
            "border": null,
            "bottom": null,
            "display": null,
            "flex": null,
            "flex_flow": null,
            "grid_area": null,
            "grid_auto_columns": null,
            "grid_auto_flow": null,
            "grid_auto_rows": null,
            "grid_column": null,
            "grid_gap": null,
            "grid_row": null,
            "grid_template_areas": null,
            "grid_template_columns": null,
            "grid_template_rows": null,
            "height": null,
            "justify_content": null,
            "justify_items": null,
            "left": null,
            "margin": null,
            "max_height": null,
            "max_width": null,
            "min_height": null,
            "min_width": null,
            "object_fit": null,
            "object_position": null,
            "order": null,
            "overflow": null,
            "overflow_x": null,
            "overflow_y": null,
            "padding": null,
            "right": null,
            "top": null,
            "visibility": null,
            "width": null
          }
        },
        "a29b6e1d661349d2955c8cfd7165da16": {
          "model_module": "@jupyter-widgets/base",
          "model_name": "LayoutModel",
          "model_module_version": "1.2.0",
          "state": {
            "_model_module": "@jupyter-widgets/base",
            "_model_module_version": "1.2.0",
            "_model_name": "LayoutModel",
            "_view_count": null,
            "_view_module": "@jupyter-widgets/base",
            "_view_module_version": "1.2.0",
            "_view_name": "LayoutView",
            "align_content": null,
            "align_items": null,
            "align_self": null,
            "border": null,
            "bottom": null,
            "display": null,
            "flex": null,
            "flex_flow": null,
            "grid_area": null,
            "grid_auto_columns": null,
            "grid_auto_flow": null,
            "grid_auto_rows": null,
            "grid_column": null,
            "grid_gap": null,
            "grid_row": null,
            "grid_template_areas": null,
            "grid_template_columns": null,
            "grid_template_rows": null,
            "height": null,
            "justify_content": null,
            "justify_items": null,
            "left": null,
            "margin": null,
            "max_height": null,
            "max_width": null,
            "min_height": null,
            "min_width": null,
            "object_fit": null,
            "object_position": null,
            "order": null,
            "overflow": null,
            "overflow_x": null,
            "overflow_y": null,
            "padding": null,
            "right": null,
            "top": null,
            "visibility": null,
            "width": null
          }
        },
        "6bac0014fd72499dbb00840fb275c899": {
          "model_module": "@jupyter-widgets/controls",
          "model_name": "DescriptionStyleModel",
          "model_module_version": "1.5.0",
          "state": {
            "_model_module": "@jupyter-widgets/controls",
            "_model_module_version": "1.5.0",
            "_model_name": "DescriptionStyleModel",
            "_view_count": null,
            "_view_module": "@jupyter-widgets/base",
            "_view_module_version": "1.2.0",
            "_view_name": "StyleView",
            "description_width": ""
          }
        },
        "3e1f4b6fece740df8de5ff263a22950e": {
          "model_module": "@jupyter-widgets/base",
          "model_name": "LayoutModel",
          "model_module_version": "1.2.0",
          "state": {
            "_model_module": "@jupyter-widgets/base",
            "_model_module_version": "1.2.0",
            "_model_name": "LayoutModel",
            "_view_count": null,
            "_view_module": "@jupyter-widgets/base",
            "_view_module_version": "1.2.0",
            "_view_name": "LayoutView",
            "align_content": null,
            "align_items": null,
            "align_self": null,
            "border": null,
            "bottom": null,
            "display": null,
            "flex": null,
            "flex_flow": null,
            "grid_area": null,
            "grid_auto_columns": null,
            "grid_auto_flow": null,
            "grid_auto_rows": null,
            "grid_column": null,
            "grid_gap": null,
            "grid_row": null,
            "grid_template_areas": null,
            "grid_template_columns": null,
            "grid_template_rows": null,
            "height": null,
            "justify_content": null,
            "justify_items": null,
            "left": null,
            "margin": null,
            "max_height": null,
            "max_width": null,
            "min_height": null,
            "min_width": null,
            "object_fit": null,
            "object_position": null,
            "order": null,
            "overflow": null,
            "overflow_x": null,
            "overflow_y": null,
            "padding": null,
            "right": null,
            "top": null,
            "visibility": null,
            "width": null
          }
        },
        "40276c5f045d4315b5ae0bbf57cb1007": {
          "model_module": "@jupyter-widgets/controls",
          "model_name": "ProgressStyleModel",
          "model_module_version": "1.5.0",
          "state": {
            "_model_module": "@jupyter-widgets/controls",
            "_model_module_version": "1.5.0",
            "_model_name": "ProgressStyleModel",
            "_view_count": null,
            "_view_module": "@jupyter-widgets/base",
            "_view_module_version": "1.2.0",
            "_view_name": "StyleView",
            "bar_color": null,
            "description_width": ""
          }
        },
        "69a3dfee28fc4f9fb196aa61fba52664": {
          "model_module": "@jupyter-widgets/base",
          "model_name": "LayoutModel",
          "model_module_version": "1.2.0",
          "state": {
            "_model_module": "@jupyter-widgets/base",
            "_model_module_version": "1.2.0",
            "_model_name": "LayoutModel",
            "_view_count": null,
            "_view_module": "@jupyter-widgets/base",
            "_view_module_version": "1.2.0",
            "_view_name": "LayoutView",
            "align_content": null,
            "align_items": null,
            "align_self": null,
            "border": null,
            "bottom": null,
            "display": null,
            "flex": null,
            "flex_flow": null,
            "grid_area": null,
            "grid_auto_columns": null,
            "grid_auto_flow": null,
            "grid_auto_rows": null,
            "grid_column": null,
            "grid_gap": null,
            "grid_row": null,
            "grid_template_areas": null,
            "grid_template_columns": null,
            "grid_template_rows": null,
            "height": null,
            "justify_content": null,
            "justify_items": null,
            "left": null,
            "margin": null,
            "max_height": null,
            "max_width": null,
            "min_height": null,
            "min_width": null,
            "object_fit": null,
            "object_position": null,
            "order": null,
            "overflow": null,
            "overflow_x": null,
            "overflow_y": null,
            "padding": null,
            "right": null,
            "top": null,
            "visibility": null,
            "width": null
          }
        },
        "b6e1c5ba39f640b5aca6a96f8cb2b31b": {
          "model_module": "@jupyter-widgets/controls",
          "model_name": "DescriptionStyleModel",
          "model_module_version": "1.5.0",
          "state": {
            "_model_module": "@jupyter-widgets/controls",
            "_model_module_version": "1.5.0",
            "_model_name": "DescriptionStyleModel",
            "_view_count": null,
            "_view_module": "@jupyter-widgets/base",
            "_view_module_version": "1.2.0",
            "_view_name": "StyleView",
            "description_width": ""
          }
        },
        "05114ce38fd94ba89e768a0f4957b317": {
          "model_module": "@jupyter-widgets/controls",
          "model_name": "HBoxModel",
          "model_module_version": "1.5.0",
          "state": {
            "_dom_classes": [],
            "_model_module": "@jupyter-widgets/controls",
            "_model_module_version": "1.5.0",
            "_model_name": "HBoxModel",
            "_view_count": null,
            "_view_module": "@jupyter-widgets/controls",
            "_view_module_version": "1.5.0",
            "_view_name": "HBoxView",
            "box_style": "",
            "children": [
              "IPY_MODEL_4d124ed220ff4c059cecc65dd1659603",
              "IPY_MODEL_1a1fb6cbad1d49d3847b2255f8c91284",
              "IPY_MODEL_96a401a6400a4a8d8e9848d429bbb747"
            ],
            "layout": "IPY_MODEL_41c91c92a8bb4981a7be999f9400b050"
          }
        },
        "4d124ed220ff4c059cecc65dd1659603": {
          "model_module": "@jupyter-widgets/controls",
          "model_name": "HTMLModel",
          "model_module_version": "1.5.0",
          "state": {
            "_dom_classes": [],
            "_model_module": "@jupyter-widgets/controls",
            "_model_module_version": "1.5.0",
            "_model_name": "HTMLModel",
            "_view_count": null,
            "_view_module": "@jupyter-widgets/controls",
            "_view_module_version": "1.5.0",
            "_view_name": "HTMLView",
            "description": "",
            "description_tooltip": null,
            "layout": "IPY_MODEL_6fc77819cf334031baecf0593468e42d",
            "placeholder": "​",
            "style": "IPY_MODEL_b9a70f2dca0742019ae12cc5e3ed500c",
            "value": "special_tokens_map.json: 100%"
          }
        },
        "1a1fb6cbad1d49d3847b2255f8c91284": {
          "model_module": "@jupyter-widgets/controls",
          "model_name": "FloatProgressModel",
          "model_module_version": "1.5.0",
          "state": {
            "_dom_classes": [],
            "_model_module": "@jupyter-widgets/controls",
            "_model_module_version": "1.5.0",
            "_model_name": "FloatProgressModel",
            "_view_count": null,
            "_view_module": "@jupyter-widgets/controls",
            "_view_module_version": "1.5.0",
            "_view_name": "ProgressView",
            "bar_style": "success",
            "description": "",
            "description_tooltip": null,
            "layout": "IPY_MODEL_e3f2111434974007a8ee8ae6e41787c8",
            "max": 364,
            "min": 0,
            "orientation": "horizontal",
            "style": "IPY_MODEL_c2fe5b124811440698a5f8855ebb2013",
            "value": 364
          }
        },
        "96a401a6400a4a8d8e9848d429bbb747": {
          "model_module": "@jupyter-widgets/controls",
          "model_name": "HTMLModel",
          "model_module_version": "1.5.0",
          "state": {
            "_dom_classes": [],
            "_model_module": "@jupyter-widgets/controls",
            "_model_module_version": "1.5.0",
            "_model_name": "HTMLModel",
            "_view_count": null,
            "_view_module": "@jupyter-widgets/controls",
            "_view_module_version": "1.5.0",
            "_view_name": "HTMLView",
            "description": "",
            "description_tooltip": null,
            "layout": "IPY_MODEL_06ddadc1bd3349ea887590f9885491c9",
            "placeholder": "​",
            "style": "IPY_MODEL_12aab3a1180845ddbfddafe1f3e33823",
            "value": " 364/364 [00:00&lt;00:00, 26.3kB/s]"
          }
        },
        "41c91c92a8bb4981a7be999f9400b050": {
          "model_module": "@jupyter-widgets/base",
          "model_name": "LayoutModel",
          "model_module_version": "1.2.0",
          "state": {
            "_model_module": "@jupyter-widgets/base",
            "_model_module_version": "1.2.0",
            "_model_name": "LayoutModel",
            "_view_count": null,
            "_view_module": "@jupyter-widgets/base",
            "_view_module_version": "1.2.0",
            "_view_name": "LayoutView",
            "align_content": null,
            "align_items": null,
            "align_self": null,
            "border": null,
            "bottom": null,
            "display": null,
            "flex": null,
            "flex_flow": null,
            "grid_area": null,
            "grid_auto_columns": null,
            "grid_auto_flow": null,
            "grid_auto_rows": null,
            "grid_column": null,
            "grid_gap": null,
            "grid_row": null,
            "grid_template_areas": null,
            "grid_template_columns": null,
            "grid_template_rows": null,
            "height": null,
            "justify_content": null,
            "justify_items": null,
            "left": null,
            "margin": null,
            "max_height": null,
            "max_width": null,
            "min_height": null,
            "min_width": null,
            "object_fit": null,
            "object_position": null,
            "order": null,
            "overflow": null,
            "overflow_x": null,
            "overflow_y": null,
            "padding": null,
            "right": null,
            "top": null,
            "visibility": null,
            "width": null
          }
        },
        "6fc77819cf334031baecf0593468e42d": {
          "model_module": "@jupyter-widgets/base",
          "model_name": "LayoutModel",
          "model_module_version": "1.2.0",
          "state": {
            "_model_module": "@jupyter-widgets/base",
            "_model_module_version": "1.2.0",
            "_model_name": "LayoutModel",
            "_view_count": null,
            "_view_module": "@jupyter-widgets/base",
            "_view_module_version": "1.2.0",
            "_view_name": "LayoutView",
            "align_content": null,
            "align_items": null,
            "align_self": null,
            "border": null,
            "bottom": null,
            "display": null,
            "flex": null,
            "flex_flow": null,
            "grid_area": null,
            "grid_auto_columns": null,
            "grid_auto_flow": null,
            "grid_auto_rows": null,
            "grid_column": null,
            "grid_gap": null,
            "grid_row": null,
            "grid_template_areas": null,
            "grid_template_columns": null,
            "grid_template_rows": null,
            "height": null,
            "justify_content": null,
            "justify_items": null,
            "left": null,
            "margin": null,
            "max_height": null,
            "max_width": null,
            "min_height": null,
            "min_width": null,
            "object_fit": null,
            "object_position": null,
            "order": null,
            "overflow": null,
            "overflow_x": null,
            "overflow_y": null,
            "padding": null,
            "right": null,
            "top": null,
            "visibility": null,
            "width": null
          }
        },
        "b9a70f2dca0742019ae12cc5e3ed500c": {
          "model_module": "@jupyter-widgets/controls",
          "model_name": "DescriptionStyleModel",
          "model_module_version": "1.5.0",
          "state": {
            "_model_module": "@jupyter-widgets/controls",
            "_model_module_version": "1.5.0",
            "_model_name": "DescriptionStyleModel",
            "_view_count": null,
            "_view_module": "@jupyter-widgets/base",
            "_view_module_version": "1.2.0",
            "_view_name": "StyleView",
            "description_width": ""
          }
        },
        "e3f2111434974007a8ee8ae6e41787c8": {
          "model_module": "@jupyter-widgets/base",
          "model_name": "LayoutModel",
          "model_module_version": "1.2.0",
          "state": {
            "_model_module": "@jupyter-widgets/base",
            "_model_module_version": "1.2.0",
            "_model_name": "LayoutModel",
            "_view_count": null,
            "_view_module": "@jupyter-widgets/base",
            "_view_module_version": "1.2.0",
            "_view_name": "LayoutView",
            "align_content": null,
            "align_items": null,
            "align_self": null,
            "border": null,
            "bottom": null,
            "display": null,
            "flex": null,
            "flex_flow": null,
            "grid_area": null,
            "grid_auto_columns": null,
            "grid_auto_flow": null,
            "grid_auto_rows": null,
            "grid_column": null,
            "grid_gap": null,
            "grid_row": null,
            "grid_template_areas": null,
            "grid_template_columns": null,
            "grid_template_rows": null,
            "height": null,
            "justify_content": null,
            "justify_items": null,
            "left": null,
            "margin": null,
            "max_height": null,
            "max_width": null,
            "min_height": null,
            "min_width": null,
            "object_fit": null,
            "object_position": null,
            "order": null,
            "overflow": null,
            "overflow_x": null,
            "overflow_y": null,
            "padding": null,
            "right": null,
            "top": null,
            "visibility": null,
            "width": null
          }
        },
        "c2fe5b124811440698a5f8855ebb2013": {
          "model_module": "@jupyter-widgets/controls",
          "model_name": "ProgressStyleModel",
          "model_module_version": "1.5.0",
          "state": {
            "_model_module": "@jupyter-widgets/controls",
            "_model_module_version": "1.5.0",
            "_model_name": "ProgressStyleModel",
            "_view_count": null,
            "_view_module": "@jupyter-widgets/base",
            "_view_module_version": "1.2.0",
            "_view_name": "StyleView",
            "bar_color": null,
            "description_width": ""
          }
        },
        "06ddadc1bd3349ea887590f9885491c9": {
          "model_module": "@jupyter-widgets/base",
          "model_name": "LayoutModel",
          "model_module_version": "1.2.0",
          "state": {
            "_model_module": "@jupyter-widgets/base",
            "_model_module_version": "1.2.0",
            "_model_name": "LayoutModel",
            "_view_count": null,
            "_view_module": "@jupyter-widgets/base",
            "_view_module_version": "1.2.0",
            "_view_name": "LayoutView",
            "align_content": null,
            "align_items": null,
            "align_self": null,
            "border": null,
            "bottom": null,
            "display": null,
            "flex": null,
            "flex_flow": null,
            "grid_area": null,
            "grid_auto_columns": null,
            "grid_auto_flow": null,
            "grid_auto_rows": null,
            "grid_column": null,
            "grid_gap": null,
            "grid_row": null,
            "grid_template_areas": null,
            "grid_template_columns": null,
            "grid_template_rows": null,
            "height": null,
            "justify_content": null,
            "justify_items": null,
            "left": null,
            "margin": null,
            "max_height": null,
            "max_width": null,
            "min_height": null,
            "min_width": null,
            "object_fit": null,
            "object_position": null,
            "order": null,
            "overflow": null,
            "overflow_x": null,
            "overflow_y": null,
            "padding": null,
            "right": null,
            "top": null,
            "visibility": null,
            "width": null
          }
        },
        "12aab3a1180845ddbfddafe1f3e33823": {
          "model_module": "@jupyter-widgets/controls",
          "model_name": "DescriptionStyleModel",
          "model_module_version": "1.5.0",
          "state": {
            "_model_module": "@jupyter-widgets/controls",
            "_model_module_version": "1.5.0",
            "_model_name": "DescriptionStyleModel",
            "_view_count": null,
            "_view_module": "@jupyter-widgets/base",
            "_view_module_version": "1.2.0",
            "_view_name": "StyleView",
            "description_width": ""
          }
        },
        "2860ee8b6ad74171994dadce4bd18d76": {
          "model_module": "@jupyter-widgets/controls",
          "model_name": "HBoxModel",
          "model_module_version": "1.5.0",
          "state": {
            "_dom_classes": [],
            "_model_module": "@jupyter-widgets/controls",
            "_model_module_version": "1.5.0",
            "_model_name": "HBoxModel",
            "_view_count": null,
            "_view_module": "@jupyter-widgets/controls",
            "_view_module_version": "1.5.0",
            "_view_name": "HBoxView",
            "box_style": "",
            "children": [
              "IPY_MODEL_377b34f1109e4cfd906c114d9ffe4689",
              "IPY_MODEL_761d62e95e884e66820478cb12604c20",
              "IPY_MODEL_be1a89b07c9f466d94564156b9edac88"
            ],
            "layout": "IPY_MODEL_918aa2de1b514ee6bd32d8457365c66c"
          }
        },
        "377b34f1109e4cfd906c114d9ffe4689": {
          "model_module": "@jupyter-widgets/controls",
          "model_name": "HTMLModel",
          "model_module_version": "1.5.0",
          "state": {
            "_dom_classes": [],
            "_model_module": "@jupyter-widgets/controls",
            "_model_module_version": "1.5.0",
            "_model_name": "HTMLModel",
            "_view_count": null,
            "_view_module": "@jupyter-widgets/controls",
            "_view_module_version": "1.5.0",
            "_view_name": "HTMLView",
            "description": "",
            "description_tooltip": null,
            "layout": "IPY_MODEL_120bfc3dbe924b60b2b6d41c3e0c2939",
            "placeholder": "​",
            "style": "IPY_MODEL_ae3a73d2dbab4d3f930a07fa92da5eb3",
            "value": "model.safetensors: 100%"
          }
        },
        "761d62e95e884e66820478cb12604c20": {
          "model_module": "@jupyter-widgets/controls",
          "model_name": "FloatProgressModel",
          "model_module_version": "1.5.0",
          "state": {
            "_dom_classes": [],
            "_model_module": "@jupyter-widgets/controls",
            "_model_module_version": "1.5.0",
            "_model_name": "FloatProgressModel",
            "_view_count": null,
            "_view_module": "@jupyter-widgets/controls",
            "_view_module_version": "1.5.0",
            "_view_name": "ProgressView",
            "bar_style": "success",
            "description": "",
            "description_tooltip": null,
            "layout": "IPY_MODEL_854628c04d7c4aa3a6d3cd7c8b251179",
            "max": 1110926888,
            "min": 0,
            "orientation": "horizontal",
            "style": "IPY_MODEL_3b53ac5e6db9428b9f333bdd541b7832",
            "value": 1110926888
          }
        },
        "be1a89b07c9f466d94564156b9edac88": {
          "model_module": "@jupyter-widgets/controls",
          "model_name": "HTMLModel",
          "model_module_version": "1.5.0",
          "state": {
            "_dom_classes": [],
            "_model_module": "@jupyter-widgets/controls",
            "_model_module_version": "1.5.0",
            "_model_name": "HTMLModel",
            "_view_count": null,
            "_view_module": "@jupyter-widgets/controls",
            "_view_module_version": "1.5.0",
            "_view_name": "HTMLView",
            "description": "",
            "description_tooltip": null,
            "layout": "IPY_MODEL_7deef645f6b242db8ef76d1b5dadde88",
            "placeholder": "​",
            "style": "IPY_MODEL_d45f475886ec44138060f73757056dfb",
            "value": " 1.11G/1.11G [00:07&lt;00:00, 111MB/s]"
          }
        },
        "918aa2de1b514ee6bd32d8457365c66c": {
          "model_module": "@jupyter-widgets/base",
          "model_name": "LayoutModel",
          "model_module_version": "1.2.0",
          "state": {
            "_model_module": "@jupyter-widgets/base",
            "_model_module_version": "1.2.0",
            "_model_name": "LayoutModel",
            "_view_count": null,
            "_view_module": "@jupyter-widgets/base",
            "_view_module_version": "1.2.0",
            "_view_name": "LayoutView",
            "align_content": null,
            "align_items": null,
            "align_self": null,
            "border": null,
            "bottom": null,
            "display": null,
            "flex": null,
            "flex_flow": null,
            "grid_area": null,
            "grid_auto_columns": null,
            "grid_auto_flow": null,
            "grid_auto_rows": null,
            "grid_column": null,
            "grid_gap": null,
            "grid_row": null,
            "grid_template_areas": null,
            "grid_template_columns": null,
            "grid_template_rows": null,
            "height": null,
            "justify_content": null,
            "justify_items": null,
            "left": null,
            "margin": null,
            "max_height": null,
            "max_width": null,
            "min_height": null,
            "min_width": null,
            "object_fit": null,
            "object_position": null,
            "order": null,
            "overflow": null,
            "overflow_x": null,
            "overflow_y": null,
            "padding": null,
            "right": null,
            "top": null,
            "visibility": null,
            "width": null
          }
        },
        "120bfc3dbe924b60b2b6d41c3e0c2939": {
          "model_module": "@jupyter-widgets/base",
          "model_name": "LayoutModel",
          "model_module_version": "1.2.0",
          "state": {
            "_model_module": "@jupyter-widgets/base",
            "_model_module_version": "1.2.0",
            "_model_name": "LayoutModel",
            "_view_count": null,
            "_view_module": "@jupyter-widgets/base",
            "_view_module_version": "1.2.0",
            "_view_name": "LayoutView",
            "align_content": null,
            "align_items": null,
            "align_self": null,
            "border": null,
            "bottom": null,
            "display": null,
            "flex": null,
            "flex_flow": null,
            "grid_area": null,
            "grid_auto_columns": null,
            "grid_auto_flow": null,
            "grid_auto_rows": null,
            "grid_column": null,
            "grid_gap": null,
            "grid_row": null,
            "grid_template_areas": null,
            "grid_template_columns": null,
            "grid_template_rows": null,
            "height": null,
            "justify_content": null,
            "justify_items": null,
            "left": null,
            "margin": null,
            "max_height": null,
            "max_width": null,
            "min_height": null,
            "min_width": null,
            "object_fit": null,
            "object_position": null,
            "order": null,
            "overflow": null,
            "overflow_x": null,
            "overflow_y": null,
            "padding": null,
            "right": null,
            "top": null,
            "visibility": null,
            "width": null
          }
        },
        "ae3a73d2dbab4d3f930a07fa92da5eb3": {
          "model_module": "@jupyter-widgets/controls",
          "model_name": "DescriptionStyleModel",
          "model_module_version": "1.5.0",
          "state": {
            "_model_module": "@jupyter-widgets/controls",
            "_model_module_version": "1.5.0",
            "_model_name": "DescriptionStyleModel",
            "_view_count": null,
            "_view_module": "@jupyter-widgets/base",
            "_view_module_version": "1.2.0",
            "_view_name": "StyleView",
            "description_width": ""
          }
        },
        "854628c04d7c4aa3a6d3cd7c8b251179": {
          "model_module": "@jupyter-widgets/base",
          "model_name": "LayoutModel",
          "model_module_version": "1.2.0",
          "state": {
            "_model_module": "@jupyter-widgets/base",
            "_model_module_version": "1.2.0",
            "_model_name": "LayoutModel",
            "_view_count": null,
            "_view_module": "@jupyter-widgets/base",
            "_view_module_version": "1.2.0",
            "_view_name": "LayoutView",
            "align_content": null,
            "align_items": null,
            "align_self": null,
            "border": null,
            "bottom": null,
            "display": null,
            "flex": null,
            "flex_flow": null,
            "grid_area": null,
            "grid_auto_columns": null,
            "grid_auto_flow": null,
            "grid_auto_rows": null,
            "grid_column": null,
            "grid_gap": null,
            "grid_row": null,
            "grid_template_areas": null,
            "grid_template_columns": null,
            "grid_template_rows": null,
            "height": null,
            "justify_content": null,
            "justify_items": null,
            "left": null,
            "margin": null,
            "max_height": null,
            "max_width": null,
            "min_height": null,
            "min_width": null,
            "object_fit": null,
            "object_position": null,
            "order": null,
            "overflow": null,
            "overflow_x": null,
            "overflow_y": null,
            "padding": null,
            "right": null,
            "top": null,
            "visibility": null,
            "width": null
          }
        },
        "3b53ac5e6db9428b9f333bdd541b7832": {
          "model_module": "@jupyter-widgets/controls",
          "model_name": "ProgressStyleModel",
          "model_module_version": "1.5.0",
          "state": {
            "_model_module": "@jupyter-widgets/controls",
            "_model_module_version": "1.5.0",
            "_model_name": "ProgressStyleModel",
            "_view_count": null,
            "_view_module": "@jupyter-widgets/base",
            "_view_module_version": "1.2.0",
            "_view_name": "StyleView",
            "bar_color": null,
            "description_width": ""
          }
        },
        "7deef645f6b242db8ef76d1b5dadde88": {
          "model_module": "@jupyter-widgets/base",
          "model_name": "LayoutModel",
          "model_module_version": "1.2.0",
          "state": {
            "_model_module": "@jupyter-widgets/base",
            "_model_module_version": "1.2.0",
            "_model_name": "LayoutModel",
            "_view_count": null,
            "_view_module": "@jupyter-widgets/base",
            "_view_module_version": "1.2.0",
            "_view_name": "LayoutView",
            "align_content": null,
            "align_items": null,
            "align_self": null,
            "border": null,
            "bottom": null,
            "display": null,
            "flex": null,
            "flex_flow": null,
            "grid_area": null,
            "grid_auto_columns": null,
            "grid_auto_flow": null,
            "grid_auto_rows": null,
            "grid_column": null,
            "grid_gap": null,
            "grid_row": null,
            "grid_template_areas": null,
            "grid_template_columns": null,
            "grid_template_rows": null,
            "height": null,
            "justify_content": null,
            "justify_items": null,
            "left": null,
            "margin": null,
            "max_height": null,
            "max_width": null,
            "min_height": null,
            "min_width": null,
            "object_fit": null,
            "object_position": null,
            "order": null,
            "overflow": null,
            "overflow_x": null,
            "overflow_y": null,
            "padding": null,
            "right": null,
            "top": null,
            "visibility": null,
            "width": null
          }
        },
        "d45f475886ec44138060f73757056dfb": {
          "model_module": "@jupyter-widgets/controls",
          "model_name": "DescriptionStyleModel",
          "model_module_version": "1.5.0",
          "state": {
            "_model_module": "@jupyter-widgets/controls",
            "_model_module_version": "1.5.0",
            "_model_name": "DescriptionStyleModel",
            "_view_count": null,
            "_view_module": "@jupyter-widgets/base",
            "_view_module_version": "1.2.0",
            "_view_name": "StyleView",
            "description_width": ""
          }
        },
        "ce8abd9ddf1d4930b504918cc63b8775": {
          "model_module": "@jupyter-widgets/controls",
          "model_name": "HBoxModel",
          "model_module_version": "1.5.0",
          "state": {
            "_dom_classes": [],
            "_model_module": "@jupyter-widgets/controls",
            "_model_module_version": "1.5.0",
            "_model_name": "HBoxModel",
            "_view_count": null,
            "_view_module": "@jupyter-widgets/controls",
            "_view_module_version": "1.5.0",
            "_view_name": "HBoxView",
            "box_style": "",
            "children": [
              "IPY_MODEL_480762ebe0d14319b2950943a9dc8fa9",
              "IPY_MODEL_7aa23f7620794318b1a85f71750b2c98",
              "IPY_MODEL_66b4dda953064ba39a0e2a05bcb7b2ea"
            ],
            "layout": "IPY_MODEL_adebe15a20a64bf1a3ca8fb4aabcb4b8"
          }
        },
        "480762ebe0d14319b2950943a9dc8fa9": {
          "model_module": "@jupyter-widgets/controls",
          "model_name": "HTMLModel",
          "model_module_version": "1.5.0",
          "state": {
            "_dom_classes": [],
            "_model_module": "@jupyter-widgets/controls",
            "_model_module_version": "1.5.0",
            "_model_name": "HTMLModel",
            "_view_count": null,
            "_view_module": "@jupyter-widgets/controls",
            "_view_module_version": "1.5.0",
            "_view_name": "HTMLView",
            "description": "",
            "description_tooltip": null,
            "layout": "IPY_MODEL_6f96b299f41a483b8f639832b073bc68",
            "placeholder": "​",
            "style": "IPY_MODEL_ba053d759d0047f8a6ac8fe1fbcfb614",
            "value": "Map: 100%"
          }
        },
        "7aa23f7620794318b1a85f71750b2c98": {
          "model_module": "@jupyter-widgets/controls",
          "model_name": "FloatProgressModel",
          "model_module_version": "1.5.0",
          "state": {
            "_dom_classes": [],
            "_model_module": "@jupyter-widgets/controls",
            "_model_module_version": "1.5.0",
            "_model_name": "FloatProgressModel",
            "_view_count": null,
            "_view_module": "@jupyter-widgets/controls",
            "_view_module_version": "1.5.0",
            "_view_name": "ProgressView",
            "bar_style": "success",
            "description": "",
            "description_tooltip": null,
            "layout": "IPY_MODEL_984b780009e44241b75145410c194746",
            "max": 1744,
            "min": 0,
            "orientation": "horizontal",
            "style": "IPY_MODEL_40262c5e5a094294b4480787e96794a5",
            "value": 1744
          }
        },
        "66b4dda953064ba39a0e2a05bcb7b2ea": {
          "model_module": "@jupyter-widgets/controls",
          "model_name": "HTMLModel",
          "model_module_version": "1.5.0",
          "state": {
            "_dom_classes": [],
            "_model_module": "@jupyter-widgets/controls",
            "_model_module_version": "1.5.0",
            "_model_name": "HTMLModel",
            "_view_count": null,
            "_view_module": "@jupyter-widgets/controls",
            "_view_module_version": "1.5.0",
            "_view_name": "HTMLView",
            "description": "",
            "description_tooltip": null,
            "layout": "IPY_MODEL_31e0bcdbc95049e287d4c4487a861cae",
            "placeholder": "​",
            "style": "IPY_MODEL_8bf31a7ad01447009911215cf7a9b87c",
            "value": " 1744/1744 [00:00&lt;00:00, 3479.35 examples/s]"
          }
        },
        "adebe15a20a64bf1a3ca8fb4aabcb4b8": {
          "model_module": "@jupyter-widgets/base",
          "model_name": "LayoutModel",
          "model_module_version": "1.2.0",
          "state": {
            "_model_module": "@jupyter-widgets/base",
            "_model_module_version": "1.2.0",
            "_model_name": "LayoutModel",
            "_view_count": null,
            "_view_module": "@jupyter-widgets/base",
            "_view_module_version": "1.2.0",
            "_view_name": "LayoutView",
            "align_content": null,
            "align_items": null,
            "align_self": null,
            "border": null,
            "bottom": null,
            "display": null,
            "flex": null,
            "flex_flow": null,
            "grid_area": null,
            "grid_auto_columns": null,
            "grid_auto_flow": null,
            "grid_auto_rows": null,
            "grid_column": null,
            "grid_gap": null,
            "grid_row": null,
            "grid_template_areas": null,
            "grid_template_columns": null,
            "grid_template_rows": null,
            "height": null,
            "justify_content": null,
            "justify_items": null,
            "left": null,
            "margin": null,
            "max_height": null,
            "max_width": null,
            "min_height": null,
            "min_width": null,
            "object_fit": null,
            "object_position": null,
            "order": null,
            "overflow": null,
            "overflow_x": null,
            "overflow_y": null,
            "padding": null,
            "right": null,
            "top": null,
            "visibility": null,
            "width": null
          }
        },
        "6f96b299f41a483b8f639832b073bc68": {
          "model_module": "@jupyter-widgets/base",
          "model_name": "LayoutModel",
          "model_module_version": "1.2.0",
          "state": {
            "_model_module": "@jupyter-widgets/base",
            "_model_module_version": "1.2.0",
            "_model_name": "LayoutModel",
            "_view_count": null,
            "_view_module": "@jupyter-widgets/base",
            "_view_module_version": "1.2.0",
            "_view_name": "LayoutView",
            "align_content": null,
            "align_items": null,
            "align_self": null,
            "border": null,
            "bottom": null,
            "display": null,
            "flex": null,
            "flex_flow": null,
            "grid_area": null,
            "grid_auto_columns": null,
            "grid_auto_flow": null,
            "grid_auto_rows": null,
            "grid_column": null,
            "grid_gap": null,
            "grid_row": null,
            "grid_template_areas": null,
            "grid_template_columns": null,
            "grid_template_rows": null,
            "height": null,
            "justify_content": null,
            "justify_items": null,
            "left": null,
            "margin": null,
            "max_height": null,
            "max_width": null,
            "min_height": null,
            "min_width": null,
            "object_fit": null,
            "object_position": null,
            "order": null,
            "overflow": null,
            "overflow_x": null,
            "overflow_y": null,
            "padding": null,
            "right": null,
            "top": null,
            "visibility": null,
            "width": null
          }
        },
        "ba053d759d0047f8a6ac8fe1fbcfb614": {
          "model_module": "@jupyter-widgets/controls",
          "model_name": "DescriptionStyleModel",
          "model_module_version": "1.5.0",
          "state": {
            "_model_module": "@jupyter-widgets/controls",
            "_model_module_version": "1.5.0",
            "_model_name": "DescriptionStyleModel",
            "_view_count": null,
            "_view_module": "@jupyter-widgets/base",
            "_view_module_version": "1.2.0",
            "_view_name": "StyleView",
            "description_width": ""
          }
        },
        "984b780009e44241b75145410c194746": {
          "model_module": "@jupyter-widgets/base",
          "model_name": "LayoutModel",
          "model_module_version": "1.2.0",
          "state": {
            "_model_module": "@jupyter-widgets/base",
            "_model_module_version": "1.2.0",
            "_model_name": "LayoutModel",
            "_view_count": null,
            "_view_module": "@jupyter-widgets/base",
            "_view_module_version": "1.2.0",
            "_view_name": "LayoutView",
            "align_content": null,
            "align_items": null,
            "align_self": null,
            "border": null,
            "bottom": null,
            "display": null,
            "flex": null,
            "flex_flow": null,
            "grid_area": null,
            "grid_auto_columns": null,
            "grid_auto_flow": null,
            "grid_auto_rows": null,
            "grid_column": null,
            "grid_gap": null,
            "grid_row": null,
            "grid_template_areas": null,
            "grid_template_columns": null,
            "grid_template_rows": null,
            "height": null,
            "justify_content": null,
            "justify_items": null,
            "left": null,
            "margin": null,
            "max_height": null,
            "max_width": null,
            "min_height": null,
            "min_width": null,
            "object_fit": null,
            "object_position": null,
            "order": null,
            "overflow": null,
            "overflow_x": null,
            "overflow_y": null,
            "padding": null,
            "right": null,
            "top": null,
            "visibility": null,
            "width": null
          }
        },
        "40262c5e5a094294b4480787e96794a5": {
          "model_module": "@jupyter-widgets/controls",
          "model_name": "ProgressStyleModel",
          "model_module_version": "1.5.0",
          "state": {
            "_model_module": "@jupyter-widgets/controls",
            "_model_module_version": "1.5.0",
            "_model_name": "ProgressStyleModel",
            "_view_count": null,
            "_view_module": "@jupyter-widgets/base",
            "_view_module_version": "1.2.0",
            "_view_name": "StyleView",
            "bar_color": null,
            "description_width": ""
          }
        },
        "31e0bcdbc95049e287d4c4487a861cae": {
          "model_module": "@jupyter-widgets/base",
          "model_name": "LayoutModel",
          "model_module_version": "1.2.0",
          "state": {
            "_model_module": "@jupyter-widgets/base",
            "_model_module_version": "1.2.0",
            "_model_name": "LayoutModel",
            "_view_count": null,
            "_view_module": "@jupyter-widgets/base",
            "_view_module_version": "1.2.0",
            "_view_name": "LayoutView",
            "align_content": null,
            "align_items": null,
            "align_self": null,
            "border": null,
            "bottom": null,
            "display": null,
            "flex": null,
            "flex_flow": null,
            "grid_area": null,
            "grid_auto_columns": null,
            "grid_auto_flow": null,
            "grid_auto_rows": null,
            "grid_column": null,
            "grid_gap": null,
            "grid_row": null,
            "grid_template_areas": null,
            "grid_template_columns": null,
            "grid_template_rows": null,
            "height": null,
            "justify_content": null,
            "justify_items": null,
            "left": null,
            "margin": null,
            "max_height": null,
            "max_width": null,
            "min_height": null,
            "min_width": null,
            "object_fit": null,
            "object_position": null,
            "order": null,
            "overflow": null,
            "overflow_x": null,
            "overflow_y": null,
            "padding": null,
            "right": null,
            "top": null,
            "visibility": null,
            "width": null
          }
        },
        "8bf31a7ad01447009911215cf7a9b87c": {
          "model_module": "@jupyter-widgets/controls",
          "model_name": "DescriptionStyleModel",
          "model_module_version": "1.5.0",
          "state": {
            "_model_module": "@jupyter-widgets/controls",
            "_model_module_version": "1.5.0",
            "_model_name": "DescriptionStyleModel",
            "_view_count": null,
            "_view_module": "@jupyter-widgets/base",
            "_view_module_version": "1.2.0",
            "_view_name": "StyleView",
            "description_width": ""
          }
        },
        "f0137ee83f6e420cb4c73f6349427ee3": {
          "model_module": "@jupyter-widgets/controls",
          "model_name": "HBoxModel",
          "model_module_version": "1.5.0",
          "state": {
            "_dom_classes": [],
            "_model_module": "@jupyter-widgets/controls",
            "_model_module_version": "1.5.0",
            "_model_name": "HBoxModel",
            "_view_count": null,
            "_view_module": "@jupyter-widgets/controls",
            "_view_module_version": "1.5.0",
            "_view_name": "HBoxView",
            "box_style": "",
            "children": [
              "IPY_MODEL_ca4fce4c699e445c89523b738828bc6c",
              "IPY_MODEL_45d823c7b43f46ba99a0b692339857ea",
              "IPY_MODEL_108958dc8454481f8236f833ecd82999"
            ],
            "layout": "IPY_MODEL_99b6437f1a164682a1588118b716f31b"
          }
        },
        "ca4fce4c699e445c89523b738828bc6c": {
          "model_module": "@jupyter-widgets/controls",
          "model_name": "HTMLModel",
          "model_module_version": "1.5.0",
          "state": {
            "_dom_classes": [],
            "_model_module": "@jupyter-widgets/controls",
            "_model_module_version": "1.5.0",
            "_model_name": "HTMLModel",
            "_view_count": null,
            "_view_module": "@jupyter-widgets/controls",
            "_view_module_version": "1.5.0",
            "_view_name": "HTMLView",
            "description": "",
            "description_tooltip": null,
            "layout": "IPY_MODEL_12ced163b7a14920b8cbcf90714d91fd",
            "placeholder": "​",
            "style": "IPY_MODEL_5e000ee9d1ac4051a064395a1974b0c7",
            "value": "Map: 100%"
          }
        },
        "45d823c7b43f46ba99a0b692339857ea": {
          "model_module": "@jupyter-widgets/controls",
          "model_name": "FloatProgressModel",
          "model_module_version": "1.5.0",
          "state": {
            "_dom_classes": [],
            "_model_module": "@jupyter-widgets/controls",
            "_model_module_version": "1.5.0",
            "_model_name": "FloatProgressModel",
            "_view_count": null,
            "_view_module": "@jupyter-widgets/controls",
            "_view_module_version": "1.5.0",
            "_view_name": "ProgressView",
            "bar_style": "success",
            "description": "",
            "description_tooltip": null,
            "layout": "IPY_MODEL_1343437e29b5401c881d615b10e712ef",
            "max": 436,
            "min": 0,
            "orientation": "horizontal",
            "style": "IPY_MODEL_acd95739259547ef8f88b02e8769169c",
            "value": 436
          }
        },
        "108958dc8454481f8236f833ecd82999": {
          "model_module": "@jupyter-widgets/controls",
          "model_name": "HTMLModel",
          "model_module_version": "1.5.0",
          "state": {
            "_dom_classes": [],
            "_model_module": "@jupyter-widgets/controls",
            "_model_module_version": "1.5.0",
            "_model_name": "HTMLModel",
            "_view_count": null,
            "_view_module": "@jupyter-widgets/controls",
            "_view_module_version": "1.5.0",
            "_view_name": "HTMLView",
            "description": "",
            "description_tooltip": null,
            "layout": "IPY_MODEL_8fe0ee737b9d46dbbd17ff878e56c9a7",
            "placeholder": "​",
            "style": "IPY_MODEL_f463bc96acb5408593ff3ddac99ba205",
            "value": " 436/436 [00:00&lt;00:00, 4396.99 examples/s]"
          }
        },
        "99b6437f1a164682a1588118b716f31b": {
          "model_module": "@jupyter-widgets/base",
          "model_name": "LayoutModel",
          "model_module_version": "1.2.0",
          "state": {
            "_model_module": "@jupyter-widgets/base",
            "_model_module_version": "1.2.0",
            "_model_name": "LayoutModel",
            "_view_count": null,
            "_view_module": "@jupyter-widgets/base",
            "_view_module_version": "1.2.0",
            "_view_name": "LayoutView",
            "align_content": null,
            "align_items": null,
            "align_self": null,
            "border": null,
            "bottom": null,
            "display": null,
            "flex": null,
            "flex_flow": null,
            "grid_area": null,
            "grid_auto_columns": null,
            "grid_auto_flow": null,
            "grid_auto_rows": null,
            "grid_column": null,
            "grid_gap": null,
            "grid_row": null,
            "grid_template_areas": null,
            "grid_template_columns": null,
            "grid_template_rows": null,
            "height": null,
            "justify_content": null,
            "justify_items": null,
            "left": null,
            "margin": null,
            "max_height": null,
            "max_width": null,
            "min_height": null,
            "min_width": null,
            "object_fit": null,
            "object_position": null,
            "order": null,
            "overflow": null,
            "overflow_x": null,
            "overflow_y": null,
            "padding": null,
            "right": null,
            "top": null,
            "visibility": null,
            "width": null
          }
        },
        "12ced163b7a14920b8cbcf90714d91fd": {
          "model_module": "@jupyter-widgets/base",
          "model_name": "LayoutModel",
          "model_module_version": "1.2.0",
          "state": {
            "_model_module": "@jupyter-widgets/base",
            "_model_module_version": "1.2.0",
            "_model_name": "LayoutModel",
            "_view_count": null,
            "_view_module": "@jupyter-widgets/base",
            "_view_module_version": "1.2.0",
            "_view_name": "LayoutView",
            "align_content": null,
            "align_items": null,
            "align_self": null,
            "border": null,
            "bottom": null,
            "display": null,
            "flex": null,
            "flex_flow": null,
            "grid_area": null,
            "grid_auto_columns": null,
            "grid_auto_flow": null,
            "grid_auto_rows": null,
            "grid_column": null,
            "grid_gap": null,
            "grid_row": null,
            "grid_template_areas": null,
            "grid_template_columns": null,
            "grid_template_rows": null,
            "height": null,
            "justify_content": null,
            "justify_items": null,
            "left": null,
            "margin": null,
            "max_height": null,
            "max_width": null,
            "min_height": null,
            "min_width": null,
            "object_fit": null,
            "object_position": null,
            "order": null,
            "overflow": null,
            "overflow_x": null,
            "overflow_y": null,
            "padding": null,
            "right": null,
            "top": null,
            "visibility": null,
            "width": null
          }
        },
        "5e000ee9d1ac4051a064395a1974b0c7": {
          "model_module": "@jupyter-widgets/controls",
          "model_name": "DescriptionStyleModel",
          "model_module_version": "1.5.0",
          "state": {
            "_model_module": "@jupyter-widgets/controls",
            "_model_module_version": "1.5.0",
            "_model_name": "DescriptionStyleModel",
            "_view_count": null,
            "_view_module": "@jupyter-widgets/base",
            "_view_module_version": "1.2.0",
            "_view_name": "StyleView",
            "description_width": ""
          }
        },
        "1343437e29b5401c881d615b10e712ef": {
          "model_module": "@jupyter-widgets/base",
          "model_name": "LayoutModel",
          "model_module_version": "1.2.0",
          "state": {
            "_model_module": "@jupyter-widgets/base",
            "_model_module_version": "1.2.0",
            "_model_name": "LayoutModel",
            "_view_count": null,
            "_view_module": "@jupyter-widgets/base",
            "_view_module_version": "1.2.0",
            "_view_name": "LayoutView",
            "align_content": null,
            "align_items": null,
            "align_self": null,
            "border": null,
            "bottom": null,
            "display": null,
            "flex": null,
            "flex_flow": null,
            "grid_area": null,
            "grid_auto_columns": null,
            "grid_auto_flow": null,
            "grid_auto_rows": null,
            "grid_column": null,
            "grid_gap": null,
            "grid_row": null,
            "grid_template_areas": null,
            "grid_template_columns": null,
            "grid_template_rows": null,
            "height": null,
            "justify_content": null,
            "justify_items": null,
            "left": null,
            "margin": null,
            "max_height": null,
            "max_width": null,
            "min_height": null,
            "min_width": null,
            "object_fit": null,
            "object_position": null,
            "order": null,
            "overflow": null,
            "overflow_x": null,
            "overflow_y": null,
            "padding": null,
            "right": null,
            "top": null,
            "visibility": null,
            "width": null
          }
        },
        "acd95739259547ef8f88b02e8769169c": {
          "model_module": "@jupyter-widgets/controls",
          "model_name": "ProgressStyleModel",
          "model_module_version": "1.5.0",
          "state": {
            "_model_module": "@jupyter-widgets/controls",
            "_model_module_version": "1.5.0",
            "_model_name": "ProgressStyleModel",
            "_view_count": null,
            "_view_module": "@jupyter-widgets/base",
            "_view_module_version": "1.2.0",
            "_view_name": "StyleView",
            "bar_color": null,
            "description_width": ""
          }
        },
        "8fe0ee737b9d46dbbd17ff878e56c9a7": {
          "model_module": "@jupyter-widgets/base",
          "model_name": "LayoutModel",
          "model_module_version": "1.2.0",
          "state": {
            "_model_module": "@jupyter-widgets/base",
            "_model_module_version": "1.2.0",
            "_model_name": "LayoutModel",
            "_view_count": null,
            "_view_module": "@jupyter-widgets/base",
            "_view_module_version": "1.2.0",
            "_view_name": "LayoutView",
            "align_content": null,
            "align_items": null,
            "align_self": null,
            "border": null,
            "bottom": null,
            "display": null,
            "flex": null,
            "flex_flow": null,
            "grid_area": null,
            "grid_auto_columns": null,
            "grid_auto_flow": null,
            "grid_auto_rows": null,
            "grid_column": null,
            "grid_gap": null,
            "grid_row": null,
            "grid_template_areas": null,
            "grid_template_columns": null,
            "grid_template_rows": null,
            "height": null,
            "justify_content": null,
            "justify_items": null,
            "left": null,
            "margin": null,
            "max_height": null,
            "max_width": null,
            "min_height": null,
            "min_width": null,
            "object_fit": null,
            "object_position": null,
            "order": null,
            "overflow": null,
            "overflow_x": null,
            "overflow_y": null,
            "padding": null,
            "right": null,
            "top": null,
            "visibility": null,
            "width": null
          }
        },
        "f463bc96acb5408593ff3ddac99ba205": {
          "model_module": "@jupyter-widgets/controls",
          "model_name": "DescriptionStyleModel",
          "model_module_version": "1.5.0",
          "state": {
            "_model_module": "@jupyter-widgets/controls",
            "_model_module_version": "1.5.0",
            "_model_name": "DescriptionStyleModel",
            "_view_count": null,
            "_view_module": "@jupyter-widgets/base",
            "_view_module_version": "1.2.0",
            "_view_name": "StyleView",
            "description_width": ""
          }
        },
        "6964e391b92344939638e144bf98cad0": {
          "model_module": "@jupyter-widgets/controls",
          "model_name": "HBoxModel",
          "model_module_version": "1.5.0",
          "state": {
            "_dom_classes": [],
            "_model_module": "@jupyter-widgets/controls",
            "_model_module_version": "1.5.0",
            "_model_name": "HBoxModel",
            "_view_count": null,
            "_view_module": "@jupyter-widgets/controls",
            "_view_module_version": "1.5.0",
            "_view_name": "HBoxView",
            "box_style": "",
            "children": [
              "IPY_MODEL_697f3e74bd824f1092b8b5af43273149",
              "IPY_MODEL_e0157146430b455f9069f21f825f0456",
              "IPY_MODEL_96450d9cb4b248cbb028f5a3627f0b1b"
            ],
            "layout": "IPY_MODEL_cd3850d0bad749a18c08f1cc81ca7f26"
          }
        },
        "697f3e74bd824f1092b8b5af43273149": {
          "model_module": "@jupyter-widgets/controls",
          "model_name": "HTMLModel",
          "model_module_version": "1.5.0",
          "state": {
            "_dom_classes": [],
            "_model_module": "@jupyter-widgets/controls",
            "_model_module_version": "1.5.0",
            "_model_name": "HTMLModel",
            "_view_count": null,
            "_view_module": "@jupyter-widgets/controls",
            "_view_module_version": "1.5.0",
            "_view_name": "HTMLView",
            "description": "",
            "description_tooltip": null,
            "layout": "IPY_MODEL_90667c4c868b4ae3820cc17f51c05baf",
            "placeholder": "​",
            "style": "IPY_MODEL_3b1121d5005e471a8263fdff742019da",
            "value": "Map: 100%"
          }
        },
        "e0157146430b455f9069f21f825f0456": {
          "model_module": "@jupyter-widgets/controls",
          "model_name": "FloatProgressModel",
          "model_module_version": "1.5.0",
          "state": {
            "_dom_classes": [],
            "_model_module": "@jupyter-widgets/controls",
            "_model_module_version": "1.5.0",
            "_model_name": "FloatProgressModel",
            "_view_count": null,
            "_view_module": "@jupyter-widgets/controls",
            "_view_module_version": "1.5.0",
            "_view_name": "ProgressView",
            "bar_style": "success",
            "description": "",
            "description_tooltip": null,
            "layout": "IPY_MODEL_779c4462eded4b3d8eec6c31440dd894",
            "max": 546,
            "min": 0,
            "orientation": "horizontal",
            "style": "IPY_MODEL_407b94da218e4853a1698113409df2ad",
            "value": 546
          }
        },
        "96450d9cb4b248cbb028f5a3627f0b1b": {
          "model_module": "@jupyter-widgets/controls",
          "model_name": "HTMLModel",
          "model_module_version": "1.5.0",
          "state": {
            "_dom_classes": [],
            "_model_module": "@jupyter-widgets/controls",
            "_model_module_version": "1.5.0",
            "_model_name": "HTMLModel",
            "_view_count": null,
            "_view_module": "@jupyter-widgets/controls",
            "_view_module_version": "1.5.0",
            "_view_name": "HTMLView",
            "description": "",
            "description_tooltip": null,
            "layout": "IPY_MODEL_0938432f00974d57b46707484b983ea2",
            "placeholder": "​",
            "style": "IPY_MODEL_ed9bf2a768eb496e99ab886fb4da238f",
            "value": " 546/546 [00:00&lt;00:00, 5233.76 examples/s]"
          }
        },
        "cd3850d0bad749a18c08f1cc81ca7f26": {
          "model_module": "@jupyter-widgets/base",
          "model_name": "LayoutModel",
          "model_module_version": "1.2.0",
          "state": {
            "_model_module": "@jupyter-widgets/base",
            "_model_module_version": "1.2.0",
            "_model_name": "LayoutModel",
            "_view_count": null,
            "_view_module": "@jupyter-widgets/base",
            "_view_module_version": "1.2.0",
            "_view_name": "LayoutView",
            "align_content": null,
            "align_items": null,
            "align_self": null,
            "border": null,
            "bottom": null,
            "display": null,
            "flex": null,
            "flex_flow": null,
            "grid_area": null,
            "grid_auto_columns": null,
            "grid_auto_flow": null,
            "grid_auto_rows": null,
            "grid_column": null,
            "grid_gap": null,
            "grid_row": null,
            "grid_template_areas": null,
            "grid_template_columns": null,
            "grid_template_rows": null,
            "height": null,
            "justify_content": null,
            "justify_items": null,
            "left": null,
            "margin": null,
            "max_height": null,
            "max_width": null,
            "min_height": null,
            "min_width": null,
            "object_fit": null,
            "object_position": null,
            "order": null,
            "overflow": null,
            "overflow_x": null,
            "overflow_y": null,
            "padding": null,
            "right": null,
            "top": null,
            "visibility": null,
            "width": null
          }
        },
        "90667c4c868b4ae3820cc17f51c05baf": {
          "model_module": "@jupyter-widgets/base",
          "model_name": "LayoutModel",
          "model_module_version": "1.2.0",
          "state": {
            "_model_module": "@jupyter-widgets/base",
            "_model_module_version": "1.2.0",
            "_model_name": "LayoutModel",
            "_view_count": null,
            "_view_module": "@jupyter-widgets/base",
            "_view_module_version": "1.2.0",
            "_view_name": "LayoutView",
            "align_content": null,
            "align_items": null,
            "align_self": null,
            "border": null,
            "bottom": null,
            "display": null,
            "flex": null,
            "flex_flow": null,
            "grid_area": null,
            "grid_auto_columns": null,
            "grid_auto_flow": null,
            "grid_auto_rows": null,
            "grid_column": null,
            "grid_gap": null,
            "grid_row": null,
            "grid_template_areas": null,
            "grid_template_columns": null,
            "grid_template_rows": null,
            "height": null,
            "justify_content": null,
            "justify_items": null,
            "left": null,
            "margin": null,
            "max_height": null,
            "max_width": null,
            "min_height": null,
            "min_width": null,
            "object_fit": null,
            "object_position": null,
            "order": null,
            "overflow": null,
            "overflow_x": null,
            "overflow_y": null,
            "padding": null,
            "right": null,
            "top": null,
            "visibility": null,
            "width": null
          }
        },
        "3b1121d5005e471a8263fdff742019da": {
          "model_module": "@jupyter-widgets/controls",
          "model_name": "DescriptionStyleModel",
          "model_module_version": "1.5.0",
          "state": {
            "_model_module": "@jupyter-widgets/controls",
            "_model_module_version": "1.5.0",
            "_model_name": "DescriptionStyleModel",
            "_view_count": null,
            "_view_module": "@jupyter-widgets/base",
            "_view_module_version": "1.2.0",
            "_view_name": "StyleView",
            "description_width": ""
          }
        },
        "779c4462eded4b3d8eec6c31440dd894": {
          "model_module": "@jupyter-widgets/base",
          "model_name": "LayoutModel",
          "model_module_version": "1.2.0",
          "state": {
            "_model_module": "@jupyter-widgets/base",
            "_model_module_version": "1.2.0",
            "_model_name": "LayoutModel",
            "_view_count": null,
            "_view_module": "@jupyter-widgets/base",
            "_view_module_version": "1.2.0",
            "_view_name": "LayoutView",
            "align_content": null,
            "align_items": null,
            "align_self": null,
            "border": null,
            "bottom": null,
            "display": null,
            "flex": null,
            "flex_flow": null,
            "grid_area": null,
            "grid_auto_columns": null,
            "grid_auto_flow": null,
            "grid_auto_rows": null,
            "grid_column": null,
            "grid_gap": null,
            "grid_row": null,
            "grid_template_areas": null,
            "grid_template_columns": null,
            "grid_template_rows": null,
            "height": null,
            "justify_content": null,
            "justify_items": null,
            "left": null,
            "margin": null,
            "max_height": null,
            "max_width": null,
            "min_height": null,
            "min_width": null,
            "object_fit": null,
            "object_position": null,
            "order": null,
            "overflow": null,
            "overflow_x": null,
            "overflow_y": null,
            "padding": null,
            "right": null,
            "top": null,
            "visibility": null,
            "width": null
          }
        },
        "407b94da218e4853a1698113409df2ad": {
          "model_module": "@jupyter-widgets/controls",
          "model_name": "ProgressStyleModel",
          "model_module_version": "1.5.0",
          "state": {
            "_model_module": "@jupyter-widgets/controls",
            "_model_module_version": "1.5.0",
            "_model_name": "ProgressStyleModel",
            "_view_count": null,
            "_view_module": "@jupyter-widgets/base",
            "_view_module_version": "1.2.0",
            "_view_name": "StyleView",
            "bar_color": null,
            "description_width": ""
          }
        },
        "0938432f00974d57b46707484b983ea2": {
          "model_module": "@jupyter-widgets/base",
          "model_name": "LayoutModel",
          "model_module_version": "1.2.0",
          "state": {
            "_model_module": "@jupyter-widgets/base",
            "_model_module_version": "1.2.0",
            "_model_name": "LayoutModel",
            "_view_count": null,
            "_view_module": "@jupyter-widgets/base",
            "_view_module_version": "1.2.0",
            "_view_name": "LayoutView",
            "align_content": null,
            "align_items": null,
            "align_self": null,
            "border": null,
            "bottom": null,
            "display": null,
            "flex": null,
            "flex_flow": null,
            "grid_area": null,
            "grid_auto_columns": null,
            "grid_auto_flow": null,
            "grid_auto_rows": null,
            "grid_column": null,
            "grid_gap": null,
            "grid_row": null,
            "grid_template_areas": null,
            "grid_template_columns": null,
            "grid_template_rows": null,
            "height": null,
            "justify_content": null,
            "justify_items": null,
            "left": null,
            "margin": null,
            "max_height": null,
            "max_width": null,
            "min_height": null,
            "min_width": null,
            "object_fit": null,
            "object_position": null,
            "order": null,
            "overflow": null,
            "overflow_x": null,
            "overflow_y": null,
            "padding": null,
            "right": null,
            "top": null,
            "visibility": null,
            "width": null
          }
        },
        "ed9bf2a768eb496e99ab886fb4da238f": {
          "model_module": "@jupyter-widgets/controls",
          "model_name": "DescriptionStyleModel",
          "model_module_version": "1.5.0",
          "state": {
            "_model_module": "@jupyter-widgets/controls",
            "_model_module_version": "1.5.0",
            "_model_name": "DescriptionStyleModel",
            "_view_count": null,
            "_view_module": "@jupyter-widgets/base",
            "_view_module_version": "1.2.0",
            "_view_name": "StyleView",
            "description_width": ""
          }
        },
        "75a278890faa4ebfac3f078ae1f87006": {
          "model_module": "@jupyter-widgets/controls",
          "model_name": "HBoxModel",
          "model_module_version": "1.5.0",
          "state": {
            "_dom_classes": [],
            "_model_module": "@jupyter-widgets/controls",
            "_model_module_version": "1.5.0",
            "_model_name": "HBoxModel",
            "_view_count": null,
            "_view_module": "@jupyter-widgets/controls",
            "_view_module_version": "1.5.0",
            "_view_name": "HBoxView",
            "box_style": "",
            "children": [
              "IPY_MODEL_4cf569170ff64cfab61734d3b56156fb",
              "IPY_MODEL_b938d92f424f4ee1bc8ce427c47ddc5c",
              "IPY_MODEL_eb50df58bd5c489e97f50a8940c2d9ad"
            ],
            "layout": "IPY_MODEL_35c89e088a584b719b21715b72544f84"
          }
        },
        "4cf569170ff64cfab61734d3b56156fb": {
          "model_module": "@jupyter-widgets/controls",
          "model_name": "HTMLModel",
          "model_module_version": "1.5.0",
          "state": {
            "_dom_classes": [],
            "_model_module": "@jupyter-widgets/controls",
            "_model_module_version": "1.5.0",
            "_model_name": "HTMLModel",
            "_view_count": null,
            "_view_module": "@jupyter-widgets/controls",
            "_view_module_version": "1.5.0",
            "_view_name": "HTMLView",
            "description": "",
            "description_tooltip": null,
            "layout": "IPY_MODEL_1089d17e3ece46fdaf92ef6f608af67c",
            "placeholder": "​",
            "style": "IPY_MODEL_8a96dfb4750b4f85b0b69d58351e5301",
            "value": "Downloading builder script: 100%"
          }
        },
        "b938d92f424f4ee1bc8ce427c47ddc5c": {
          "model_module": "@jupyter-widgets/controls",
          "model_name": "FloatProgressModel",
          "model_module_version": "1.5.0",
          "state": {
            "_dom_classes": [],
            "_model_module": "@jupyter-widgets/controls",
            "_model_module_version": "1.5.0",
            "_model_name": "FloatProgressModel",
            "_view_count": null,
            "_view_module": "@jupyter-widgets/controls",
            "_view_module_version": "1.5.0",
            "_view_name": "ProgressView",
            "bar_style": "success",
            "description": "",
            "description_tooltip": null,
            "layout": "IPY_MODEL_2d6a6aabac544fc28a9c80609b2dfff7",
            "max": 4203,
            "min": 0,
            "orientation": "horizontal",
            "style": "IPY_MODEL_8bd35782b9764fca87033126196978e0",
            "value": 4203
          }
        },
        "eb50df58bd5c489e97f50a8940c2d9ad": {
          "model_module": "@jupyter-widgets/controls",
          "model_name": "HTMLModel",
          "model_module_version": "1.5.0",
          "state": {
            "_dom_classes": [],
            "_model_module": "@jupyter-widgets/controls",
            "_model_module_version": "1.5.0",
            "_model_name": "HTMLModel",
            "_view_count": null,
            "_view_module": "@jupyter-widgets/controls",
            "_view_module_version": "1.5.0",
            "_view_name": "HTMLView",
            "description": "",
            "description_tooltip": null,
            "layout": "IPY_MODEL_3d1ec6458bf44ffa8c73a7dc3166ccff",
            "placeholder": "​",
            "style": "IPY_MODEL_8156c49ddfd044abbf3b892022928cdb",
            "value": " 4.20k/4.20k [00:00&lt;00:00, 221kB/s]"
          }
        },
        "35c89e088a584b719b21715b72544f84": {
          "model_module": "@jupyter-widgets/base",
          "model_name": "LayoutModel",
          "model_module_version": "1.2.0",
          "state": {
            "_model_module": "@jupyter-widgets/base",
            "_model_module_version": "1.2.0",
            "_model_name": "LayoutModel",
            "_view_count": null,
            "_view_module": "@jupyter-widgets/base",
            "_view_module_version": "1.2.0",
            "_view_name": "LayoutView",
            "align_content": null,
            "align_items": null,
            "align_self": null,
            "border": null,
            "bottom": null,
            "display": null,
            "flex": null,
            "flex_flow": null,
            "grid_area": null,
            "grid_auto_columns": null,
            "grid_auto_flow": null,
            "grid_auto_rows": null,
            "grid_column": null,
            "grid_gap": null,
            "grid_row": null,
            "grid_template_areas": null,
            "grid_template_columns": null,
            "grid_template_rows": null,
            "height": null,
            "justify_content": null,
            "justify_items": null,
            "left": null,
            "margin": null,
            "max_height": null,
            "max_width": null,
            "min_height": null,
            "min_width": null,
            "object_fit": null,
            "object_position": null,
            "order": null,
            "overflow": null,
            "overflow_x": null,
            "overflow_y": null,
            "padding": null,
            "right": null,
            "top": null,
            "visibility": null,
            "width": null
          }
        },
        "1089d17e3ece46fdaf92ef6f608af67c": {
          "model_module": "@jupyter-widgets/base",
          "model_name": "LayoutModel",
          "model_module_version": "1.2.0",
          "state": {
            "_model_module": "@jupyter-widgets/base",
            "_model_module_version": "1.2.0",
            "_model_name": "LayoutModel",
            "_view_count": null,
            "_view_module": "@jupyter-widgets/base",
            "_view_module_version": "1.2.0",
            "_view_name": "LayoutView",
            "align_content": null,
            "align_items": null,
            "align_self": null,
            "border": null,
            "bottom": null,
            "display": null,
            "flex": null,
            "flex_flow": null,
            "grid_area": null,
            "grid_auto_columns": null,
            "grid_auto_flow": null,
            "grid_auto_rows": null,
            "grid_column": null,
            "grid_gap": null,
            "grid_row": null,
            "grid_template_areas": null,
            "grid_template_columns": null,
            "grid_template_rows": null,
            "height": null,
            "justify_content": null,
            "justify_items": null,
            "left": null,
            "margin": null,
            "max_height": null,
            "max_width": null,
            "min_height": null,
            "min_width": null,
            "object_fit": null,
            "object_position": null,
            "order": null,
            "overflow": null,
            "overflow_x": null,
            "overflow_y": null,
            "padding": null,
            "right": null,
            "top": null,
            "visibility": null,
            "width": null
          }
        },
        "8a96dfb4750b4f85b0b69d58351e5301": {
          "model_module": "@jupyter-widgets/controls",
          "model_name": "DescriptionStyleModel",
          "model_module_version": "1.5.0",
          "state": {
            "_model_module": "@jupyter-widgets/controls",
            "_model_module_version": "1.5.0",
            "_model_name": "DescriptionStyleModel",
            "_view_count": null,
            "_view_module": "@jupyter-widgets/base",
            "_view_module_version": "1.2.0",
            "_view_name": "StyleView",
            "description_width": ""
          }
        },
        "2d6a6aabac544fc28a9c80609b2dfff7": {
          "model_module": "@jupyter-widgets/base",
          "model_name": "LayoutModel",
          "model_module_version": "1.2.0",
          "state": {
            "_model_module": "@jupyter-widgets/base",
            "_model_module_version": "1.2.0",
            "_model_name": "LayoutModel",
            "_view_count": null,
            "_view_module": "@jupyter-widgets/base",
            "_view_module_version": "1.2.0",
            "_view_name": "LayoutView",
            "align_content": null,
            "align_items": null,
            "align_self": null,
            "border": null,
            "bottom": null,
            "display": null,
            "flex": null,
            "flex_flow": null,
            "grid_area": null,
            "grid_auto_columns": null,
            "grid_auto_flow": null,
            "grid_auto_rows": null,
            "grid_column": null,
            "grid_gap": null,
            "grid_row": null,
            "grid_template_areas": null,
            "grid_template_columns": null,
            "grid_template_rows": null,
            "height": null,
            "justify_content": null,
            "justify_items": null,
            "left": null,
            "margin": null,
            "max_height": null,
            "max_width": null,
            "min_height": null,
            "min_width": null,
            "object_fit": null,
            "object_position": null,
            "order": null,
            "overflow": null,
            "overflow_x": null,
            "overflow_y": null,
            "padding": null,
            "right": null,
            "top": null,
            "visibility": null,
            "width": null
          }
        },
        "8bd35782b9764fca87033126196978e0": {
          "model_module": "@jupyter-widgets/controls",
          "model_name": "ProgressStyleModel",
          "model_module_version": "1.5.0",
          "state": {
            "_model_module": "@jupyter-widgets/controls",
            "_model_module_version": "1.5.0",
            "_model_name": "ProgressStyleModel",
            "_view_count": null,
            "_view_module": "@jupyter-widgets/base",
            "_view_module_version": "1.2.0",
            "_view_name": "StyleView",
            "bar_color": null,
            "description_width": ""
          }
        },
        "3d1ec6458bf44ffa8c73a7dc3166ccff": {
          "model_module": "@jupyter-widgets/base",
          "model_name": "LayoutModel",
          "model_module_version": "1.2.0",
          "state": {
            "_model_module": "@jupyter-widgets/base",
            "_model_module_version": "1.2.0",
            "_model_name": "LayoutModel",
            "_view_count": null,
            "_view_module": "@jupyter-widgets/base",
            "_view_module_version": "1.2.0",
            "_view_name": "LayoutView",
            "align_content": null,
            "align_items": null,
            "align_self": null,
            "border": null,
            "bottom": null,
            "display": null,
            "flex": null,
            "flex_flow": null,
            "grid_area": null,
            "grid_auto_columns": null,
            "grid_auto_flow": null,
            "grid_auto_rows": null,
            "grid_column": null,
            "grid_gap": null,
            "grid_row": null,
            "grid_template_areas": null,
            "grid_template_columns": null,
            "grid_template_rows": null,
            "height": null,
            "justify_content": null,
            "justify_items": null,
            "left": null,
            "margin": null,
            "max_height": null,
            "max_width": null,
            "min_height": null,
            "min_width": null,
            "object_fit": null,
            "object_position": null,
            "order": null,
            "overflow": null,
            "overflow_x": null,
            "overflow_y": null,
            "padding": null,
            "right": null,
            "top": null,
            "visibility": null,
            "width": null
          }
        },
        "8156c49ddfd044abbf3b892022928cdb": {
          "model_module": "@jupyter-widgets/controls",
          "model_name": "DescriptionStyleModel",
          "model_module_version": "1.5.0",
          "state": {
            "_model_module": "@jupyter-widgets/controls",
            "_model_module_version": "1.5.0",
            "_model_name": "DescriptionStyleModel",
            "_view_count": null,
            "_view_module": "@jupyter-widgets/base",
            "_view_module_version": "1.2.0",
            "_view_name": "StyleView",
            "description_width": ""
          }
        }
      }
    }
  },
  "cells": [
    {
      "cell_type": "markdown",
      "metadata": {
        "id": "view-in-github",
        "colab_type": "text"
      },
      "source": [
        "<a href=\"https://colab.research.google.com/github/tententgc/se-model-txt-prediction/blob/main/Marong_project.ipynb\" target=\"_parent\"><img src=\"https://colab.research.google.com/assets/colab-badge.svg\" alt=\"Open In Colab\"/></a>"
      ]
    },
    {
      "cell_type": "markdown",
      "source": [
        "## Dependencies"
      ],
      "metadata": {
        "id": "Xi_rfoLn3xm2"
      }
    },
    {
      "cell_type": "code",
      "source": [
        "!pip install datasets --quiet\n",
        "!pip install pythainlp --quiet\n",
        "!pip install transformers --quiet\n",
        "!pip install sentencepiece accelerate --quiet\n",
        "!pip install accelerate -U --quiet"
      ],
      "metadata": {
        "id": "KnB40SCxjNOq",
        "colab": {
          "base_uri": "https://localhost:8080/"
        },
        "outputId": "83faa0bb-032b-4380-e060-29c713802a6c"
      },
      "execution_count": 1,
      "outputs": [
        {
          "output_type": "stream",
          "name": "stdout",
          "text": [
            "\u001b[?25l   \u001b[90m━━━━━━━━━━━━━━━━━━━━━━━━━━━━━━━━━━━━━━━━\u001b[0m \u001b[32m0.0/480.6 kB\u001b[0m \u001b[31m?\u001b[0m eta \u001b[36m-:--:--\u001b[0m\r\u001b[2K   \u001b[90m━━━━━━━━━━━━━━━━━━━━━━━━━━━━━━━━━━━━━━━━\u001b[0m \u001b[32m480.6/480.6 kB\u001b[0m \u001b[31m32.1 MB/s\u001b[0m eta \u001b[36m0:00:00\u001b[0m\n",
            "\u001b[?25h\u001b[?25l   \u001b[90m━━━━━━━━━━━━━━━━━━━━━━━━━━━━━━━━━━━━━━━━\u001b[0m \u001b[32m0.0/116.3 kB\u001b[0m \u001b[31m?\u001b[0m eta \u001b[36m-:--:--\u001b[0m\r\u001b[2K   \u001b[90m━━━━━━━━━━━━━━━━━━━━━━━━━━━━━━━━━━━━━━━━\u001b[0m \u001b[32m116.3/116.3 kB\u001b[0m \u001b[31m11.3 MB/s\u001b[0m eta \u001b[36m0:00:00\u001b[0m\n",
            "\u001b[?25h\u001b[?25l   \u001b[90m━━━━━━━━━━━━━━━━━━━━━━━━━━━━━━━━━━━━━━━━\u001b[0m \u001b[32m0.0/179.3 kB\u001b[0m \u001b[31m?\u001b[0m eta \u001b[36m-:--:--\u001b[0m\r\u001b[2K   \u001b[90m━━━━━━━━━━━━━━━━━━━━━━━━━━━━━━━━━━━━━━━━\u001b[0m \u001b[32m179.3/179.3 kB\u001b[0m \u001b[31m16.1 MB/s\u001b[0m eta \u001b[36m0:00:00\u001b[0m\n",
            "\u001b[?25h\u001b[?25l   \u001b[90m━━━━━━━━━━━━━━━━━━━━━━━━━━━━━━━━━━━━━━━━\u001b[0m \u001b[32m0.0/134.8 kB\u001b[0m \u001b[31m?\u001b[0m eta \u001b[36m-:--:--\u001b[0m\r\u001b[2K   \u001b[90m━━━━━━━━━━━━━━━━━━━━━━━━━━━━━━━━━━━━━━━━\u001b[0m \u001b[32m134.8/134.8 kB\u001b[0m \u001b[31m13.5 MB/s\u001b[0m eta \u001b[36m0:00:00\u001b[0m\n",
            "\u001b[?25h\u001b[?25l   \u001b[90m━━━━━━━━━━━━━━━━━━━━━━━━━━━━━━━━━━━━━━━━\u001b[0m \u001b[32m0.0/194.1 kB\u001b[0m \u001b[31m?\u001b[0m eta \u001b[36m-:--:--\u001b[0m\r\u001b[2K   \u001b[90m━━━━━━━━━━━━━━━━━━━━━━━━━━━━━━━━━━━━━━━━\u001b[0m \u001b[32m194.1/194.1 kB\u001b[0m \u001b[31m17.4 MB/s\u001b[0m eta \u001b[36m0:00:00\u001b[0m\n",
            "\u001b[?25h\u001b[31mERROR: pip's dependency resolver does not currently take into account all the packages that are installed. This behaviour is the source of the following dependency conflicts.\n",
            "gcsfs 2024.10.0 requires fsspec==2024.10.0, but you have fsspec 2024.9.0 which is incompatible.\u001b[0m\u001b[31m\n",
            "\u001b[2K   \u001b[90m━━━━━━━━━━━━━━━━━━━━━━━━━━━━━━━━━━━━━━━━\u001b[0m \u001b[32m17.9/17.9 MB\u001b[0m \u001b[31m100.4 MB/s\u001b[0m eta \u001b[36m0:00:00\u001b[0m\n",
            "\u001b[?25h"
          ]
        }
      ]
    },
    {
      "cell_type": "code",
      "source": [
        "!pip install evaluate --quiet"
      ],
      "metadata": {
        "collapsed": true,
        "id": "wsbDSs5l7mBu"
      },
      "execution_count": 41,
      "outputs": []
    },
    {
      "cell_type": "code",
      "source": [
        "import evaluate"
      ],
      "metadata": {
        "id": "PqeLjdmt72Jg"
      },
      "execution_count": 42,
      "outputs": []
    },
    {
      "cell_type": "code",
      "source": [
        "# data preprocessing\n",
        "import pythainlp\n",
        "import re\n",
        "import numpy as np\n",
        "import pandas as pd\n",
        "\n",
        "\n",
        "# model\n",
        "import torch\n",
        "from torch import nn\n",
        "import pickle\n",
        "import sklearn\n",
        "from sklearn.feature_extraction.text import CountVectorizer, TfidfVectorizer\n",
        "from sklearn.linear_model import LogisticRegression\n",
        "from sklearn.metrics import classification_report\n",
        "from sklearn.model_selection import train_test_split\n",
        "from sklearn.pipeline import Pipeline\n",
        "from sklearn.preprocessing import FunctionTransformer\n",
        "from transformers import (\n",
        "    AutoTokenizer,\n",
        "    AutoModel,\n",
        "    AutoModelForSequenceClassification,\n",
        "    AutoConfig,\n",
        "    Trainer,\n",
        "    TrainingArguments,\n",
        "    DataCollatorWithPadding,\n",
        "    pipeline\n",
        ")\n",
        "\n",
        "from datasets import (\n",
        "    Dataset,\n",
        "    DatasetDict,\n",
        "    Features, Sequence, ClassLabel, Value,\n",
        "    load_dataset\n",
        ")"
      ],
      "metadata": {
        "id": "-DoeocFiRAFY"
      },
      "execution_count": 43,
      "outputs": []
    },
    {
      "cell_type": "code",
      "source": [
        "!pip show datasets"
      ],
      "metadata": {
        "colab": {
          "base_uri": "https://localhost:8080/"
        },
        "id": "AutTL06I5LV6",
        "outputId": "8c170875-b2e7-494a-b68f-867e60dc9e20"
      },
      "execution_count": 3,
      "outputs": [
        {
          "output_type": "stream",
          "name": "stdout",
          "text": [
            "Name: datasets\n",
            "Version: 3.2.0\n",
            "Summary: HuggingFace community-driven open-source library of datasets\n",
            "Home-page: https://github.com/huggingface/datasets\n",
            "Author: HuggingFace Inc.\n",
            "Author-email: thomas@huggingface.co\n",
            "License: Apache 2.0\n",
            "Location: /usr/local/lib/python3.10/dist-packages\n",
            "Requires: aiohttp, dill, filelock, fsspec, huggingface-hub, multiprocess, numpy, packaging, pandas, pyarrow, pyyaml, requests, tqdm, xxhash\n",
            "Required-by: \n"
          ]
        }
      ]
    },
    {
      "cell_type": "markdown",
      "source": [
        "## Import data"
      ],
      "metadata": {
        "id": "7WVsQa8pk-gp"
      }
    },
    {
      "cell_type": "code",
      "execution_count": 8,
      "metadata": {
        "id": "Tx14eWmPdlPS"
      },
      "outputs": [],
      "source": [
        "!mkdir dataset"
      ]
    },
    {
      "cell_type": "code",
      "execution_count": 9,
      "metadata": {
        "colab": {
          "base_uri": "https://localhost:8080/"
        },
        "id": "KHbhoiRZdWzs",
        "outputId": "b318ab1e-8bf0-49ba-e967-29c97cf161da"
      },
      "outputs": [
        {
          "output_type": "stream",
          "name": "stdout",
          "text": [
            "--2024-12-27 20:54:50--  https://raw.githubusercontent.com/nlp-chula/traffy-predict/main/dataset/TF-checked-train-dataset-v2.csv\n",
            "Resolving raw.githubusercontent.com (raw.githubusercontent.com)... 185.199.111.133, 185.199.108.133, 185.199.109.133, ...\n",
            "Connecting to raw.githubusercontent.com (raw.githubusercontent.com)|185.199.111.133|:443... connected.\n",
            "HTTP request sent, awaiting response... 200 OK\n",
            "Length: 701514 (685K) [text/plain]\n",
            "Saving to: ‘dataset/train.csv’\n",
            "\n",
            "dataset/train.csv   100%[===================>] 685.07K  --.-KB/s    in 0.005s  \n",
            "\n",
            "2024-12-27 20:54:51 (125 MB/s) - ‘dataset/train.csv’ saved [701514/701514]\n",
            "\n",
            "--2024-12-27 20:54:51--  https://raw.githubusercontent.com/nlp-chula/traffy-predict/main/dataset/TF-checked-test-dataset-v2.csv\n",
            "Resolving raw.githubusercontent.com (raw.githubusercontent.com)... 185.199.108.133, 185.199.109.133, 185.199.110.133, ...\n",
            "Connecting to raw.githubusercontent.com (raw.githubusercontent.com)|185.199.108.133|:443... connected.\n",
            "HTTP request sent, awaiting response... 200 OK\n",
            "Length: 176682 (173K) [text/plain]\n",
            "Saving to: ‘dataset/test.csv’\n",
            "\n",
            "dataset/test.csv    100%[===================>] 172.54K  --.-KB/s    in 0.004s  \n",
            "\n",
            "2024-12-27 20:54:51 (39.3 MB/s) - ‘dataset/test.csv’ saved [176682/176682]\n",
            "\n"
          ]
        }
      ],
      "source": [
        "!wget \"https://raw.githubusercontent.com/nlp-chula/traffy-predict/main/dataset/TF-checked-train-dataset-v2.csv\" -O dataset/train.csv\n",
        "!wget \"https://raw.githubusercontent.com/nlp-chula/traffy-predict/main/dataset/TF-checked-test-dataset-v2.csv\" -O dataset/test.csv"
      ]
    },
    {
      "cell_type": "code",
      "source": [
        "df = pd.read_csv(\"/content/dataset/train.csv\")\n",
        "test_df = pd.read_csv(\"/content/dataset/test.csv\")"
      ],
      "metadata": {
        "id": "iHZw_rRHVzpO"
      },
      "execution_count": 10,
      "outputs": []
    },
    {
      "cell_type": "markdown",
      "source": [
        "## Data Preprocessing"
      ],
      "metadata": {
        "id": "GnIhfTfTlIzu"
      }
    },
    {
      "cell_type": "code",
      "source": [
        "train_df, dev_df = train_test_split(df, test_size=0.2, random_state=42)"
      ],
      "metadata": {
        "id": "oOg1whvuKYJR"
      },
      "execution_count": 11,
      "outputs": []
    },
    {
      "cell_type": "code",
      "source": [
        "print(len(train_df))\n",
        "print(len(dev_df))\n",
        "print(len(test_df))"
      ],
      "metadata": {
        "colab": {
          "base_uri": "https://localhost:8080/"
        },
        "id": "prcfgzQ8K0Cd",
        "outputId": "464ba823-d29c-427a-f269-423d8c6d7111"
      },
      "execution_count": 12,
      "outputs": [
        {
          "output_type": "stream",
          "name": "stdout",
          "text": [
            "1744\n",
            "436\n",
            "546\n"
          ]
        }
      ]
    },
    {
      "cell_type": "code",
      "source": [
        "labels = ['ต้นไม้',\n",
        " \"('ทางเท้า', 'รถจอดขวางทางเท้า')\",\n",
        " \"('ไฟฟ้า', 'เสาไฟฟ้า&สายไฟฟ้า')\",\n",
        " 'ประปา',\n",
        " \"('ทางเท้า', 'ท่อระบายน้ำบนทางเท้า')\",\n",
        " 'สัตว์',\n",
        " 'อุปกรณ์ชำรุด',\n",
        " 'น้ำท่วม',\n",
        " \"('ทางเท้า', 'หาบเร่แผงลอย')\",\n",
        " 'reject',\n",
        " 'รถสาธารณะ',\n",
        " 'กรุงเทพโปร่งใส&ทุจริต',\n",
        " 'จราจร',\n",
        " 'วินมอเตอร์ไซค์',\n",
        " \"('ถนน', 'ท่อระบายน้ำบนถนน')\",\n",
        " \"('ถนน', 'รถจอดขวางถนน')\",\n",
        " 'คนไร้บ้าน&ขอทาน',\n",
        " \"('ไฟฟ้า', 'ไฟส่องสว่าง')\",\n",
        " \"('ถนน', 'พื้นผิวถนนชำรุด')\",\n",
        " 'อาคารสถานที่ชำรุด',\n",
        " 'มลภาวะทางอากาศ',\n",
        " \"('ขยะ', 'น้ำเน่าเสีย')\",\n",
        " 'สวนสาธารณะ',\n",
        " 'เสียง',\n",
        " \"('ทางเท้า', 'ทางเท้าชำรุด')\",\n",
        " \"('ขยะ', 'ขยะ')\",\n",
        " \"('ถนน', 'ทางม้าลาย')\",\n",
        " 'การเข้าถึงของคนพิการ&ผู้สูงอายุ']"
      ],
      "metadata": {
        "id": "9OeraDGl8EV9"
      },
      "execution_count": 13,
      "outputs": []
    },
    {
      "cell_type": "code",
      "source": [
        "train_df['description'] = train_df['description'].apply(lambda x: x.replace('|', ''))\n",
        "dev_df['description'] = dev_df['description'].apply(lambda x: x.replace('|', ''))\n",
        "test_df['description'] = test_df['description'].apply(lambda x: x.replace('|', ''))"
      ],
      "metadata": {
        "id": "oU2HKp81gftZ"
      },
      "execution_count": 14,
      "outputs": []
    },
    {
      "cell_type": "code",
      "source": [
        "label_to_idx = {label:i for i,label in enumerate(labels)}\n",
        "\n",
        "train_df['label'] = train_df['label'].apply(lambda x: label_to_idx[x])\n",
        "dev_df['label'] = dev_df['label'].apply(lambda x: label_to_idx[x])\n",
        "test_df['label'] = test_df['label'].apply(lambda x: label_to_idx[x])\n",
        "\n",
        "label_list = [0] * len(label_to_idx)\n",
        "for label in label_to_idx:\n",
        "  label_list[label_to_idx[label]] = label"
      ],
      "metadata": {
        "id": "3fsEMTCwlaIY"
      },
      "execution_count": 15,
      "outputs": []
    },
    {
      "cell_type": "markdown",
      "source": [
        "## Model"
      ],
      "metadata": {
        "id": "VK7Q9_PB34Pz"
      }
    },
    {
      "cell_type": "code",
      "source": [
        "model_name = 'clicknext/phayathaibert'"
      ],
      "metadata": {
        "id": "1-OssmfelysG"
      },
      "execution_count": 16,
      "outputs": []
    },
    {
      "cell_type": "code",
      "source": [
        "config = AutoConfig.from_pretrained(model_name, num_labels=len(labels))\n",
        "tokenizer = AutoTokenizer.from_pretrained(model_name)\n",
        "model = AutoModelForSequenceClassification.from_pretrained(model_name,\n",
        "                                                           config=config)\n",
        "\n"
      ],
      "metadata": {
        "id": "3gByEy5ZUvHw",
        "colab": {
          "base_uri": "https://localhost:8080/",
          "height": 392,
          "referenced_widgets": [
            "a6724587279843b3a16536c69fc85618",
            "01f36f9b598a4f80a69731bd0cf3ed9b",
            "aed1f8c2577f4973b116b5112e728c05",
            "1238a1bfe2204e55848ea49dbaf06250",
            "fd19244ea6db45b19134c087604cfbdd",
            "46e646be91504e6486b7c8636ffc6920",
            "4ca9728104d942dc9f36ba2ec02bcce4",
            "542c8c5c63b64334aa4390ec9bdc14d3",
            "33a426c3964d4d9e9052cbddb37f5d75",
            "f6bfa3b7b4b14891828da49a140bd802",
            "0de3e42c22c04adaa13bc1f866e1f625",
            "ac595fff966f40349e38c9dfb18fe932",
            "445d11d8ffe642a3944d954534b981d1",
            "eec9d4ebd5a44616847a3ebe0ca6c26d",
            "f36c255892844117a0373999fbc69d98",
            "22fdbf857e3c4f6ab1ab081a76c435c1",
            "61671c0597bb4ad9b5182fe48e13c81d",
            "52b5fa2c7ebb45efb1bf7e31f504f2b2",
            "577d1adc76864e9fbd6da0907a6c77f2",
            "41790272b2c4478cae4398c46af0bf5c",
            "df3ecc9e09354784ae2fe41eb6d0384f",
            "c753ce752c5d48d3b1c35f0d3415e8ce",
            "991872530b7a4733ac6907f37de83f0c",
            "849d41673dde4bdcba16406a679e3186",
            "64e4770c6d5648d58a507dbdc782b98f",
            "82a7b1b874c5490ca499a7e4750409f6",
            "9685cc47f984462c90f9eae79fc2363f",
            "d19e32bbb11e4b2a87ba77a97edce7f1",
            "2a9c5bd629ab4d54969778ab7e9b0c79",
            "1a60af4be78d4b95a0e6b177a7b24796",
            "18cb01294fa3430f90acd8dbf3deb7dc",
            "2daf2f7d615947f586ac808794bab1bf",
            "154065bce3734245ae3ad1cf744e423f",
            "51b3b9fc858f4c80af45af8a716761d4",
            "8a6ba957eb5d44949a2d898b25248615",
            "227add70966647a4ba7cf7b2edc865df",
            "d16e3f83226d4a879eeecf6c70de2c27",
            "54bb825bdf9f454e9409fe619023a91d",
            "14ad40f3ec4f4ac58a3ae33a26e08826",
            "05f16041d59c419cbeb61f2cc2c8cb0a",
            "77dd50619dcb40539acde22b26d515ca",
            "af11b041a01f4c4781b01128302b57f8",
            "455b2d3624454b7c9a520a18300d91bb",
            "cb4d235b33fd49ee9af7468641b3c1fe",
            "c07f8b3b3d234bbe99aad801a14cc0bc",
            "63c9dd10bb0b42958c959591919d5ba0",
            "86c15330229c4706a5a10c764c8ef6df",
            "8d07b1a075a140249ab6691379071ed4",
            "46b7814cbc744a21a07090d926b90b19",
            "a29b6e1d661349d2955c8cfd7165da16",
            "6bac0014fd72499dbb00840fb275c899",
            "3e1f4b6fece740df8de5ff263a22950e",
            "40276c5f045d4315b5ae0bbf57cb1007",
            "69a3dfee28fc4f9fb196aa61fba52664",
            "b6e1c5ba39f640b5aca6a96f8cb2b31b",
            "05114ce38fd94ba89e768a0f4957b317",
            "4d124ed220ff4c059cecc65dd1659603",
            "1a1fb6cbad1d49d3847b2255f8c91284",
            "96a401a6400a4a8d8e9848d429bbb747",
            "41c91c92a8bb4981a7be999f9400b050",
            "6fc77819cf334031baecf0593468e42d",
            "b9a70f2dca0742019ae12cc5e3ed500c",
            "e3f2111434974007a8ee8ae6e41787c8",
            "c2fe5b124811440698a5f8855ebb2013",
            "06ddadc1bd3349ea887590f9885491c9",
            "12aab3a1180845ddbfddafe1f3e33823",
            "2860ee8b6ad74171994dadce4bd18d76",
            "377b34f1109e4cfd906c114d9ffe4689",
            "761d62e95e884e66820478cb12604c20",
            "be1a89b07c9f466d94564156b9edac88",
            "918aa2de1b514ee6bd32d8457365c66c",
            "120bfc3dbe924b60b2b6d41c3e0c2939",
            "ae3a73d2dbab4d3f930a07fa92da5eb3",
            "854628c04d7c4aa3a6d3cd7c8b251179",
            "3b53ac5e6db9428b9f333bdd541b7832",
            "7deef645f6b242db8ef76d1b5dadde88",
            "d45f475886ec44138060f73757056dfb"
          ]
        },
        "outputId": "262bca51-acfd-47ae-cca8-93d522dd9685"
      },
      "execution_count": 17,
      "outputs": [
        {
          "output_type": "stream",
          "name": "stderr",
          "text": [
            "/usr/local/lib/python3.10/dist-packages/huggingface_hub/utils/_auth.py:94: UserWarning: \n",
            "The secret `HF_TOKEN` does not exist in your Colab secrets.\n",
            "To authenticate with the Hugging Face Hub, create a token in your settings tab (https://huggingface.co/settings/tokens), set it as secret in your Google Colab and restart your session.\n",
            "You will be able to reuse this secret in all of your notebooks.\n",
            "Please note that authentication is recommended but still optional to access public models or datasets.\n",
            "  warnings.warn(\n"
          ]
        },
        {
          "output_type": "display_data",
          "data": {
            "text/plain": [
              "config.json:   0%|          | 0.00/642 [00:00<?, ?B/s]"
            ],
            "application/vnd.jupyter.widget-view+json": {
              "version_major": 2,
              "version_minor": 0,
              "model_id": "a6724587279843b3a16536c69fc85618"
            }
          },
          "metadata": {}
        },
        {
          "output_type": "display_data",
          "data": {
            "text/plain": [
              "tokenizer_config.json:   0%|          | 0.00/527 [00:00<?, ?B/s]"
            ],
            "application/vnd.jupyter.widget-view+json": {
              "version_major": 2,
              "version_minor": 0,
              "model_id": "ac595fff966f40349e38c9dfb18fe932"
            }
          },
          "metadata": {}
        },
        {
          "output_type": "display_data",
          "data": {
            "text/plain": [
              "sentencepiece.bpe.model:   0%|          | 0.00/5.26M [00:00<?, ?B/s]"
            ],
            "application/vnd.jupyter.widget-view+json": {
              "version_major": 2,
              "version_minor": 0,
              "model_id": "991872530b7a4733ac6907f37de83f0c"
            }
          },
          "metadata": {}
        },
        {
          "output_type": "display_data",
          "data": {
            "text/plain": [
              "tokenizer.json:   0%|          | 0.00/17.4M [00:00<?, ?B/s]"
            ],
            "application/vnd.jupyter.widget-view+json": {
              "version_major": 2,
              "version_minor": 0,
              "model_id": "51b3b9fc858f4c80af45af8a716761d4"
            }
          },
          "metadata": {}
        },
        {
          "output_type": "display_data",
          "data": {
            "text/plain": [
              "added_tokens.json:   0%|          | 0.00/15.0k [00:00<?, ?B/s]"
            ],
            "application/vnd.jupyter.widget-view+json": {
              "version_major": 2,
              "version_minor": 0,
              "model_id": "c07f8b3b3d234bbe99aad801a14cc0bc"
            }
          },
          "metadata": {}
        },
        {
          "output_type": "display_data",
          "data": {
            "text/plain": [
              "special_tokens_map.json:   0%|          | 0.00/364 [00:00<?, ?B/s]"
            ],
            "application/vnd.jupyter.widget-view+json": {
              "version_major": 2,
              "version_minor": 0,
              "model_id": "05114ce38fd94ba89e768a0f4957b317"
            }
          },
          "metadata": {}
        },
        {
          "output_type": "display_data",
          "data": {
            "text/plain": [
              "model.safetensors:   0%|          | 0.00/1.11G [00:00<?, ?B/s]"
            ],
            "application/vnd.jupyter.widget-view+json": {
              "version_major": 2,
              "version_minor": 0,
              "model_id": "2860ee8b6ad74171994dadce4bd18d76"
            }
          },
          "metadata": {}
        },
        {
          "output_type": "stream",
          "name": "stderr",
          "text": [
            "Some weights of CamembertForSequenceClassification were not initialized from the model checkpoint at clicknext/phayathaibert and are newly initialized: ['classifier.dense.bias', 'classifier.dense.weight', 'classifier.out_proj.bias', 'classifier.out_proj.weight']\n",
            "You should probably TRAIN this model on a down-stream task to be able to use it for predictions and inference.\n"
          ]
        }
      ]
    },
    {
      "cell_type": "code",
      "source": [
        "train_df = train_df.reset_index(drop=True)\n",
        "dev_df = dev_df.reset_index(drop=True)\n",
        "test_df = test_df.reset_index(drop=True)"
      ],
      "metadata": {
        "id": "6ZNMA5yCVW9V"
      },
      "execution_count": 18,
      "outputs": []
    },
    {
      "cell_type": "code",
      "source": [
        "features= Features({\n",
        "                    \"description\": Value(dtype='string'),\n",
        "                    \"label\": ClassLabel(names=label_list)\n",
        "                })\n",
        "d = DatasetDict({'train': Dataset.from_pandas(train_df, features=features),\n",
        "                 'dev': Dataset.from_pandas(dev_df, features=features),\n",
        "                 'test': Dataset.from_pandas(test_df, features=features)})"
      ],
      "metadata": {
        "id": "PO2mkvLr7rgS"
      },
      "execution_count": 19,
      "outputs": []
    },
    {
      "cell_type": "code",
      "source": [
        "d"
      ],
      "metadata": {
        "colab": {
          "base_uri": "https://localhost:8080/"
        },
        "id": "pAMBhAYz8avJ",
        "outputId": "fc7c5435-0155-4478-f727-e08b5227243e"
      },
      "execution_count": 20,
      "outputs": [
        {
          "output_type": "execute_result",
          "data": {
            "text/plain": [
              "DatasetDict({\n",
              "    train: Dataset({\n",
              "        features: ['description', 'label'],\n",
              "        num_rows: 1744\n",
              "    })\n",
              "    dev: Dataset({\n",
              "        features: ['description', 'label'],\n",
              "        num_rows: 436\n",
              "    })\n",
              "    test: Dataset({\n",
              "        features: ['description', 'label'],\n",
              "        num_rows: 546\n",
              "    })\n",
              "})"
            ]
          },
          "metadata": {},
          "execution_count": 20
        }
      ]
    },
    {
      "cell_type": "code",
      "source": [
        "d['train'][0]"
      ],
      "metadata": {
        "colab": {
          "base_uri": "https://localhost:8080/"
        },
        "id": "U7gD5il7ME1j",
        "outputId": "ebd13c4f-a774-405c-8068-0aff59deb4ca"
      },
      "execution_count": 21,
      "outputs": [
        {
          "output_type": "execute_result",
          "data": {
            "text/plain": [
              "{'description': '1. การจราจรจากบางกะปิ มุ่งหน้า5แยกลาดพร้าว บริเวณแยก รัชดา-ลาดพร้าว เลนซ้ายสุดที่จะไปเส้นรัชดามุ่งหน้าอโศก รถเมล์ รถส่วนตัว จอดขวางรอไฟเขียวตรงมุ่งหน้า5แยกลาดพร้าว เวลาไฟเขียวเลี้ยวซ้ายแล้วไม่สามารถไปได้ อยากให้มีเจ้าหน้าที่ช่วยกวดขันชั่วโมงเร่งด่วน กรณีใกล้เคียงแยกวังหินเลนซ้ายผ่านตลอดแต่ก็มีรถเลนตรงมาจอดขวางในชั่วโมงเร่งด่วน',\n",
              " 'label': 12}"
            ]
          },
          "metadata": {},
          "execution_count": 21
        }
      ]
    },
    {
      "cell_type": "code",
      "source": [
        "def tokenize(examples):\n",
        "    tokenized_inputs = tokenizer(examples[\"description\"],\n",
        "                                 is_split_into_words=False,\n",
        "                                 truncation=True,\n",
        "                                 max_length=100)\n",
        "    return tokenized_inputs\n",
        "tokenized_datasets = d.map(tokenize, batched=True)"
      ],
      "metadata": {
        "colab": {
          "base_uri": "https://localhost:8080/",
          "height": 112,
          "referenced_widgets": [
            "ce8abd9ddf1d4930b504918cc63b8775",
            "480762ebe0d14319b2950943a9dc8fa9",
            "7aa23f7620794318b1a85f71750b2c98",
            "66b4dda953064ba39a0e2a05bcb7b2ea",
            "adebe15a20a64bf1a3ca8fb4aabcb4b8",
            "6f96b299f41a483b8f639832b073bc68",
            "ba053d759d0047f8a6ac8fe1fbcfb614",
            "984b780009e44241b75145410c194746",
            "40262c5e5a094294b4480787e96794a5",
            "31e0bcdbc95049e287d4c4487a861cae",
            "8bf31a7ad01447009911215cf7a9b87c",
            "f0137ee83f6e420cb4c73f6349427ee3",
            "ca4fce4c699e445c89523b738828bc6c",
            "45d823c7b43f46ba99a0b692339857ea",
            "108958dc8454481f8236f833ecd82999",
            "99b6437f1a164682a1588118b716f31b",
            "12ced163b7a14920b8cbcf90714d91fd",
            "5e000ee9d1ac4051a064395a1974b0c7",
            "1343437e29b5401c881d615b10e712ef",
            "acd95739259547ef8f88b02e8769169c",
            "8fe0ee737b9d46dbbd17ff878e56c9a7",
            "f463bc96acb5408593ff3ddac99ba205",
            "6964e391b92344939638e144bf98cad0",
            "697f3e74bd824f1092b8b5af43273149",
            "e0157146430b455f9069f21f825f0456",
            "96450d9cb4b248cbb028f5a3627f0b1b",
            "cd3850d0bad749a18c08f1cc81ca7f26",
            "90667c4c868b4ae3820cc17f51c05baf",
            "3b1121d5005e471a8263fdff742019da",
            "779c4462eded4b3d8eec6c31440dd894",
            "407b94da218e4853a1698113409df2ad",
            "0938432f00974d57b46707484b983ea2",
            "ed9bf2a768eb496e99ab886fb4da238f"
          ]
        },
        "id": "Dcgal5YNLR1B",
        "outputId": "2e5b9ac4-bee2-408e-b35c-c6ab57e21928"
      },
      "execution_count": 22,
      "outputs": [
        {
          "output_type": "display_data",
          "data": {
            "text/plain": [
              "Map:   0%|          | 0/1744 [00:00<?, ? examples/s]"
            ],
            "application/vnd.jupyter.widget-view+json": {
              "version_major": 2,
              "version_minor": 0,
              "model_id": "ce8abd9ddf1d4930b504918cc63b8775"
            }
          },
          "metadata": {}
        },
        {
          "output_type": "display_data",
          "data": {
            "text/plain": [
              "Map:   0%|          | 0/436 [00:00<?, ? examples/s]"
            ],
            "application/vnd.jupyter.widget-view+json": {
              "version_major": 2,
              "version_minor": 0,
              "model_id": "f0137ee83f6e420cb4c73f6349427ee3"
            }
          },
          "metadata": {}
        },
        {
          "output_type": "display_data",
          "data": {
            "text/plain": [
              "Map:   0%|          | 0/546 [00:00<?, ? examples/s]"
            ],
            "application/vnd.jupyter.widget-view+json": {
              "version_major": 2,
              "version_minor": 0,
              "model_id": "6964e391b92344939638e144bf98cad0"
            }
          },
          "metadata": {}
        }
      ]
    },
    {
      "cell_type": "code",
      "source": [
        "tokenized_datasets"
      ],
      "metadata": {
        "colab": {
          "base_uri": "https://localhost:8080/"
        },
        "id": "bVnvcKfJgkX4",
        "outputId": "aefdfc3e-12b1-4b73-ad90-13b28b409270"
      },
      "execution_count": 23,
      "outputs": [
        {
          "output_type": "execute_result",
          "data": {
            "text/plain": [
              "DatasetDict({\n",
              "    train: Dataset({\n",
              "        features: ['description', 'label', 'input_ids', 'attention_mask'],\n",
              "        num_rows: 1744\n",
              "    })\n",
              "    dev: Dataset({\n",
              "        features: ['description', 'label', 'input_ids', 'attention_mask'],\n",
              "        num_rows: 436\n",
              "    })\n",
              "    test: Dataset({\n",
              "        features: ['description', 'label', 'input_ids', 'attention_mask'],\n",
              "        num_rows: 546\n",
              "    })\n",
              "})"
            ]
          },
          "metadata": {},
          "execution_count": 23
        }
      ]
    },
    {
      "cell_type": "code",
      "source": [
        "tokenized_datasets['train'][0]['input_ids']"
      ],
      "metadata": {
        "colab": {
          "base_uri": "https://localhost:8080/"
        },
        "id": "ZYJGz-0OhXDO",
        "outputId": "b4323875-8565-4892-f8d0-64df3fc8f7fb"
      },
      "execution_count": 24,
      "outputs": [
        {
          "output_type": "execute_result",
          "data": {
            "text/plain": [
              "[5,\n",
              " 3428,\n",
              " 10,\n",
              " 3948,\n",
              " 32,\n",
              " 19837,\n",
              " 10,\n",
              " 5770,\n",
              " 65,\n",
              " 818,\n",
              " 7216,\n",
              " 10,\n",
              " 22679,\n",
              " 10,\n",
              " 13012,\n",
              " 35,\n",
              " 7216,\n",
              " 10,\n",
              " 2303,\n",
              " 2027,\n",
              " 329,\n",
              " 9625,\n",
              " 841,\n",
              " 13012,\n",
              " 5770,\n",
              " 15967,\n",
              " 10,\n",
              " 5071,\n",
              " 10,\n",
              " 180,\n",
              " 744,\n",
              " 10,\n",
              " 2373,\n",
              " 4933,\n",
              " 289,\n",
              " 15375,\n",
              " 704,\n",
              " 5770,\n",
              " 65,\n",
              " 818,\n",
              " 7216,\n",
              " 3731,\n",
              " 15375,\n",
              " 17278,\n",
              " 22,\n",
              " 363,\n",
              " 2342,\n",
              " 4422,\n",
              " 10585,\n",
              " 6920,\n",
              " 19697,\n",
              " 797,\n",
              " 3709,\n",
              " 7199,\n",
              " 2285,\n",
              " 818,\n",
              " 1619,\n",
              " 1672,\n",
              " 2303,\n",
              " 2027,\n",
              " 199,\n",
              " 530,\n",
              " 7852,\n",
              " 180,\n",
              " 2303,\n",
              " 704,\n",
              " 13737,\n",
              " 4933,\n",
              " 20,\n",
              " 797,\n",
              " 3709,\n",
              " 6]"
            ]
          },
          "metadata": {},
          "execution_count": 24
        }
      ]
    },
    {
      "cell_type": "code",
      "source": [
        "tokenizer.convert_ids_to_tokens(tokenized_datasets['train'][0]['input_ids'])"
      ],
      "metadata": {
        "colab": {
          "base_uri": "https://localhost:8080/"
        },
        "id": "H00_0_J4kbf_",
        "outputId": "febd92a4-fb40-4ed2-c922-139310979adc"
      },
      "execution_count": 25,
      "outputs": [
        {
          "output_type": "execute_result",
          "data": {
            "text/plain": [
              "['<s>',\n",
              " '▁1.',\n",
              " '▁',\n",
              " 'การจราจร',\n",
              " 'จาก',\n",
              " 'บางกะปิ',\n",
              " '▁',\n",
              " 'มุ่งหน้า',\n",
              " '5',\n",
              " 'แยก',\n",
              " 'ลาดพร้าว',\n",
              " '▁',\n",
              " 'บริเวณแยก',\n",
              " '▁',\n",
              " 'รัชดา',\n",
              " '-',\n",
              " 'ลาดพร้าว',\n",
              " '▁',\n",
              " 'เลน',\n",
              " 'ซ้าย',\n",
              " 'สุด',\n",
              " 'ที่จะไป',\n",
              " 'เส้น',\n",
              " 'รัชดา',\n",
              " 'มุ่งหน้า',\n",
              " 'อโศก',\n",
              " '▁',\n",
              " 'รถเมล์',\n",
              " '▁',\n",
              " 'รถ',\n",
              " 'ส่วนตัว',\n",
              " '▁',\n",
              " 'จอด',\n",
              " 'ขวาง',\n",
              " 'รอ',\n",
              " 'ไฟเขียว',\n",
              " 'ตรง',\n",
              " 'มุ่งหน้า',\n",
              " '5',\n",
              " 'แยก',\n",
              " 'ลาดพร้าว',\n",
              " '▁เวลา',\n",
              " 'ไฟเขียว',\n",
              " 'เลี้ยวซ้าย',\n",
              " 'แล้ว',\n",
              " 'ไม่สามารถ',\n",
              " 'ไปได้',\n",
              " '▁อยากให้',\n",
              " 'มีเจ้าหน้า',\n",
              " 'ที่ช่วย',\n",
              " 'กวดขัน',\n",
              " 'ชั่วโมง',\n",
              " 'เร่งด่วน',\n",
              " '▁กรณี',\n",
              " 'ใกล้เคียง',\n",
              " 'แยก',\n",
              " 'วัง',\n",
              " 'หิน',\n",
              " 'เลน',\n",
              " 'ซ้าย',\n",
              " 'ผ่าน',\n",
              " 'ตลอด',\n",
              " 'แต่ก็มี',\n",
              " 'รถ',\n",
              " 'เลน',\n",
              " 'ตรง',\n",
              " 'มาจอด',\n",
              " 'ขวาง',\n",
              " 'ใน',\n",
              " 'ชั่วโมง',\n",
              " 'เร่งด่วน',\n",
              " '</s>']"
            ]
          },
          "metadata": {},
          "execution_count": 25
        }
      ]
    },
    {
      "cell_type": "code",
      "source": [
        "tokenized_datasets"
      ],
      "metadata": {
        "colab": {
          "base_uri": "https://localhost:8080/"
        },
        "id": "JUihyThzJdta",
        "outputId": "98cc90a8-ca4e-4466-8fad-ac4158ed94c7"
      },
      "execution_count": 26,
      "outputs": [
        {
          "output_type": "execute_result",
          "data": {
            "text/plain": [
              "DatasetDict({\n",
              "    train: Dataset({\n",
              "        features: ['description', 'label', 'input_ids', 'attention_mask'],\n",
              "        num_rows: 1744\n",
              "    })\n",
              "    dev: Dataset({\n",
              "        features: ['description', 'label', 'input_ids', 'attention_mask'],\n",
              "        num_rows: 436\n",
              "    })\n",
              "    test: Dataset({\n",
              "        features: ['description', 'label', 'input_ids', 'attention_mask'],\n",
              "        num_rows: 546\n",
              "    })\n",
              "})"
            ]
          },
          "metadata": {},
          "execution_count": 26
        }
      ]
    },
    {
      "cell_type": "code",
      "source": [
        "data_collator = DataCollatorWithPadding(tokenizer,\n",
        "                                        padding=True,\n",
        "                                        pad_to_multiple_of=8)\n",
        "tokenized_datasets[\"train\"].column_names"
      ],
      "metadata": {
        "colab": {
          "base_uri": "https://localhost:8080/"
        },
        "id": "JtZnihsXLQJQ",
        "outputId": "426d1b03-4269-476d-93f4-6e235f814d4f"
      },
      "execution_count": 27,
      "outputs": [
        {
          "output_type": "execute_result",
          "data": {
            "text/plain": [
              "['description', 'label', 'input_ids', 'attention_mask']"
            ]
          },
          "metadata": {},
          "execution_count": 27
        }
      ]
    },
    {
      "cell_type": "code",
      "source": [
        "tokenized_datasets['dev'][20]"
      ],
      "metadata": {
        "colab": {
          "base_uri": "https://localhost:8080/"
        },
        "id": "D3rawFweYlva",
        "outputId": "bb7ecb3c-5d0d-40c8-84eb-7ce130586f93"
      },
      "execution_count": 28,
      "outputs": [
        {
          "output_type": "execute_result",
          "data": {
            "text/plain": [
              "{'description': 'อยากให้ช่วยตัดแต่งต้นไม้',\n",
              " 'label': 0,\n",
              " 'input_ids': [5, 4422, 189, 600, 1159, 2414, 6],\n",
              " 'attention_mask': [1, 1, 1, 1, 1, 1, 1]}"
            ]
          },
          "metadata": {},
          "execution_count": 28
        }
      ]
    },
    {
      "cell_type": "code",
      "source": [
        "samples = tokenized_datasets[\"train\"][:8]\n",
        "samples = {k: v for k, v in samples.items() if k != 'description'}\n",
        "[len(x) for x in samples[\"input_ids\"]]"
      ],
      "metadata": {
        "colab": {
          "base_uri": "https://localhost:8080/"
        },
        "id": "PJMOOAnkdb6F",
        "outputId": "5f5b2038-e9ee-4792-bad2-94425dd15510"
      },
      "execution_count": 29,
      "outputs": [
        {
          "output_type": "execute_result",
          "data": {
            "text/plain": [
              "[72, 14, 52, 18, 11, 23, 22, 39]"
            ]
          },
          "metadata": {},
          "execution_count": 29
        }
      ]
    },
    {
      "cell_type": "code",
      "source": [
        "batch = data_collator(samples)\n",
        "{k: v.shape for k, v in batch.items()}"
      ],
      "metadata": {
        "colab": {
          "base_uri": "https://localhost:8080/"
        },
        "id": "rDJWaJx5Wp5-",
        "outputId": "56aae262-51c9-42dd-bb32-96580ad0fa51"
      },
      "execution_count": 30,
      "outputs": [
        {
          "output_type": "execute_result",
          "data": {
            "text/plain": [
              "{'input_ids': torch.Size([8, 72]),\n",
              " 'attention_mask': torch.Size([8, 72]),\n",
              " 'labels': torch.Size([8])}"
            ]
          },
          "metadata": {},
          "execution_count": 30
        }
      ]
    },
    {
      "cell_type": "code",
      "source": [
        "args = TrainingArguments(\n",
        "    output_dir=model_name,\n",
        "    learning_rate=5e-5,\n",
        "    per_device_train_batch_size=64,\n",
        "    per_device_eval_batch_size=64,\n",
        "    num_train_epochs=30,\n",
        "    load_best_model_at_end=True,\n",
        "    metric_for_best_model='accuracy',\n",
        "    evaluation_strategy='steps',\n",
        "    eval_steps=25,\n",
        "    logging_steps=25,\n",
        "    save_strategy='steps'\n",
        ")\n",
        "\n",
        "def compute_metrics(eval_preds):\n",
        "  metric = evaluate.load(\"accuracy\")\n",
        "  logits, labels = eval_preds\n",
        "  predictions = np.argmax(logits, axis=-1)\n",
        "  return metric.compute(predictions=predictions, references=labels)\n",
        "\n",
        "trainer = Trainer(\n",
        "    model,\n",
        "    args,\n",
        "    train_dataset=tokenized_datasets[\"train\"],\n",
        "    eval_dataset=tokenized_datasets[\"dev\"],\n",
        "    data_collator=data_collator,\n",
        "    tokenizer=tokenizer,\n",
        "    compute_metrics=compute_metrics\n",
        ")"
      ],
      "metadata": {
        "id": "rNvdI9HBnJ1K",
        "colab": {
          "base_uri": "https://localhost:8080/"
        },
        "outputId": "24a4515e-0eda-4750-a868-3f18bc02150e"
      },
      "execution_count": 45,
      "outputs": [
        {
          "output_type": "stream",
          "name": "stderr",
          "text": [
            "/usr/local/lib/python3.10/dist-packages/transformers/training_args.py:1575: FutureWarning: `evaluation_strategy` is deprecated and will be removed in version 4.46 of 🤗 Transformers. Use `eval_strategy` instead\n",
            "  warnings.warn(\n",
            "<ipython-input-45-e41f4616323a>:21: FutureWarning: `tokenizer` is deprecated and will be removed in version 5.0.0 for `Trainer.__init__`. Use `processing_class` instead.\n",
            "  trainer = Trainer(\n"
          ]
        }
      ]
    },
    {
      "cell_type": "markdown",
      "source": [
        "### Model Training"
      ],
      "metadata": {
        "id": "j6qA66wuncQP"
      }
    },
    {
      "cell_type": "code",
      "source": [
        "trainer.train()"
      ],
      "metadata": {
        "id": "FvbMWigKOGw7",
        "colab": {
          "base_uri": "https://localhost:8080/",
          "height": 1000,
          "referenced_widgets": [
            "75a278890faa4ebfac3f078ae1f87006",
            "4cf569170ff64cfab61734d3b56156fb",
            "b938d92f424f4ee1bc8ce427c47ddc5c",
            "eb50df58bd5c489e97f50a8940c2d9ad",
            "35c89e088a584b719b21715b72544f84",
            "1089d17e3ece46fdaf92ef6f608af67c",
            "8a96dfb4750b4f85b0b69d58351e5301",
            "2d6a6aabac544fc28a9c80609b2dfff7",
            "8bd35782b9764fca87033126196978e0",
            "3d1ec6458bf44ffa8c73a7dc3166ccff",
            "8156c49ddfd044abbf3b892022928cdb"
          ]
        },
        "outputId": "30cae01b-9c13-4628-ec28-efa3e66be916"
      },
      "execution_count": 46,
      "outputs": [
        {
          "output_type": "display_data",
          "data": {
            "text/plain": [
              "<IPython.core.display.HTML object>"
            ],
            "text/html": [
              "\n",
              "    <div>\n",
              "      \n",
              "      <progress value='840' max='840' style='width:300px; height:20px; vertical-align: middle;'></progress>\n",
              "      [840/840 15:18, Epoch 30/30]\n",
              "    </div>\n",
              "    <table border=\"1\" class=\"dataframe\">\n",
              "  <thead>\n",
              " <tr style=\"text-align: left;\">\n",
              "      <th>Step</th>\n",
              "      <th>Training Loss</th>\n",
              "      <th>Validation Loss</th>\n",
              "      <th>Accuracy</th>\n",
              "    </tr>\n",
              "  </thead>\n",
              "  <tbody>\n",
              "    <tr>\n",
              "      <td>25</td>\n",
              "      <td>0.778700</td>\n",
              "      <td>0.938702</td>\n",
              "      <td>0.743119</td>\n",
              "    </tr>\n",
              "    <tr>\n",
              "      <td>50</td>\n",
              "      <td>0.635500</td>\n",
              "      <td>0.855353</td>\n",
              "      <td>0.761468</td>\n",
              "    </tr>\n",
              "    <tr>\n",
              "      <td>75</td>\n",
              "      <td>0.401400</td>\n",
              "      <td>0.784773</td>\n",
              "      <td>0.791284</td>\n",
              "    </tr>\n",
              "    <tr>\n",
              "      <td>100</td>\n",
              "      <td>0.283000</td>\n",
              "      <td>0.819012</td>\n",
              "      <td>0.795872</td>\n",
              "    </tr>\n",
              "    <tr>\n",
              "      <td>125</td>\n",
              "      <td>0.175700</td>\n",
              "      <td>0.816985</td>\n",
              "      <td>0.793578</td>\n",
              "    </tr>\n",
              "    <tr>\n",
              "      <td>150</td>\n",
              "      <td>0.137500</td>\n",
              "      <td>0.866081</td>\n",
              "      <td>0.793578</td>\n",
              "    </tr>\n",
              "    <tr>\n",
              "      <td>175</td>\n",
              "      <td>0.094200</td>\n",
              "      <td>0.855807</td>\n",
              "      <td>0.807339</td>\n",
              "    </tr>\n",
              "    <tr>\n",
              "      <td>200</td>\n",
              "      <td>0.062800</td>\n",
              "      <td>0.874134</td>\n",
              "      <td>0.805046</td>\n",
              "    </tr>\n",
              "    <tr>\n",
              "      <td>225</td>\n",
              "      <td>0.047300</td>\n",
              "      <td>0.941414</td>\n",
              "      <td>0.793578</td>\n",
              "    </tr>\n",
              "    <tr>\n",
              "      <td>250</td>\n",
              "      <td>0.033400</td>\n",
              "      <td>1.020859</td>\n",
              "      <td>0.793578</td>\n",
              "    </tr>\n",
              "    <tr>\n",
              "      <td>275</td>\n",
              "      <td>0.021200</td>\n",
              "      <td>1.028625</td>\n",
              "      <td>0.791284</td>\n",
              "    </tr>\n",
              "    <tr>\n",
              "      <td>300</td>\n",
              "      <td>0.017500</td>\n",
              "      <td>1.039244</td>\n",
              "      <td>0.788991</td>\n",
              "    </tr>\n",
              "    <tr>\n",
              "      <td>325</td>\n",
              "      <td>0.014200</td>\n",
              "      <td>1.078380</td>\n",
              "      <td>0.782110</td>\n",
              "    </tr>\n",
              "    <tr>\n",
              "      <td>350</td>\n",
              "      <td>0.012200</td>\n",
              "      <td>1.110929</td>\n",
              "      <td>0.795872</td>\n",
              "    </tr>\n",
              "    <tr>\n",
              "      <td>375</td>\n",
              "      <td>0.014200</td>\n",
              "      <td>1.132741</td>\n",
              "      <td>0.788991</td>\n",
              "    </tr>\n",
              "    <tr>\n",
              "      <td>400</td>\n",
              "      <td>0.010400</td>\n",
              "      <td>1.110723</td>\n",
              "      <td>0.786697</td>\n",
              "    </tr>\n",
              "    <tr>\n",
              "      <td>425</td>\n",
              "      <td>0.011400</td>\n",
              "      <td>1.132185</td>\n",
              "      <td>0.779817</td>\n",
              "    </tr>\n",
              "    <tr>\n",
              "      <td>450</td>\n",
              "      <td>0.011100</td>\n",
              "      <td>1.167769</td>\n",
              "      <td>0.791284</td>\n",
              "    </tr>\n",
              "    <tr>\n",
              "      <td>475</td>\n",
              "      <td>0.008000</td>\n",
              "      <td>1.148673</td>\n",
              "      <td>0.798165</td>\n",
              "    </tr>\n",
              "    <tr>\n",
              "      <td>500</td>\n",
              "      <td>0.006800</td>\n",
              "      <td>1.190729</td>\n",
              "      <td>0.791284</td>\n",
              "    </tr>\n",
              "    <tr>\n",
              "      <td>525</td>\n",
              "      <td>0.009700</td>\n",
              "      <td>1.182697</td>\n",
              "      <td>0.788991</td>\n",
              "    </tr>\n",
              "    <tr>\n",
              "      <td>550</td>\n",
              "      <td>0.006200</td>\n",
              "      <td>1.213044</td>\n",
              "      <td>0.779817</td>\n",
              "    </tr>\n",
              "    <tr>\n",
              "      <td>575</td>\n",
              "      <td>0.004900</td>\n",
              "      <td>1.207945</td>\n",
              "      <td>0.795872</td>\n",
              "    </tr>\n",
              "    <tr>\n",
              "      <td>600</td>\n",
              "      <td>0.007500</td>\n",
              "      <td>1.223200</td>\n",
              "      <td>0.791284</td>\n",
              "    </tr>\n",
              "    <tr>\n",
              "      <td>625</td>\n",
              "      <td>0.008200</td>\n",
              "      <td>1.206992</td>\n",
              "      <td>0.791284</td>\n",
              "    </tr>\n",
              "    <tr>\n",
              "      <td>650</td>\n",
              "      <td>0.005900</td>\n",
              "      <td>1.208738</td>\n",
              "      <td>0.786697</td>\n",
              "    </tr>\n",
              "    <tr>\n",
              "      <td>675</td>\n",
              "      <td>0.007800</td>\n",
              "      <td>1.215338</td>\n",
              "      <td>0.786697</td>\n",
              "    </tr>\n",
              "    <tr>\n",
              "      <td>700</td>\n",
              "      <td>0.004700</td>\n",
              "      <td>1.236542</td>\n",
              "      <td>0.786697</td>\n",
              "    </tr>\n",
              "    <tr>\n",
              "      <td>725</td>\n",
              "      <td>0.004600</td>\n",
              "      <td>1.237177</td>\n",
              "      <td>0.782110</td>\n",
              "    </tr>\n",
              "    <tr>\n",
              "      <td>750</td>\n",
              "      <td>0.004500</td>\n",
              "      <td>1.240237</td>\n",
              "      <td>0.788991</td>\n",
              "    </tr>\n",
              "    <tr>\n",
              "      <td>775</td>\n",
              "      <td>0.007200</td>\n",
              "      <td>1.237571</td>\n",
              "      <td>0.786697</td>\n",
              "    </tr>\n",
              "    <tr>\n",
              "      <td>800</td>\n",
              "      <td>0.003700</td>\n",
              "      <td>1.236335</td>\n",
              "      <td>0.786697</td>\n",
              "    </tr>\n",
              "    <tr>\n",
              "      <td>825</td>\n",
              "      <td>0.005000</td>\n",
              "      <td>1.237208</td>\n",
              "      <td>0.786697</td>\n",
              "    </tr>\n",
              "  </tbody>\n",
              "</table><p>"
            ]
          },
          "metadata": {}
        },
        {
          "output_type": "display_data",
          "data": {
            "text/plain": [
              "Downloading builder script:   0%|          | 0.00/4.20k [00:00<?, ?B/s]"
            ],
            "application/vnd.jupyter.widget-view+json": {
              "version_major": 2,
              "version_minor": 0,
              "model_id": "75a278890faa4ebfac3f078ae1f87006"
            }
          },
          "metadata": {}
        },
        {
          "output_type": "stream",
          "name": "stderr",
          "text": [
            "Could not locate the best model at clicknext/phayathaibert/checkpoint-175/pytorch_model.bin, if you are running a distributed training on multiple nodes, you should activate `--save_on_each_node`.\n"
          ]
        },
        {
          "output_type": "execute_result",
          "data": {
            "text/plain": [
              "TrainOutput(global_step=840, training_loss=0.08508210414133612, metrics={'train_runtime': 919.5848, 'train_samples_per_second': 56.895, 'train_steps_per_second': 0.913, 'total_flos': 2259598886903808.0, 'train_loss': 0.08508210414133612, 'epoch': 30.0})"
            ]
          },
          "metadata": {},
          "execution_count": 46
        }
      ]
    },
    {
      "cell_type": "code",
      "source": [
        "trainer.state.log_history"
      ],
      "metadata": {
        "colab": {
          "base_uri": "https://localhost:8080/"
        },
        "id": "nDNid_ixZact",
        "outputId": "e46017f3-b3bb-4c8d-d5c3-0b6fd7df5484"
      },
      "execution_count": 47,
      "outputs": [
        {
          "output_type": "execute_result",
          "data": {
            "text/plain": [
              "[{'loss': 0.7787,\n",
              "  'grad_norm': 4.143901824951172,\n",
              "  'learning_rate': 4.8511904761904764e-05,\n",
              "  'epoch': 0.8928571428571429,\n",
              "  'step': 25},\n",
              " {'eval_loss': 0.9387015700340271,\n",
              "  'eval_accuracy': 0.7431192660550459,\n",
              "  'eval_runtime': 3.5213,\n",
              "  'eval_samples_per_second': 123.818,\n",
              "  'eval_steps_per_second': 1.988,\n",
              "  'epoch': 0.8928571428571429,\n",
              "  'step': 25},\n",
              " {'loss': 0.6355,\n",
              "  'grad_norm': 3.4662156105041504,\n",
              "  'learning_rate': 4.7023809523809525e-05,\n",
              "  'epoch': 1.7857142857142856,\n",
              "  'step': 50},\n",
              " {'eval_loss': 0.8553534150123596,\n",
              "  'eval_accuracy': 0.7614678899082569,\n",
              "  'eval_runtime': 3.074,\n",
              "  'eval_samples_per_second': 141.834,\n",
              "  'eval_steps_per_second': 2.277,\n",
              "  'epoch': 1.7857142857142856,\n",
              "  'step': 50},\n",
              " {'loss': 0.4014,\n",
              "  'grad_norm': 3.6840438842773438,\n",
              "  'learning_rate': 4.5535714285714286e-05,\n",
              "  'epoch': 2.678571428571429,\n",
              "  'step': 75},\n",
              " {'eval_loss': 0.7847728133201599,\n",
              "  'eval_accuracy': 0.7912844036697247,\n",
              "  'eval_runtime': 3.1312,\n",
              "  'eval_samples_per_second': 139.245,\n",
              "  'eval_steps_per_second': 2.236,\n",
              "  'epoch': 2.678571428571429,\n",
              "  'step': 75},\n",
              " {'loss': 0.283,\n",
              "  'grad_norm': 5.640783309936523,\n",
              "  'learning_rate': 4.404761904761905e-05,\n",
              "  'epoch': 3.571428571428571,\n",
              "  'step': 100},\n",
              " {'eval_loss': 0.8190122842788696,\n",
              "  'eval_accuracy': 0.7958715596330275,\n",
              "  'eval_runtime': 3.5561,\n",
              "  'eval_samples_per_second': 122.606,\n",
              "  'eval_steps_per_second': 1.968,\n",
              "  'epoch': 3.571428571428571,\n",
              "  'step': 100},\n",
              " {'loss': 0.1757,\n",
              "  'grad_norm': 1.5746573209762573,\n",
              "  'learning_rate': 4.255952380952381e-05,\n",
              "  'epoch': 4.464285714285714,\n",
              "  'step': 125},\n",
              " {'eval_loss': 0.8169849514961243,\n",
              "  'eval_accuracy': 0.7935779816513762,\n",
              "  'eval_runtime': 3.1758,\n",
              "  'eval_samples_per_second': 137.288,\n",
              "  'eval_steps_per_second': 2.204,\n",
              "  'epoch': 4.464285714285714,\n",
              "  'step': 125},\n",
              " {'loss': 0.1375,\n",
              "  'grad_norm': 3.696098566055298,\n",
              "  'learning_rate': 4.107142857142857e-05,\n",
              "  'epoch': 5.357142857142857,\n",
              "  'step': 150},\n",
              " {'eval_loss': 0.8660805821418762,\n",
              "  'eval_accuracy': 0.7935779816513762,\n",
              "  'eval_runtime': 3.2469,\n",
              "  'eval_samples_per_second': 134.284,\n",
              "  'eval_steps_per_second': 2.156,\n",
              "  'epoch': 5.357142857142857,\n",
              "  'step': 150},\n",
              " {'loss': 0.0942,\n",
              "  'grad_norm': 3.279224395751953,\n",
              "  'learning_rate': 3.958333333333333e-05,\n",
              "  'epoch': 6.25,\n",
              "  'step': 175},\n",
              " {'eval_loss': 0.8558072447776794,\n",
              "  'eval_accuracy': 0.8073394495412844,\n",
              "  'eval_runtime': 3.1689,\n",
              "  'eval_samples_per_second': 137.586,\n",
              "  'eval_steps_per_second': 2.209,\n",
              "  'epoch': 6.25,\n",
              "  'step': 175},\n",
              " {'loss': 0.0628,\n",
              "  'grad_norm': 1.4213563203811646,\n",
              "  'learning_rate': 3.809523809523809e-05,\n",
              "  'epoch': 7.142857142857143,\n",
              "  'step': 200},\n",
              " {'eval_loss': 0.8741341233253479,\n",
              "  'eval_accuracy': 0.805045871559633,\n",
              "  'eval_runtime': 3.2057,\n",
              "  'eval_samples_per_second': 136.006,\n",
              "  'eval_steps_per_second': 2.184,\n",
              "  'epoch': 7.142857142857143,\n",
              "  'step': 200},\n",
              " {'loss': 0.0473,\n",
              "  'grad_norm': 0.26658639311790466,\n",
              "  'learning_rate': 3.6607142857142853e-05,\n",
              "  'epoch': 8.035714285714286,\n",
              "  'step': 225},\n",
              " {'eval_loss': 0.9414141774177551,\n",
              "  'eval_accuracy': 0.7935779816513762,\n",
              "  'eval_runtime': 3.203,\n",
              "  'eval_samples_per_second': 136.122,\n",
              "  'eval_steps_per_second': 2.185,\n",
              "  'epoch': 8.035714285714286,\n",
              "  'step': 225},\n",
              " {'loss': 0.0334,\n",
              "  'grad_norm': 0.2455315887928009,\n",
              "  'learning_rate': 3.511904761904762e-05,\n",
              "  'epoch': 8.928571428571429,\n",
              "  'step': 250},\n",
              " {'eval_loss': 1.020858645439148,\n",
              "  'eval_accuracy': 0.7935779816513762,\n",
              "  'eval_runtime': 3.4828,\n",
              "  'eval_samples_per_second': 125.188,\n",
              "  'eval_steps_per_second': 2.01,\n",
              "  'epoch': 8.928571428571429,\n",
              "  'step': 250},\n",
              " {'loss': 0.0212,\n",
              "  'grad_norm': 0.4373999536037445,\n",
              "  'learning_rate': 3.363095238095238e-05,\n",
              "  'epoch': 9.821428571428571,\n",
              "  'step': 275},\n",
              " {'eval_loss': 1.0286247730255127,\n",
              "  'eval_accuracy': 0.7912844036697247,\n",
              "  'eval_runtime': 3.2362,\n",
              "  'eval_samples_per_second': 134.725,\n",
              "  'eval_steps_per_second': 2.163,\n",
              "  'epoch': 9.821428571428571,\n",
              "  'step': 275},\n",
              " {'loss': 0.0175,\n",
              "  'grad_norm': 0.3167545199394226,\n",
              "  'learning_rate': 3.2142857142857144e-05,\n",
              "  'epoch': 10.714285714285714,\n",
              "  'step': 300},\n",
              " {'eval_loss': 1.0392436981201172,\n",
              "  'eval_accuracy': 0.7889908256880734,\n",
              "  'eval_runtime': 3.2514,\n",
              "  'eval_samples_per_second': 134.096,\n",
              "  'eval_steps_per_second': 2.153,\n",
              "  'epoch': 10.714285714285714,\n",
              "  'step': 300},\n",
              " {'loss': 0.0142,\n",
              "  'grad_norm': 0.7159404158592224,\n",
              "  'learning_rate': 3.0654761904761905e-05,\n",
              "  'epoch': 11.607142857142858,\n",
              "  'step': 325},\n",
              " {'eval_loss': 1.0783801078796387,\n",
              "  'eval_accuracy': 0.7821100917431193,\n",
              "  'eval_runtime': 3.2188,\n",
              "  'eval_samples_per_second': 135.456,\n",
              "  'eval_steps_per_second': 2.175,\n",
              "  'epoch': 11.607142857142858,\n",
              "  'step': 325},\n",
              " {'loss': 0.0122,\n",
              "  'grad_norm': 0.06754423677921295,\n",
              "  'learning_rate': 2.916666666666667e-05,\n",
              "  'epoch': 12.5,\n",
              "  'step': 350},\n",
              " {'eval_loss': 1.1109285354614258,\n",
              "  'eval_accuracy': 0.7958715596330275,\n",
              "  'eval_runtime': 3.2571,\n",
              "  'eval_samples_per_second': 133.862,\n",
              "  'eval_steps_per_second': 2.149,\n",
              "  'epoch': 12.5,\n",
              "  'step': 350},\n",
              " {'loss': 0.0142,\n",
              "  'grad_norm': 0.08403787761926651,\n",
              "  'learning_rate': 2.767857142857143e-05,\n",
              "  'epoch': 13.392857142857142,\n",
              "  'step': 375},\n",
              " {'eval_loss': 1.1327413320541382,\n",
              "  'eval_accuracy': 0.7889908256880734,\n",
              "  'eval_runtime': 3.2962,\n",
              "  'eval_samples_per_second': 132.272,\n",
              "  'eval_steps_per_second': 2.124,\n",
              "  'epoch': 13.392857142857142,\n",
              "  'step': 375},\n",
              " {'loss': 0.0104,\n",
              "  'grad_norm': 0.1956479400396347,\n",
              "  'learning_rate': 2.6190476190476192e-05,\n",
              "  'epoch': 14.285714285714286,\n",
              "  'step': 400},\n",
              " {'eval_loss': 1.1107228994369507,\n",
              "  'eval_accuracy': 0.786697247706422,\n",
              "  'eval_runtime': 3.2963,\n",
              "  'eval_samples_per_second': 132.268,\n",
              "  'eval_steps_per_second': 2.124,\n",
              "  'epoch': 14.285714285714286,\n",
              "  'step': 400},\n",
              " {'loss': 0.0114,\n",
              "  'grad_norm': 0.15210260450839996,\n",
              "  'learning_rate': 2.4702380952380953e-05,\n",
              "  'epoch': 15.178571428571429,\n",
              "  'step': 425},\n",
              " {'eval_loss': 1.1321852207183838,\n",
              "  'eval_accuracy': 0.7798165137614679,\n",
              "  'eval_runtime': 3.3039,\n",
              "  'eval_samples_per_second': 131.964,\n",
              "  'eval_steps_per_second': 2.119,\n",
              "  'epoch': 15.178571428571429,\n",
              "  'step': 425},\n",
              " {'loss': 0.0111,\n",
              "  'grad_norm': 0.32729634642601013,\n",
              "  'learning_rate': 2.3214285714285715e-05,\n",
              "  'epoch': 16.071428571428573,\n",
              "  'step': 450},\n",
              " {'eval_loss': 1.1677693128585815,\n",
              "  'eval_accuracy': 0.7912844036697247,\n",
              "  'eval_runtime': 3.3014,\n",
              "  'eval_samples_per_second': 132.065,\n",
              "  'eval_steps_per_second': 2.12,\n",
              "  'epoch': 16.071428571428573,\n",
              "  'step': 450},\n",
              " {'loss': 0.008,\n",
              "  'grad_norm': 4.377139091491699,\n",
              "  'learning_rate': 2.172619047619048e-05,\n",
              "  'epoch': 16.964285714285715,\n",
              "  'step': 475},\n",
              " {'eval_loss': 1.1486729383468628,\n",
              "  'eval_accuracy': 0.7981651376146789,\n",
              "  'eval_runtime': 3.2749,\n",
              "  'eval_samples_per_second': 133.133,\n",
              "  'eval_steps_per_second': 2.137,\n",
              "  'epoch': 16.964285714285715,\n",
              "  'step': 475},\n",
              " {'loss': 0.0068,\n",
              "  'grad_norm': 0.07760542631149292,\n",
              "  'learning_rate': 2.023809523809524e-05,\n",
              "  'epoch': 17.857142857142858,\n",
              "  'step': 500},\n",
              " {'eval_loss': 1.1907294988632202,\n",
              "  'eval_accuracy': 0.7912844036697247,\n",
              "  'eval_runtime': 3.2801,\n",
              "  'eval_samples_per_second': 132.921,\n",
              "  'eval_steps_per_second': 2.134,\n",
              "  'epoch': 17.857142857142858,\n",
              "  'step': 500},\n",
              " {'loss': 0.0097,\n",
              "  'grad_norm': 0.03476676344871521,\n",
              "  'learning_rate': 1.8750000000000002e-05,\n",
              "  'epoch': 18.75,\n",
              "  'step': 525},\n",
              " {'eval_loss': 1.1826967000961304,\n",
              "  'eval_accuracy': 0.7889908256880734,\n",
              "  'eval_runtime': 3.3473,\n",
              "  'eval_samples_per_second': 130.255,\n",
              "  'eval_steps_per_second': 2.091,\n",
              "  'epoch': 18.75,\n",
              "  'step': 525},\n",
              " {'loss': 0.0062,\n",
              "  'grad_norm': 0.0637676939368248,\n",
              "  'learning_rate': 1.7261904761904763e-05,\n",
              "  'epoch': 19.642857142857142,\n",
              "  'step': 550},\n",
              " {'eval_loss': 1.2130441665649414,\n",
              "  'eval_accuracy': 0.7798165137614679,\n",
              "  'eval_runtime': 3.3064,\n",
              "  'eval_samples_per_second': 131.865,\n",
              "  'eval_steps_per_second': 2.117,\n",
              "  'epoch': 19.642857142857142,\n",
              "  'step': 550},\n",
              " {'loss': 0.0049,\n",
              "  'grad_norm': 0.02980089746415615,\n",
              "  'learning_rate': 1.5773809523809524e-05,\n",
              "  'epoch': 20.535714285714285,\n",
              "  'step': 575},\n",
              " {'eval_loss': 1.2079449892044067,\n",
              "  'eval_accuracy': 0.7958715596330275,\n",
              "  'eval_runtime': 3.2361,\n",
              "  'eval_samples_per_second': 134.728,\n",
              "  'eval_steps_per_second': 2.163,\n",
              "  'epoch': 20.535714285714285,\n",
              "  'step': 575},\n",
              " {'loss': 0.0075,\n",
              "  'grad_norm': 0.028178181499242783,\n",
              "  'learning_rate': 1.4285714285714285e-05,\n",
              "  'epoch': 21.428571428571427,\n",
              "  'step': 600},\n",
              " {'eval_loss': 1.2231999635696411,\n",
              "  'eval_accuracy': 0.7912844036697247,\n",
              "  'eval_runtime': 3.291,\n",
              "  'eval_samples_per_second': 132.481,\n",
              "  'eval_steps_per_second': 2.127,\n",
              "  'epoch': 21.428571428571427,\n",
              "  'step': 600},\n",
              " {'loss': 0.0082,\n",
              "  'grad_norm': 0.03083304688334465,\n",
              "  'learning_rate': 1.2797619047619047e-05,\n",
              "  'epoch': 22.321428571428573,\n",
              "  'step': 625},\n",
              " {'eval_loss': 1.2069919109344482,\n",
              "  'eval_accuracy': 0.7912844036697247,\n",
              "  'eval_runtime': 3.3512,\n",
              "  'eval_samples_per_second': 130.102,\n",
              "  'eval_steps_per_second': 2.089,\n",
              "  'epoch': 22.321428571428573,\n",
              "  'step': 625},\n",
              " {'loss': 0.0059,\n",
              "  'grad_norm': 0.034292519092559814,\n",
              "  'learning_rate': 1.130952380952381e-05,\n",
              "  'epoch': 23.214285714285715,\n",
              "  'step': 650},\n",
              " {'eval_loss': 1.208737850189209,\n",
              "  'eval_accuracy': 0.786697247706422,\n",
              "  'eval_runtime': 3.7205,\n",
              "  'eval_samples_per_second': 117.189,\n",
              "  'eval_steps_per_second': 1.881,\n",
              "  'epoch': 23.214285714285715,\n",
              "  'step': 650},\n",
              " {'loss': 0.0078,\n",
              "  'grad_norm': 0.020824940875172615,\n",
              "  'learning_rate': 9.821428571428573e-06,\n",
              "  'epoch': 24.107142857142858,\n",
              "  'step': 675},\n",
              " {'eval_loss': 1.2153382301330566,\n",
              "  'eval_accuracy': 0.786697247706422,\n",
              "  'eval_runtime': 3.6052,\n",
              "  'eval_samples_per_second': 120.935,\n",
              "  'eval_steps_per_second': 1.942,\n",
              "  'epoch': 24.107142857142858,\n",
              "  'step': 675},\n",
              " {'loss': 0.0047,\n",
              "  'grad_norm': 0.04924887418746948,\n",
              "  'learning_rate': 8.333333333333334e-06,\n",
              "  'epoch': 25.0,\n",
              "  'step': 700},\n",
              " {'eval_loss': 1.2365423440933228,\n",
              "  'eval_accuracy': 0.786697247706422,\n",
              "  'eval_runtime': 3.7334,\n",
              "  'eval_samples_per_second': 116.785,\n",
              "  'eval_steps_per_second': 1.875,\n",
              "  'epoch': 25.0,\n",
              "  'step': 700},\n",
              " {'loss': 0.0046,\n",
              "  'grad_norm': 0.10924635082483292,\n",
              "  'learning_rate': 6.845238095238096e-06,\n",
              "  'epoch': 25.892857142857142,\n",
              "  'step': 725},\n",
              " {'eval_loss': 1.2371770143508911,\n",
              "  'eval_accuracy': 0.7821100917431193,\n",
              "  'eval_runtime': 3.2705,\n",
              "  'eval_samples_per_second': 133.311,\n",
              "  'eval_steps_per_second': 2.14,\n",
              "  'epoch': 25.892857142857142,\n",
              "  'step': 725},\n",
              " {'loss': 0.0045,\n",
              "  'grad_norm': 0.025102442130446434,\n",
              "  'learning_rate': 5.357142857142857e-06,\n",
              "  'epoch': 26.785714285714285,\n",
              "  'step': 750},\n",
              " {'eval_loss': 1.2402369976043701,\n",
              "  'eval_accuracy': 0.7889908256880734,\n",
              "  'eval_runtime': 3.2534,\n",
              "  'eval_samples_per_second': 134.015,\n",
              "  'eval_steps_per_second': 2.152,\n",
              "  'epoch': 26.785714285714285,\n",
              "  'step': 750},\n",
              " {'loss': 0.0072,\n",
              "  'grad_norm': 0.5260127186775208,\n",
              "  'learning_rate': 3.869047619047619e-06,\n",
              "  'epoch': 27.678571428571427,\n",
              "  'step': 775},\n",
              " {'eval_loss': 1.2375706434249878,\n",
              "  'eval_accuracy': 0.786697247706422,\n",
              "  'eval_runtime': 3.2857,\n",
              "  'eval_samples_per_second': 132.695,\n",
              "  'eval_steps_per_second': 2.13,\n",
              "  'epoch': 27.678571428571427,\n",
              "  'step': 775},\n",
              " {'loss': 0.0037,\n",
              "  'grad_norm': 0.03492021933197975,\n",
              "  'learning_rate': 2.3809523809523808e-06,\n",
              "  'epoch': 28.571428571428573,\n",
              "  'step': 800},\n",
              " {'eval_loss': 1.2363351583480835,\n",
              "  'eval_accuracy': 0.786697247706422,\n",
              "  'eval_runtime': 3.2711,\n",
              "  'eval_samples_per_second': 133.288,\n",
              "  'eval_steps_per_second': 2.14,\n",
              "  'epoch': 28.571428571428573,\n",
              "  'step': 800},\n",
              " {'loss': 0.005,\n",
              "  'grad_norm': 0.02804737724363804,\n",
              "  'learning_rate': 8.928571428571428e-07,\n",
              "  'epoch': 29.464285714285715,\n",
              "  'step': 825},\n",
              " {'eval_loss': 1.2372082471847534,\n",
              "  'eval_accuracy': 0.786697247706422,\n",
              "  'eval_runtime': 3.269,\n",
              "  'eval_samples_per_second': 133.372,\n",
              "  'eval_steps_per_second': 2.141,\n",
              "  'epoch': 29.464285714285715,\n",
              "  'step': 825},\n",
              " {'train_runtime': 919.5848,\n",
              "  'train_samples_per_second': 56.895,\n",
              "  'train_steps_per_second': 0.913,\n",
              "  'total_flos': 2259598886903808.0,\n",
              "  'train_loss': 0.08508210414133612,\n",
              "  'epoch': 30.0,\n",
              "  'step': 840}]"
            ]
          },
          "metadata": {},
          "execution_count": 47
        }
      ]
    },
    {
      "cell_type": "markdown",
      "source": [
        "### Model Prediction"
      ],
      "metadata": {
        "id": "y6fp4UwJnmbf"
      }
    },
    {
      "cell_type": "code",
      "source": [
        "predictions = trainer.predict(tokenized_datasets['test'])\n",
        "preds = np.argmax(predictions.predictions, axis=-1)"
      ],
      "metadata": {
        "id": "5lyJD3g4jaPp",
        "colab": {
          "base_uri": "https://localhost:8080/",
          "height": 16
        },
        "outputId": "7d012af9-bb6e-4250-c108-350f38973863"
      },
      "execution_count": 48,
      "outputs": [
        {
          "output_type": "display_data",
          "data": {
            "text/plain": [
              "<IPython.core.display.HTML object>"
            ],
            "text/html": []
          },
          "metadata": {}
        }
      ]
    },
    {
      "cell_type": "code",
      "source": [
        "predictions"
      ],
      "metadata": {
        "colab": {
          "base_uri": "https://localhost:8080/"
        },
        "id": "Isvwb-_xFjFZ",
        "outputId": "8814254e-f9a8-45b6-c1de-b8f7d1b49e76"
      },
      "execution_count": 49,
      "outputs": [
        {
          "output_type": "execute_result",
          "data": {
            "text/plain": [
              "PredictionOutput(predictions=array([[-1.8009758 ,  0.88118297,  0.3940311 , ..., -1.6380907 ,\n",
              "         0.29685265, -1.0417296 ],\n",
              "       [-0.30523074, -0.5558791 , -0.6638932 , ...,  0.3785733 ,\n",
              "        -0.6440258 ,  0.4720932 ],\n",
              "       [-0.90033144, -0.67674303, -1.5807276 , ..., -1.1940634 ,\n",
              "         0.49447882, -1.1701545 ],\n",
              "       ...,\n",
              "       [-0.51520437, -0.5965246 , -0.98297155, ...,  0.55377406,\n",
              "        -1.0963734 , -0.38794452],\n",
              "       [ 0.9323996 , -0.95629895, -0.26779884, ...,  2.2815347 ,\n",
              "        -0.60402036,  0.13504615],\n",
              "       [-1.5371363 , -0.5828512 , -1.3406914 , ..., -2.0282154 ,\n",
              "        -0.6428914 , -1.1384333 ]], dtype=float32), label_ids=array([17, 16, 15, 25, 16, 25,  4, 25, 17,  6,  9, 26, 14, 15, 23, 25,  5,\n",
              "       25, 25, 26,  6,  5, 14, 22, 20, 20, 10,  7, 25, 21, 12,  0, 14, 22,\n",
              "        5,  9,  4, 27, 16, 14, 24,  4,  9,  9, 22,  4, 10,  9,  9, 25, 10,\n",
              "       26, 22,  0, 17,  4, 18, 27,  0,  6,  6, 25,  7, 21,  7, 14, 15, 11,\n",
              "        7, 13, 27, 24,  7, 25,  4,  0, 10, 13,  5, 16, 12, 27, 24,  9, 16,\n",
              "        3,  7, 22,  0, 22,  5,  3, 21, 26, 10,  3, 16,  0, 12, 26, 10, 23,\n",
              "        9, 16, 27, 27,  4,  9, 26, 14, 11, 27, 12,  2,  0, 17, 11, 22, 25,\n",
              "        0,  9,  2, 18, 10, 13, 18,  3,  5, 26, 18,  9, 11,  4, 26, 24, 24,\n",
              "       15, 25,  1, 26, 10,  5, 16, 16,  1, 15, 20, 26,  7, 12,  0, 18, 12,\n",
              "        3, 16, 22,  4, 27, 17, 25, 15, 25, 25,  4,  1, 25, 10,  0, 25,  5,\n",
              "       23,  4, 26, 21, 25, 24, 20,  3,  3, 19, 16,  0, 11, 20,  0, 16, 18,\n",
              "        0,  0,  4, 24, 17, 19,  0, 12,  8, 22,  0, 18, 12, 17, 13, 22, 16,\n",
              "        4, 23, 11, 26,  0, 21, 22,  0,  5, 20,  7, 24,  0,  7, 16,  9, 14,\n",
              "       18, 26,  2,  9, 20, 20, 19, 12, 16, 22, 16,  9, 20, 26,  3,  4, 18,\n",
              "        1, 20, 24, 10, 24,  4, 18, 16, 27, 12,  9, 25, 13, 27, 18, 24, 15,\n",
              "       11, 26,  9, 18, 16, 19, 12,  7, 24,  7,  6, 22,  5, 26, 25,  1, 24,\n",
              "        0, 10, 17,  1,  0, 24, 15, 26,  7, 24, 16,  4, 16, 23,  3,  9, 12,\n",
              "       16, 27, 17, 12, 25, 27,  8, 23,  0, 27, 12, 18,  5,  1, 27, 18, 20,\n",
              "       22, 22, 17, 22, 15, 16, 19,  0, 13,  9, 17, 11, 16, 15, 16,  5, 11,\n",
              "       27, 16,  1, 14, 10,  5, 18, 13, 17, 25,  1,  0,  0, 10, 17, 20,  5,\n",
              "        7,  9,  9, 24,  5, 26,  9, 15,  8,  0,  4,  0, 27, 10, 20, 24, 16,\n",
              "        5, 27, 12,  8, 14,  9,  0, 16,  9, 12,  8,  2, 16, 10, 26,  9,  9,\n",
              "       16, 17, 21, 12, 17, 17, 12, 14,  9,  9, 24, 21, 21, 12,  6,  4, 16,\n",
              "        5, 23,  0, 25,  1, 18,  7,  3, 11,  9, 23, 19, 18,  5, 22,  9, 26,\n",
              "       24, 12, 16, 23,  0,  7,  9, 24, 11, 10,  8, 18, 16, 22, 23, 21, 24,\n",
              "       27,  0, 23, 12,  0, 23, 12,  5, 25, 18, 27, 18, 21,  6, 15,  3, 26,\n",
              "       25, 21, 24, 26, 10, 22, 23,  0,  2, 18,  7,  0,  7, 26,  9, 10, 26,\n",
              "        6, 15,  5,  0, 14, 27, 26,  3,  7,  9,  0, 26,  5,  9, 27, 26,  0,\n",
              "       26, 23, 18, 25,  7,  7, 12, 16, 26, 27, 20, 27,  5, 16,  9,  0, 27,\n",
              "        0, 23,  0, 18, 23, 11, 16, 15,  9, 19, 13,  9, 16, 17,  1,  3, 14,\n",
              "        5, 11, 18, 17,  1,  4,  9, 26, 24, 20, 12, 23, 21, 25, 24, 20, 25,\n",
              "       18, 18,  1,  4,  4,  9, 23, 15, 16, 17, 26, 26,  0, 15, 23,  7, 20,\n",
              "       20, 18]), metrics={'test_loss': 1.1838983297348022, 'test_accuracy': 0.8095238095238095, 'test_runtime': 3.5379, 'test_samples_per_second': 154.328, 'test_steps_per_second': 2.544})"
            ]
          },
          "metadata": {},
          "execution_count": 49
        }
      ]
    },
    {
      "cell_type": "code",
      "source": [
        "predictions.predictions"
      ],
      "metadata": {
        "colab": {
          "base_uri": "https://localhost:8080/"
        },
        "id": "JbrGoBYuF11r",
        "outputId": "f44ac17c-0cf9-4e2f-e925-2b70666e709f"
      },
      "execution_count": 50,
      "outputs": [
        {
          "output_type": "execute_result",
          "data": {
            "text/plain": [
              "array([[-1.8009758 ,  0.88118297,  0.3940311 , ..., -1.6380907 ,\n",
              "         0.29685265, -1.0417296 ],\n",
              "       [-0.30523074, -0.5558791 , -0.6638932 , ...,  0.3785733 ,\n",
              "        -0.6440258 ,  0.4720932 ],\n",
              "       [-0.90033144, -0.67674303, -1.5807276 , ..., -1.1940634 ,\n",
              "         0.49447882, -1.1701545 ],\n",
              "       ...,\n",
              "       [-0.51520437, -0.5965246 , -0.98297155, ...,  0.55377406,\n",
              "        -1.0963734 , -0.38794452],\n",
              "       [ 0.9323996 , -0.95629895, -0.26779884, ...,  2.2815347 ,\n",
              "        -0.60402036,  0.13504615],\n",
              "       [-1.5371363 , -0.5828512 , -1.3406914 , ..., -2.0282154 ,\n",
              "        -0.6428914 , -1.1384333 ]], dtype=float32)"
            ]
          },
          "metadata": {},
          "execution_count": 50
        }
      ]
    },
    {
      "cell_type": "code",
      "source": [
        "predicted_labels = [labels[x] for x in preds]\n",
        "gold = [labels[x] for x in predictions.label_ids]"
      ],
      "metadata": {
        "id": "s2bSHMnFQe-3"
      },
      "execution_count": 51,
      "outputs": []
    },
    {
      "cell_type": "markdown",
      "source": [
        "### Test-topk-accuracy"
      ],
      "metadata": {
        "id": "kNun0o7c8VsT"
      }
    },
    {
      "cell_type": "code",
      "source": [
        "\n",
        "\n",
        "test_results = predictions\n",
        "labels_id = test_results.label_ids\n",
        "\n",
        "y_pred_pt = torch.from_numpy(test_results.predictions)\n",
        "probs = nn.functional.softmax(y_pred_pt, dim=-1)\n",
        "\n",
        "# Get top-k probabilities and indices (let's say k=3 for example)\n",
        "k = 3\n",
        "topk_probabilities, topk_indices = torch.topk(probs, k, dim=1)"
      ],
      "metadata": {
        "id": "OsgByyN0HLRB"
      },
      "execution_count": 52,
      "outputs": []
    },
    {
      "cell_type": "code",
      "source": [
        "def topk_compute(k, probs):\n",
        "  topk_probabilities, topk_indices = torch.topk(probs, k, dim=1)\n",
        "  topk_pred_lst = [[labels[id] for id in sublist] for sublist in topk_indices.numpy()]\n",
        "\n",
        "  eval_data = {\"gold-label\": gold, \"topk-pred\":topk_pred_lst}\n",
        "  eval_df = pd.DataFrame(eval_data)\n",
        "\n",
        "  deemed_correct = [1 if gold in pred else 0 for pred, gold in zip(eval_df['topk-pred'], eval_df['gold-label'])]\n",
        "  eval_df['deemed-correct'] = deemed_correct\n",
        "\n",
        "  topk_acc = len(eval_df[eval_df['deemed-correct'] == 1])/len(eval_df)\n",
        "\n",
        "  print(f\"Top {k} accuracy is {topk_acc}\")"
      ],
      "metadata": {
        "id": "5oBFYdb7n7Lw"
      },
      "execution_count": 53,
      "outputs": []
    },
    {
      "cell_type": "code",
      "source": [
        "for i in range(1, 8):\n",
        "  topk_compute(i, probs)\n"
      ],
      "metadata": {
        "colab": {
          "base_uri": "https://localhost:8080/"
        },
        "id": "Waw7Bzb6QtDQ",
        "outputId": "94d349b0-b06b-4d02-dfcf-86ac90d292d2"
      },
      "execution_count": 54,
      "outputs": [
        {
          "output_type": "stream",
          "name": "stdout",
          "text": [
            "Top 1 accuracy is 0.8095238095238095\n",
            "Top 2 accuracy is 0.8901098901098901\n",
            "Top 3 accuracy is 0.9212454212454212\n",
            "Top 4 accuracy is 0.9358974358974359\n",
            "Top 5 accuracy is 0.9432234432234432\n",
            "Top 6 accuracy is 0.945054945054945\n",
            "Top 7 accuracy is 0.9468864468864469\n"
          ]
        }
      ]
    },
    {
      "cell_type": "markdown",
      "source": [
        "### Test-1-accuracy"
      ],
      "metadata": {
        "id": "SjuvyYL5OQVt"
      }
    },
    {
      "cell_type": "code",
      "source": [
        "preds = np.argmax(predictions.predictions, axis=-1)"
      ],
      "metadata": {
        "id": "M9tGMR-r8Jn-"
      },
      "execution_count": 55,
      "outputs": []
    },
    {
      "cell_type": "code",
      "source": [
        "print(classification_report(gold, predicted_labels))"
      ],
      "metadata": {
        "id": "F-T2jDIPs5Yv",
        "colab": {
          "base_uri": "https://localhost:8080/"
        },
        "outputId": "dda26c2e-8146-44cc-e2de-9224ba168222"
      },
      "execution_count": 56,
      "outputs": [
        {
          "output_type": "stream",
          "name": "stdout",
          "text": [
            "                                     precision    recall  f1-score   support\n",
            "\n",
            "                     ('ขยะ', 'ขยะ')       0.96      0.82      0.88        28\n",
            "             ('ขยะ', 'น้ำเน่าเสีย')       0.82      0.75      0.78        12\n",
            "               ('ถนน', 'ทางม้าลาย')       0.84      1.00      0.91        32\n",
            "        ('ถนน', 'ท่อระบายน้ำบนถนน')       0.50      0.50      0.50        12\n",
            "         ('ถนน', 'พื้นผิวถนนชำรุด')       0.62      0.85      0.72        27\n",
            "            ('ถนน', 'รถจอดขวางถนน')       0.40      0.50      0.44        16\n",
            "        ('ทางเท้า', 'ทางเท้าชำรุด')       0.82      0.58      0.68        24\n",
            "('ทางเท้า', 'ท่อระบายน้ำบนทางเท้า')       0.68      0.71      0.70        21\n",
            "    ('ทางเท้า', 'รถจอดขวางทางเท้า')       0.75      0.92      0.83        13\n",
            "        ('ทางเท้า', 'หาบเร่แผงลอย')       0.57      0.67      0.62         6\n",
            "     ('ไฟฟ้า', 'เสาไฟฟ้า&สายไฟฟ้า')       0.60      0.60      0.60         5\n",
            "           ('ไฟฟ้า', 'ไฟส่องสว่าง')       0.88      0.79      0.83        19\n",
            "                             reject       0.91      0.79      0.85        38\n",
            "              กรุงเทพโปร่งใส&ทุจริต       0.89      0.62      0.73        13\n",
            "    การเข้าถึงของคนพิการ&ผู้สูงอายุ       0.88      0.92      0.90        24\n",
            "                    คนไร้บ้าน&ขอทาน       0.97      1.00      0.99        37\n",
            "                              จราจร       0.57      0.54      0.55        24\n",
            "                             ต้นไม้       0.93      1.00      0.96        41\n",
            "                            น้ำท่วม       0.86      0.57      0.69        21\n",
            "                              ประปา       0.67      0.77      0.71        13\n",
            "                     มลภาวะทางอากาศ       0.80      0.89      0.84        18\n",
            "                          รถสาธารณะ       0.93      0.72      0.81        18\n",
            "                     วินมอเตอร์ไซค์       1.00      0.62      0.77         8\n",
            "                         สวนสาธารณะ       0.90      0.95      0.92        19\n",
            "                              สัตว์       0.96      1.00      0.98        23\n",
            "                  อาคารสถานที่ชำรุด       0.75      0.86      0.80         7\n",
            "                       อุปกรณ์ชำรุด       0.67      0.75      0.71         8\n",
            "                              เสียง       0.95      0.95      0.95        19\n",
            "\n",
            "                           accuracy                           0.81       546\n",
            "                          macro avg       0.79      0.77      0.77       546\n",
            "                       weighted avg       0.82      0.81      0.81       546\n",
            "\n"
          ]
        }
      ]
    },
    {
      "cell_type": "markdown",
      "source": [
        "### Top-1-accuracy with super label"
      ],
      "metadata": {
        "id": "HEC1jeuNRw1S"
      }
    },
    {
      "cell_type": "code",
      "source": [
        "pattern = r\"\\('([ก-์]+)'\"\n",
        "super_gold = [re.match(pattern, label).group(1) if re.match(pattern, label) else label for label in gold]\n",
        "super_pred_labels = [re.match(pattern, label).group(1) if re.match(pattern, label) else label for label in predicted_labels]\n"
      ],
      "metadata": {
        "id": "ReATB7EOpp-B"
      },
      "execution_count": 57,
      "outputs": []
    },
    {
      "cell_type": "code",
      "source": [
        "print(classification_report(super_gold, super_pred_labels))"
      ],
      "metadata": {
        "colab": {
          "base_uri": "https://localhost:8080/"
        },
        "id": "7YLSG9gsrqzO",
        "outputId": "03562146-7ec7-48c1-94ab-f097b2bf2d65"
      },
      "execution_count": 58,
      "outputs": [
        {
          "output_type": "stream",
          "name": "stdout",
          "text": [
            "                                 precision    recall  f1-score   support\n",
            "\n",
            "                         reject       0.91      0.79      0.85        38\n",
            "          กรุงเทพโปร่งใส&ทุจริต       0.89      0.62      0.73        13\n",
            "การเข้าถึงของคนพิการ&ผู้สูงอายุ       0.88      0.92      0.90        24\n",
            "                            ขยะ       0.94      0.82      0.88        40\n",
            "                คนไร้บ้าน&ขอทาน       0.97      1.00      0.99        37\n",
            "                          จราจร       0.57      0.54      0.55        24\n",
            "                         ต้นไม้       0.93      1.00      0.96        41\n",
            "                            ถนน       0.67      0.83      0.74        87\n",
            "                        ทางเท้า       0.79      0.77      0.78        64\n",
            "                        น้ำท่วม       0.86      0.57      0.69        21\n",
            "                          ประปา       0.67      0.77      0.71        13\n",
            "                 มลภาวะทางอากาศ       0.80      0.89      0.84        18\n",
            "                      รถสาธารณะ       0.93      0.72      0.81        18\n",
            "                 วินมอเตอร์ไซค์       1.00      0.62      0.77         8\n",
            "                     สวนสาธารณะ       0.90      0.95      0.92        19\n",
            "                          สัตว์       0.96      1.00      0.98        23\n",
            "              อาคารสถานที่ชำรุด       0.75      0.86      0.80         7\n",
            "                   อุปกรณ์ชำรุด       0.67      0.75      0.71         8\n",
            "                          เสียง       0.95      0.95      0.95        19\n",
            "                          ไฟฟ้า       0.86      0.79      0.83        24\n",
            "\n",
            "                       accuracy                           0.83       546\n",
            "                      macro avg       0.84      0.81      0.82       546\n",
            "                   weighted avg       0.84      0.83      0.83       546\n",
            "\n"
          ]
        }
      ]
    },
    {
      "cell_type": "markdown",
      "source": [
        "# Save model"
      ],
      "metadata": {
        "id": "1e63sJnfVn01"
      }
    },
    {
      "cell_type": "code",
      "source": [
        "trainer.save_model(\"./model-marong\")"
      ],
      "metadata": {
        "id": "abGbhNENQ2IP"
      },
      "execution_count": 61,
      "outputs": []
    },
    {
      "cell_type": "code",
      "source": [
        "tokenizer.save_pretrained(\"./model-marong\")"
      ],
      "metadata": {
        "id": "A5lSRvXVVTAP",
        "outputId": "8b410e94-3e74-46f3-d52d-330a594b2b2d",
        "colab": {
          "base_uri": "https://localhost:8080/"
        }
      },
      "execution_count": 62,
      "outputs": [
        {
          "output_type": "execute_result",
          "data": {
            "text/plain": [
              "('./model-marong/tokenizer_config.json',\n",
              " './model-marong/special_tokens_map.json',\n",
              " './model-marong/sentencepiece.bpe.model',\n",
              " './model-marong/added_tokens.json',\n",
              " './model-marong/tokenizer.json')"
            ]
          },
          "metadata": {},
          "execution_count": 62
        }
      ]
    },
    {
      "cell_type": "code",
      "source": [
        "labels"
      ],
      "metadata": {
        "colab": {
          "base_uri": "https://localhost:8080/"
        },
        "id": "2zcIuvj0iMFi",
        "outputId": "a023acb7-6341-43d1-a6c7-6cd62af29c72"
      },
      "execution_count": 72,
      "outputs": [
        {
          "output_type": "execute_result",
          "data": {
            "text/plain": [
              "['ต้นไม้',\n",
              " \"('ทางเท้า', 'รถจอดขวางทางเท้า')\",\n",
              " \"('ไฟฟ้า', 'เสาไฟฟ้า&สายไฟฟ้า')\",\n",
              " 'ประปา',\n",
              " \"('ทางเท้า', 'ท่อระบายน้ำบนทางเท้า')\",\n",
              " 'สัตว์',\n",
              " 'อุปกรณ์ชำรุด',\n",
              " 'น้ำท่วม',\n",
              " \"('ทางเท้า', 'หาบเร่แผงลอย')\",\n",
              " 'reject',\n",
              " 'รถสาธารณะ',\n",
              " 'กรุงเทพโปร่งใส&ทุจริต',\n",
              " 'จราจร',\n",
              " 'วินมอเตอร์ไซค์',\n",
              " \"('ถนน', 'ท่อระบายน้ำบนถนน')\",\n",
              " \"('ถนน', 'รถจอดขวางถนน')\",\n",
              " 'คนไร้บ้าน&ขอทาน',\n",
              " \"('ไฟฟ้า', 'ไฟส่องสว่าง')\",\n",
              " \"('ถนน', 'พื้นผิวถนนชำรุด')\",\n",
              " 'อาคารสถานที่ชำรุด',\n",
              " 'มลภาวะทางอากาศ',\n",
              " \"('ขยะ', 'น้ำเน่าเสีย')\",\n",
              " 'สวนสาธารณะ',\n",
              " 'เสียง',\n",
              " \"('ทางเท้า', 'ทางเท้าชำรุด')\",\n",
              " \"('ขยะ', 'ขยะ')\",\n",
              " \"('ถนน', 'ทางม้าลาย')\",\n",
              " 'การเข้าถึงของคนพิการ&ผู้สูงอายุ']"
            ]
          },
          "metadata": {},
          "execution_count": 72
        }
      ]
    },
    {
      "cell_type": "markdown",
      "source": [
        "# Model simulation"
      ],
      "metadata": {
        "id": "jOC7uDt_Meua"
      }
    },
    {
      "cell_type": "code",
      "source": [
        "model_name = \"/content/model-marong\""
      ],
      "metadata": {
        "id": "b_VUnxuyhCki"
      },
      "execution_count": 73,
      "outputs": []
    },
    {
      "cell_type": "code",
      "source": [
        "input_text = 'อันตรายมาก ทางข้ามถนนโรงเรียน สงสารเด็ก'"
      ],
      "metadata": {
        "id": "GDVi3blzrSRp"
      },
      "execution_count": 74,
      "outputs": []
    },
    {
      "cell_type": "markdown",
      "source": [
        "## Test model output"
      ],
      "metadata": {
        "id": "k8C2Dn0UjlXg"
      }
    },
    {
      "cell_type": "code",
      "source": [
        "model = pipeline(model=model_name,\n",
        "                    tokenizer=model_name,\n",
        "                    task=\"text-classification\")"
      ],
      "metadata": {
        "colab": {
          "base_uri": "https://localhost:8080/"
        },
        "id": "sDeU3IXPbEoA",
        "outputId": "a2df1734-d671-44dd-b5cb-134d32732097"
      },
      "execution_count": 75,
      "outputs": [
        {
          "output_type": "stream",
          "name": "stderr",
          "text": [
            "Device set to use cuda:0\n"
          ]
        }
      ]
    },
    {
      "cell_type": "code",
      "source": [
        "result = model(input_text, top_k=4)"
      ],
      "metadata": {
        "id": "Ch1zjwIirfP1"
      },
      "execution_count": 76,
      "outputs": []
    },
    {
      "cell_type": "code",
      "source": [
        "labels = ['ต้นไม้',\n",
        " \"('ทางเท้า', 'รถจอดขวางทางเท้า')\",\n",
        " \"('ไฟฟ้า', 'เสาไฟฟ้า&สายไฟฟ้า')\",\n",
        " 'ประปา',\n",
        " \"('ทางเท้า', 'ท่อระบายน้ำบนทางเท้า')\",\n",
        " 'สัตว์',\n",
        " 'อุปกรณ์ชำรุด',\n",
        " 'น้ำท่วม',\n",
        " \"('ทางเท้า', 'หาบเร่แผงลอย')\",\n",
        " 'reject',\n",
        " 'รถสาธารณะ',\n",
        " 'กรุงเทพโปร่งใส&ทุจริต',\n",
        " 'จราจร',\n",
        " 'วินมอเตอร์ไซค์',\n",
        " \"('ถนน', 'ท่อระบายน้ำบนถนน')\",\n",
        " \"('ถนน', 'รถจอดขวางถนน')\",\n",
        " 'คนไร้บ้าน&ขอทาน',\n",
        " \"('ไฟฟ้า', 'ไฟส่องสว่าง')\",\n",
        " \"('ถนน', 'พื้นผิวถนนชำรุด')\",\n",
        " 'อาคารสถานที่ชำรุด',\n",
        " 'มลภาวะทางอากาศ',\n",
        " \"('ขยะ', 'น้ำเน่าเสีย')\",\n",
        " 'สวนสาธารณะ',\n",
        " 'เสียง',\n",
        " \"('ทางเท้า', 'ทางเท้าชำรุด')\",\n",
        " \"('ขยะ', 'ขยะ')\",\n",
        " \"('ถนน', 'ทางม้าลาย')\",\n",
        " 'การเข้าถึงของคนพิการ&ผู้สูงอายุ']"
      ],
      "metadata": {
        "id": "KG-a7DJoMrw1"
      },
      "execution_count": 79,
      "outputs": []
    },
    {
      "cell_type": "code",
      "source": [
        "predicted_label_index = int(result[0]['label'].split(\"_\")[1])\n",
        "predicted_label = labels[predicted_label_index]\n",
        "print(predicted_label)"
      ],
      "metadata": {
        "colab": {
          "base_uri": "https://localhost:8080/"
        },
        "id": "a-pQvhQMrfqc",
        "outputId": "2e19de9f-6efd-4977-c305-be617e1053cf"
      },
      "execution_count": 84,
      "outputs": [
        {
          "output_type": "stream",
          "name": "stdout",
          "text": [
            "('ถนน', 'ทางม้าลาย')\n"
          ]
        }
      ]
    },
    {
      "cell_type": "markdown",
      "source": [
        "# Save the model"
      ],
      "metadata": {
        "id": "cKm98ySACK-I"
      }
    },
    {
      "cell_type": "code",
      "source": [
        "from google.colab import drive\n",
        "drive.mount('/content/drive')"
      ],
      "metadata": {
        "colab": {
          "base_uri": "https://localhost:8080/"
        },
        "id": "obTew69mCHpa",
        "outputId": "a213bfd9-15f1-44a1-aaa9-bfad6a45953d"
      },
      "execution_count": 86,
      "outputs": [
        {
          "output_type": "stream",
          "name": "stdout",
          "text": [
            "Mounted at /content/drive\n"
          ]
        }
      ]
    },
    {
      "cell_type": "code",
      "source": [
        "!cp -r /content/model-marong /content/drive/MyDrive/Marong"
      ],
      "metadata": {
        "id": "O-K3DdAiCII8"
      },
      "execution_count": 88,
      "outputs": []
    },
    {
      "cell_type": "code",
      "source": [],
      "metadata": {
        "id": "u3Y7ddrwChyF"
      },
      "execution_count": null,
      "outputs": []
    }
  ]
}